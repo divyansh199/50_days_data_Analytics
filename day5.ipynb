{
 "cells": [
  {
   "cell_type": "markdown",
   "id": "873a7117",
   "metadata": {},
   "source": [
    "# day5"
   ]
  },
  {
   "cell_type": "code",
   "execution_count": null,
   "id": "14aa6544",
   "metadata": {},
   "outputs": [],
   "source": [
    "Day 5: Array Creation and Vector Operations In this challenge, you will create a 2-dimensional array, analyze and perform vector operations on the array, and slice numbers from the array. list_numbers = [[12, 23, -45], [18, -77, -44]] Using NumPy, create an array from the list. Write a code to return all the negative numbers in the list.  Using NumPy, write code to multiply each element in the array you created in question 1 by 2. Create a new variable for this array.  Write code to calculate the sum of the numbers on axis-1 of the array you created in question 2.  Write code to calculate the sum of numbers on axis-0 of the array you created in question 2.  Using the NumPy arange() function, create a NumPy array of numbers from 0 to 99. The shape of the array must be (2, 5, 10).  Write code to slice row [50, 51, 52, 53, 54, 55, 56, 57, 58, 59] from the array above (question 5).  Let’s analyze the array you created in question 1 further. How many numbers in row 1 are greater than the numbers in row 2?"
   ]
  },
  {
   "cell_type": "code",
   "execution_count": 2,
   "id": "c704260c",
   "metadata": {},
   "outputs": [],
   "source": [
    "import numpy as np"
   ]
  },
  {
   "cell_type": "code",
   "execution_count": 3,
   "id": "3787de51",
   "metadata": {},
   "outputs": [],
   "source": [
    "l = [[12,23,-45],[18,-77,-44]]"
   ]
  },
  {
   "cell_type": "code",
   "execution_count": 4,
   "id": "0b14d315",
   "metadata": {},
   "outputs": [
    {
     "data": {
      "text/plain": [
       "array([[ 12,  23, -45],\n",
       "       [ 18, -77, -44]])"
      ]
     },
     "execution_count": 4,
     "metadata": {},
     "output_type": "execute_result"
    }
   ],
   "source": [
    "arr = np.array(l)\n",
    "arr"
   ]
  },
  {
   "cell_type": "code",
   "execution_count": 5,
   "id": "8a78757e",
   "metadata": {},
   "outputs": [
    {
     "data": {
      "text/plain": [
       "1"
      ]
     },
     "execution_count": 5,
     "metadata": {},
     "output_type": "execute_result"
    }
   ],
   "source": [
    "y = np.where(arr[0,::1] > arr[1,::1])\n",
    "len(y)"
   ]
  },
  {
   "cell_type": "code",
   "execution_count": 13,
   "id": "6cbfd0bd",
   "metadata": {},
   "outputs": [
    {
     "data": {
      "text/plain": [
       "1"
      ]
     },
     "execution_count": 13,
     "metadata": {},
     "output_type": "execute_result"
    }
   ],
   "source": [
    "first_row = arr[0]\n",
    "second_row = arr[1]\n",
    "grater_c = np.greater(first_row,second_row)\n",
    "grater_c = np.sum(grater_c)\n",
    "grater_c # sum only sums true value"
   ]
  },
  {
   "cell_type": "code",
   "execution_count": 75,
   "id": "9c65afcc",
   "metadata": {},
   "outputs": [
    {
     "data": {
      "text/plain": [
       "array([[ 12,  23, -45,  18, -77, -44]])"
      ]
     },
     "execution_count": 75,
     "metadata": {},
     "output_type": "execute_result"
    }
   ],
   "source": [
    "k = np.reshape(arr,(1,6))\n",
    "k.shape\n",
    "k"
   ]
  },
  {
   "cell_type": "code",
   "execution_count": 62,
   "id": "02f6ac78",
   "metadata": {},
   "outputs": [],
   "source": [
    "k = k.tolist()"
   ]
  },
  {
   "cell_type": "code",
   "execution_count": 63,
   "id": "02fb515e",
   "metadata": {},
   "outputs": [
    {
     "data": {
      "text/plain": [
       "[12, 23, -45, 18, -77, -44]"
      ]
     },
     "execution_count": 63,
     "metadata": {},
     "output_type": "execute_result"
    }
   ],
   "source": [
    "k"
   ]
  },
  {
   "cell_type": "code",
   "execution_count": 14,
   "id": "9f8ea628",
   "metadata": {},
   "outputs": [],
   "source": [
    "b = list()\n",
    "for i in range(len(k)):\n",
    "    if k[i] < 0:\n",
    "        b.append(k[i])\n",
    "\n",
    "        "
   ]
  },
  {
   "cell_type": "code",
   "execution_count": 15,
   "id": "401d1f16",
   "metadata": {},
   "outputs": [
    {
     "data": {
      "text/plain": [
       "[-45, -77, -44]"
      ]
     },
     "execution_count": 15,
     "metadata": {},
     "output_type": "execute_result"
    }
   ],
   "source": [
    "b"
   ]
  },
  {
   "cell_type": "code",
   "execution_count": 45,
   "id": "86731129",
   "metadata": {},
   "outputs": [],
   "source": [
    "modi_arr = np.array(b)"
   ]
  },
  {
   "cell_type": "code",
   "execution_count": 46,
   "id": "917f8ac4",
   "metadata": {},
   "outputs": [
    {
     "data": {
      "text/plain": [
       "array([-45, -77, -44])"
      ]
     },
     "execution_count": 46,
     "metadata": {},
     "output_type": "execute_result"
    }
   ],
   "source": [
    "modi_arr"
   ]
  },
  {
   "cell_type": "code",
   "execution_count": 52,
   "id": "79a7ffd8",
   "metadata": {},
   "outputs": [
    {
     "data": {
      "text/plain": [
       "(3,)"
      ]
     },
     "execution_count": 52,
     "metadata": {},
     "output_type": "execute_result"
    }
   ],
   "source": [
    "multi_2 = modi_arr *2\n",
    "k = multi_2\n",
    "k.shape"
   ]
  },
  {
   "cell_type": "code",
   "execution_count": 51,
   "id": "ecd3ec83",
   "metadata": {},
   "outputs": [
    {
     "data": {
      "text/plain": [
       "-332"
      ]
     },
     "execution_count": 51,
     "metadata": {},
     "output_type": "execute_result"
    }
   ],
   "source": [
    "m = np.sum(multi_2,axis = 0)\n",
    "m"
   ]
  },
  {
   "cell_type": "code",
   "execution_count": 27,
   "id": "e35a3210",
   "metadata": {},
   "outputs": [],
   "source": [
    "sum_ar = np.sum(multi_2,axis=0)"
   ]
  },
  {
   "cell_type": "code",
   "execution_count": 22,
   "id": "50da3b87",
   "metadata": {},
   "outputs": [
    {
     "data": {
      "text/plain": [
       "-332"
      ]
     },
     "execution_count": 22,
     "metadata": {},
     "output_type": "execute_result"
    }
   ],
   "source": [
    "sum_ar"
   ]
  },
  {
   "cell_type": "code",
   "execution_count": 85,
   "id": "a12347c4",
   "metadata": {},
   "outputs": [],
   "source": [
    "aran = np.arange(0,100,1)"
   ]
  },
  {
   "cell_type": "code",
   "execution_count": 86,
   "id": "d5e4a48b",
   "metadata": {},
   "outputs": [
    {
     "data": {
      "text/plain": [
       "array([ 0,  1,  2,  3,  4,  5,  6,  7,  8,  9, 10, 11, 12, 13, 14, 15, 16,\n",
       "       17, 18, 19, 20, 21, 22, 23, 24, 25, 26, 27, 28, 29, 30, 31, 32, 33,\n",
       "       34, 35, 36, 37, 38, 39, 40, 41, 42, 43, 44, 45, 46, 47, 48, 49, 50,\n",
       "       51, 52, 53, 54, 55, 56, 57, 58, 59, 60, 61, 62, 63, 64, 65, 66, 67,\n",
       "       68, 69, 70, 71, 72, 73, 74, 75, 76, 77, 78, 79, 80, 81, 82, 83, 84,\n",
       "       85, 86, 87, 88, 89, 90, 91, 92, 93, 94, 95, 96, 97, 98, 99])"
      ]
     },
     "execution_count": 86,
     "metadata": {},
     "output_type": "execute_result"
    }
   ],
   "source": [
    "aran"
   ]
  },
  {
   "cell_type": "code",
   "execution_count": 84,
   "id": "bf05675e",
   "metadata": {},
   "outputs": [
    {
     "data": {
      "text/plain": [
       "99"
      ]
     },
     "execution_count": 84,
     "metadata": {},
     "output_type": "execute_result"
    }
   ],
   "source": [
    "aran.size"
   ]
  },
  {
   "cell_type": "code",
   "execution_count": 88,
   "id": "28ac5b69",
   "metadata": {},
   "outputs": [
    {
     "data": {
      "text/plain": [
       "array([[[ 0,  1,  2,  3,  4,  5,  6,  7,  8,  9],\n",
       "        [10, 11, 12, 13, 14, 15, 16, 17, 18, 19],\n",
       "        [20, 21, 22, 23, 24, 25, 26, 27, 28, 29],\n",
       "        [30, 31, 32, 33, 34, 35, 36, 37, 38, 39],\n",
       "        [40, 41, 42, 43, 44, 45, 46, 47, 48, 49]],\n",
       "\n",
       "       [[50, 51, 52, 53, 54, 55, 56, 57, 58, 59],\n",
       "        [60, 61, 62, 63, 64, 65, 66, 67, 68, 69],\n",
       "        [70, 71, 72, 73, 74, 75, 76, 77, 78, 79],\n",
       "        [80, 81, 82, 83, 84, 85, 86, 87, 88, 89],\n",
       "        [90, 91, 92, 93, 94, 95, 96, 97, 98, 99]]])"
      ]
     },
     "execution_count": 88,
     "metadata": {},
     "output_type": "execute_result"
    }
   ],
   "source": [
    "re_sp = np.reshape(aran,(2,5,10))\n",
    "re_sp"
   ]
  },
  {
   "cell_type": "code",
   "execution_count": 91,
   "id": "049587e3",
   "metadata": {},
   "outputs": [
    {
     "data": {
      "text/plain": [
       "array([50, 51, 52, 53, 54, 55, 56, 57, 58, 59])"
      ]
     },
     "execution_count": 91,
     "metadata": {},
     "output_type": "execute_result"
    }
   ],
   "source": [
    "re_sp[1,0,::1]"
   ]
  },
  {
   "cell_type": "code",
   "execution_count": null,
   "id": "750f7326",
   "metadata": {},
   "outputs": [],
   "source": []
  }
 ],
 "metadata": {
  "kernelspec": {
   "display_name": "Python 3 (ipykernel)",
   "language": "python",
   "name": "python3"
  },
  "language_info": {
   "codemirror_mode": {
    "name": "ipython",
    "version": 3
   },
   "file_extension": ".py",
   "mimetype": "text/x-python",
   "name": "python",
   "nbconvert_exporter": "python",
   "pygments_lexer": "ipython3",
   "version": "3.11.5"
  }
 },
 "nbformat": 4,
 "nbformat_minor": 5
}
