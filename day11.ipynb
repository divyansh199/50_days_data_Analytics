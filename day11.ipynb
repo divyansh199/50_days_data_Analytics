{
 "cells": [
  {
   "cell_type": "markdown",
   "id": "5305082c",
   "metadata": {},
   "source": [
    "# day11"
   ]
  },
  {
   "cell_type": "code",
   "execution_count": 4,
   "id": "6f2d7b4b",
   "metadata": {},
   "outputs": [],
   "source": [
    "import numpy as np"
   ]
  },
  {
   "cell_type": "code",
   "execution_count": 5,
   "id": "275a57a1",
   "metadata": {},
   "outputs": [],
   "source": [
    "list1 = [\"34\", \"name\",  \"45\",  \"is\",  \"100\"]\n",
    "arr = np.array(list1)"
   ]
  },
  {
   "cell_type": "code",
   "execution_count": 6,
   "id": "312c475e",
   "metadata": {},
   "outputs": [],
   "source": [
    "k = [ f\"{x}\" for x in arr if not x.isdigit()]"
   ]
  },
  {
   "cell_type": "raw",
   "id": "44575e9f",
   "metadata": {},
   "source": [
    "alternate way"
   ]
  },
  {
   "cell_type": "code",
   "execution_count": 7,
   "id": "0e9497fd",
   "metadata": {},
   "outputs": [],
   "source": [
    "non_numeric = list(filter(lambda x: not np.char.isnumeric(x), arr))"
   ]
  },
  {
   "cell_type": "code",
   "execution_count": 8,
   "id": "13d918f9",
   "metadata": {},
   "outputs": [
    {
     "data": {
      "text/plain": [
       "['name', 'is']"
      ]
     },
     "execution_count": 8,
     "metadata": {},
     "output_type": "execute_result"
    }
   ],
   "source": [
    "non_numeric"
   ]
  },
  {
   "cell_type": "code",
   "execution_count": 9,
   "id": "dab8d202",
   "metadata": {},
   "outputs": [],
   "source": [
    "n =  [ int(x) for x in arr if x.isdigit()]"
   ]
  },
  {
   "cell_type": "code",
   "execution_count": 10,
   "id": "80b2107b",
   "metadata": {},
   "outputs": [
    {
     "data": {
      "text/plain": [
       "[34, 45, 100]"
      ]
     },
     "execution_count": 10,
     "metadata": {},
     "output_type": "execute_result"
    }
   ],
   "source": [
    "n\n"
   ]
  },
  {
   "cell_type": "code",
   "execution_count": 11,
   "id": "0b0e00ba",
   "metadata": {},
   "outputs": [],
   "source": [
    "z = np.array(n,dtype=int)"
   ]
  },
  {
   "cell_type": "code",
   "execution_count": 12,
   "id": "9094a797",
   "metadata": {},
   "outputs": [
    {
     "data": {
      "text/plain": [
       "array([ 34,  45, 100])"
      ]
     },
     "execution_count": 12,
     "metadata": {},
     "output_type": "execute_result"
    }
   ],
   "source": [
    "z"
   ]
  },
  {
   "cell_type": "code",
   "execution_count": 13,
   "id": "c7e3889b",
   "metadata": {},
   "outputs": [],
   "source": [
    "tot = np.sum(z)"
   ]
  },
  {
   "cell_type": "code",
   "execution_count": 14,
   "id": "b8dddb1e",
   "metadata": {},
   "outputs": [
    {
     "data": {
      "text/plain": [
       "179"
      ]
     },
     "execution_count": 14,
     "metadata": {},
     "output_type": "execute_result"
    }
   ],
   "source": [
    "tot"
   ]
  },
  {
   "cell_type": "code",
   "execution_count": 15,
   "id": "f3b149e5",
   "metadata": {},
   "outputs": [],
   "source": [
    "pow = np.power(z,2)"
   ]
  },
  {
   "cell_type": "code",
   "execution_count": 16,
   "id": "c4af98df",
   "metadata": {},
   "outputs": [
    {
     "data": {
      "text/plain": [
       "array([ 1156,  2025, 10000], dtype=int32)"
      ]
     },
     "execution_count": 16,
     "metadata": {},
     "output_type": "execute_result"
    }
   ],
   "source": [
    "pow"
   ]
  },
  {
   "cell_type": "code",
   "execution_count": 17,
   "id": "fe7951f0",
   "metadata": {},
   "outputs": [],
   "source": [
    "student_id = [1,2,3,4,5,6,7,8,9,10]"
   ]
  },
  {
   "cell_type": "code",
   "execution_count": 18,
   "id": "5707bb13",
   "metadata": {},
   "outputs": [],
   "source": [
    "attendance = [85,92,70,95,80,60,90,75,65,100]\n",
    "final_exame_score= [85,89,65,56,66,50,85,70,55,100]"
   ]
  },
  {
   "cell_type": "code",
   "execution_count": 24,
   "id": "98ad1276",
   "metadata": {},
   "outputs": [],
   "source": [
    "ar = np.array([student_id,attendance,final_exame_score])"
   ]
  },
  {
   "cell_type": "code",
   "execution_count": 25,
   "id": "a1f4c7cb",
   "metadata": {},
   "outputs": [
    {
     "data": {
      "text/plain": [
       "array([[  1,   2,   3,   4,   5,   6,   7,   8,   9,  10],\n",
       "       [ 85,  92,  70,  95,  80,  60,  90,  75,  65, 100],\n",
       "       [ 85,  89,  65,  56,  66,  50,  85,  70,  55, 100]])"
      ]
     },
     "execution_count": 25,
     "metadata": {},
     "output_type": "execute_result"
    }
   ],
   "source": [
    "ar"
   ]
  },
  {
   "cell_type": "code",
   "execution_count": 84,
   "id": "50605a52",
   "metadata": {},
   "outputs": [],
   "source": [
    "import matplotlib.pyplot as plt"
   ]
  },
  {
   "cell_type": "code",
   "execution_count": 85,
   "id": "7ded53dc",
   "metadata": {},
   "outputs": [
    {
     "data": {
      "text/plain": [
       "<Figure size 1200x800 with 0 Axes>"
      ]
     },
     "execution_count": 85,
     "metadata": {},
     "output_type": "execute_result"
    },
    {
     "data": {
      "text/plain": [
       "<Figure size 1200x800 with 0 Axes>"
      ]
     },
     "metadata": {},
     "output_type": "display_data"
    }
   ],
   "source": [
    "plt.figure(figsize=(12,8))"
   ]
  },
  {
   "cell_type": "code",
   "execution_count": 88,
   "id": "8e68e384",
   "metadata": {},
   "outputs": [
    {
     "data": {
      "text/plain": [
       "Text(0.5, 1.0, 'attendance and final score analysis')"
      ]
     },
     "execution_count": 88,
     "metadata": {},
     "output_type": "execute_result"
    },
    {
     "data": {
      "image/png": "[encoded data removed]",
      "text/plain": [
       "<Figure size 640x480 with 1 Axes>"
      ]
     },
     "metadata": {},
     "output_type": "display_data"
    }
   ],
   "source": [
    "plt.scatter(ar[2:3,0:], ar[1:2,0:])\n",
    "plt.xlabel(\"final exam score\")\n",
    "plt.ylabel(\"attendance record\")\n",
    "plt.title(\"attendance and final score analysis\")"
   ]
  },
  {
   "cell_type": "code",
   "execution_count": null,
   "id": "b0308b91",
   "metadata": {},
   "outputs": [],
   "source": [
    "\n"
   ]
  }
 ],
 "metadata": {
  "kernelspec": {
   "display_name": "Python 3 (ipykernel)",
   "language": "python",
   "name": "python3"
  },
  "language_info": {
   "codemirror_mode": {
    "name": "ipython",
    "version": 3
   },
   "file_extension": ".py",
   "mimetype": "text/x-python",
   "name": "python",
   "nbconvert_exporter": "python",
   "pygments_lexer": "ipython3",
   "version": "3.11.5"
  }
 },
 "nbformat": 4,
 "nbformat_minor": 5
}
