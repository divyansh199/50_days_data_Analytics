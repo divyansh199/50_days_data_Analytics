{
 "cells": [
  {
   "cell_type": "markdown",
   "id": "a02bfd4f",
   "metadata": {},
   "source": [
    "# day7"
   ]
  },
  {
   "cell_type": "code",
   "execution_count": null,
   "id": "cd856980",
   "metadata": {},
   "outputs": [],
   "source": [
    "The ability to transpose and swap arrays is important for manipulating and analyzing data, performing matrix operations, cleaning and sorting data, and visualizing data. By mastering these skills,\n",
    "you can improve your data manipulation and analysis capabilities and work more efficiently with arrays. Using the arange() function, create an array of numbers from 0 and 10. The shape of the array\n",
    "must be (2, 5).  Write a code to change the shape of the array (question 1) to (5, 2). Create a new variable for this array. Now, add this array to the original array in question 1. The resulting \n",
    "array should have shapes (2, 5). Save this as a variable.  Swap the indexes of the array (question 2) using the swapaxis() method. Create a new variable for the swapped array.  Write a code to \n",
    "slice row 1 from the swapped array in question 3.  You are given the following data:Each row in the \"goals\" list represents the goals scored by each player in the last 5 seasons. For example,\n",
    "Robin’s goals are [12, 15, 16, 15, 13] and he plays for \"Man UTD,\" and Leo's are [26, 30, 31, 25, 24] and he plays for \"Barca.\" Using NumPy, Seaborn, and Matplotlib, create a heatmap \n",
    "of the goals and calculate the gradient of the data. Annotate your heat map. The x-ticks will be the names of the players, and the y-ticks will be the teams of the players.\n",
    "    "
   ]
  },
  {
   "cell_type": "code",
   "execution_count": 3,
   "id": "fe3cf2c5",
   "metadata": {},
   "outputs": [],
   "source": [
    "import numpy as np"
   ]
  },
  {
   "cell_type": "code",
   "execution_count": 9,
   "id": "170af41f",
   "metadata": {},
   "outputs": [],
   "source": [
    "a = np.arange(0,10,1)"
   ]
  },
  {
   "cell_type": "code",
   "execution_count": 10,
   "id": "5c3da1fa",
   "metadata": {},
   "outputs": [
    {
     "data": {
      "text/plain": [
       "array([0, 1, 2, 3, 4, 5, 6, 7, 8, 9])"
      ]
     },
     "execution_count": 10,
     "metadata": {},
     "output_type": "execute_result"
    }
   ],
   "source": [
    "a"
   ]
  },
  {
   "cell_type": "code",
   "execution_count": 39,
   "id": "c5c50333",
   "metadata": {},
   "outputs": [
    {
     "data": {
      "text/plain": [
       "array([[0, 1, 2, 3, 4],\n",
       "       [5, 6, 7, 8, 9]])"
      ]
     },
     "execution_count": 39,
     "metadata": {},
     "output_type": "execute_result"
    }
   ],
   "source": [
    "b = np.reshape(a,(2,5))\n",
    "\n",
    "b"
   ]
  },
  {
   "cell_type": "code",
   "execution_count": 13,
   "id": "011b792f",
   "metadata": {},
   "outputs": [],
   "source": [
    "c = np.reshape(b,(5,2))"
   ]
  },
  {
   "cell_type": "code",
   "execution_count": 14,
   "id": "240c01c8",
   "metadata": {},
   "outputs": [
    {
     "data": {
      "text/plain": [
       "array([[0, 1],\n",
       "       [2, 3],\n",
       "       [4, 5],\n",
       "       [6, 7],\n",
       "       [8, 9]])"
      ]
     },
     "execution_count": 14,
     "metadata": {},
     "output_type": "execute_result"
    }
   ],
   "source": [
    "c"
   ]
  },
  {
   "cell_type": "code",
   "execution_count": 40,
   "id": "c643bf07",
   "metadata": {},
   "outputs": [],
   "source": [
    "d = np.sum((b,c.transpose()) , axis=0) "
   ]
  },
  {
   "cell_type": "code",
   "execution_count": 49,
   "id": "2a43b37b",
   "metadata": {},
   "outputs": [
    {
     "data": {
      "text/plain": [
       "array([[ 0,  3,  6,  9, 12],\n",
       "       [ 6,  9, 12, 15, 18]])"
      ]
     },
     "execution_count": 49,
     "metadata": {},
     "output_type": "execute_result"
    }
   ],
   "source": [
    "d"
   ]
  },
  {
   "cell_type": "code",
   "execution_count": 52,
   "id": "1e4ff3ee",
   "metadata": {},
   "outputs": [],
   "source": [
    "e = np.swapaxes(d , 0 , 1)"
   ]
  },
  {
   "cell_type": "code",
   "execution_count": 53,
   "id": "f81219e2",
   "metadata": {},
   "outputs": [
    {
     "data": {
      "text/plain": [
       "array([[ 0,  6],\n",
       "       [ 3,  9],\n",
       "       [ 6, 12],\n",
       "       [ 9, 15],\n",
       "       [12, 18]])"
      ]
     },
     "execution_count": 53,
     "metadata": {},
     "output_type": "execute_result"
    }
   ],
   "source": [
    "e"
   ]
  },
  {
   "cell_type": "code",
   "execution_count": 46,
   "id": "ba6b9ade",
   "metadata": {},
   "outputs": [
    {
     "data": {
      "text/plain": [
       "array([[ 0,  6],\n",
       "       [ 3,  9],\n",
       "       [ 6, 12],\n",
       "       [ 9, 15],\n",
       "       [12, 18]])"
      ]
     },
     "execution_count": 46,
     "metadata": {},
     "output_type": "execute_result"
    }
   ],
   "source": [
    "d.transpose()"
   ]
  },
  {
   "cell_type": "code",
   "execution_count": 54,
   "id": "2ff531f9",
   "metadata": {},
   "outputs": [
    {
     "data": {
      "text/plain": [
       "array([0, 6])"
      ]
     },
     "execution_count": 54,
     "metadata": {},
     "output_type": "execute_result"
    }
   ],
   "source": [
    "e[0,:]"
   ]
  },
  {
   "cell_type": "code",
   "execution_count": 1,
   "id": "267cc1f8",
   "metadata": {},
   "outputs": [],
   "source": [
    "import seaborn as sns"
   ]
  },
  {
   "cell_type": "code",
   "execution_count": 2,
   "id": "6cbb5ea9",
   "metadata": {},
   "outputs": [],
   "source": [
    "import matplotlib.pyplot as plt"
   ]
  },
  {
   "cell_type": "code",
   "execution_count": 11,
   "id": "3f0b9d36",
   "metadata": {},
   "outputs": [],
   "source": [
    "players = [\"robin\",\"leo\",\"pogba\",\"diego\",\"ronaldo\"]"
   ]
  },
  {
   "cell_type": "code",
   "execution_count": 12,
   "id": "b50a78ee",
   "metadata": {},
   "outputs": [],
   "source": [
    "teams = [\"man utd\",\"barca\",\"juve\",\"napo\",\"rmadrid\"]"
   ]
  },
  {
   "cell_type": "code",
   "execution_count": 13,
   "id": "30d1c7f5",
   "metadata": {},
   "outputs": [],
   "source": [
    "goals = [[12,15,16,15,13],\n",
    "        [26,30,31,25,24],\n",
    "        [10,12,8,6,13],\n",
    "        [18,19,17,20,21],\n",
    "        [21,32,25,21,22]]"
   ]
  },
  {
   "cell_type": "code",
   "execution_count": 14,
   "id": "86d2ba36",
   "metadata": {},
   "outputs": [],
   "source": [
    "array1 = np.array(goals)"
   ]
  },
  {
   "cell_type": "code",
   "execution_count": 15,
   "id": "7a6c8f7f",
   "metadata": {},
   "outputs": [
    {
     "data": {
      "text/plain": [
       "array([[12, 15, 16, 15, 13],\n",
       "       [26, 30, 31, 25, 24],\n",
       "       [10, 12,  8,  6, 13],\n",
       "       [18, 19, 17, 20, 21],\n",
       "       [21, 32, 25, 21, 22]])"
      ]
     },
     "execution_count": 15,
     "metadata": {},
     "output_type": "execute_result"
    }
   ],
   "source": [
    "array1"
   ]
  },
  {
   "cell_type": "code",
   "execution_count": 58,
   "id": "20005458",
   "metadata": {},
   "outputs": [],
   "source": [
    "player_team_label = [f\"{team} {player}\" for team,player in zip(teams,players)]"
   ]
  },
  {
   "cell_type": "code",
   "execution_count": 59,
   "id": "bdc0de2e",
   "metadata": {},
   "outputs": [
    {
     "data": {
      "text/plain": [
       "['man utd robin', 'barca leo', 'juve pogba', 'napo diego', 'rmadrid ronaldo']"
      ]
     },
     "execution_count": 59,
     "metadata": {},
     "output_type": "execute_result"
    }
   ],
   "source": [
    "player_team_label"
   ]
  },
  {
   "cell_type": "code",
   "execution_count": 48,
   "id": "5203ec6a",
   "metadata": {},
   "outputs": [
    {
     "data": {
      "text/plain": [
       "[('robin', 'man utd'),\n",
       " ('leo', 'barca'),\n",
       " ('pogba', 'juve'),\n",
       " ('diego', 'napo'),\n",
       " ('ronaldo', 'rmadrid')]"
      ]
     },
     "execution_count": 48,
     "metadata": {},
     "output_type": "execute_result"
    }
   ],
   "source": [
    "\n",
    "c = zip(players,teams)\n",
    "k = list(c)\n",
    "k"
   ]
  },
  {
   "cell_type": "code",
   "execution_count": 79,
   "id": "cf6b8df5",
   "metadata": {},
   "outputs": [
    {
     "data": {
      "image/png": "[encoded data removed]",
      "text/plain": [
       "<Figure size 1200x800 with 2 Axes>"
      ]
     },
     "metadata": {},
     "output_type": "display_data"
    }
   ],
   "source": [
    "fig, ax = plt.subplots(figsize=(12,8))\n",
    "sns.heatmap(array1, annot= True, cmap=\"YlGnBu\")\n",
    "ax.set_xticks(np.arange(len(players)), labels=players)\n",
    "ax.set_yticks(np.arange(len(players)), rotation=\"horizontal\",labels= player_team_label)\n",
    "plt.title(\"Goals Scored By Players in 5 seasons\", fontsize=20)\n",
    "plt.show()"
   ]
  },
  {
   "cell_type": "code",
   "execution_count": null,
   "id": "b4e557d1",
   "metadata": {},
   "outputs": [],
   "source": []
  }
 ],
 "metadata": {
  "kernelspec": {
   "display_name": "Python 3 (ipykernel)",
   "language": "python",
   "name": "python3"
  },
  "language_info": {
   "codemirror_mode": {
    "name": "ipython",
    "version": 3
   },
   "file_extension": ".py",
   "mimetype": "text/x-python",
   "name": "python",
   "nbconvert_exporter": "python",
   "pygments_lexer": "ipython3",
   "version": "3.11.5"
  }
 },
 "nbformat": 4,
 "nbformat_minor": 5
}
