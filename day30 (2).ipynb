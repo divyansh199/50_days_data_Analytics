{
 "cells": [
  {
   "cell_type": "markdown",
   "id": "ac3c81bd",
   "metadata": {},
   "source": [
    "# day 30"
   ]
  },
  {
   "cell_type": "code",
   "execution_count": 1,
   "id": "6ed437ea",
   "metadata": {},
   "outputs": [],
   "source": [
    "import pandas as pd"
   ]
  },
  {
   "cell_type": "code",
   "execution_count": 2,
   "id": "81a07467",
   "metadata": {},
   "outputs": [],
   "source": [
    "import numpy  as np"
   ]
  },
  {
   "cell_type": "code",
   "execution_count": 7,
   "id": "b923adb5",
   "metadata": {},
   "outputs": [],
   "source": [
    "df = pd.read_csv(\"furniture_data.csv\")"
   ]
  },
  {
   "cell_type": "code",
   "execution_count": 8,
   "id": "1dafb841",
   "metadata": {},
   "outputs": [
    {
     "data": {
      "text/html": [
       "<div>\n",
       "<style scoped>\n",
       "    .dataframe tbody tr th:only-of-type {\n",
       "        vertical-align: middle;\n",
       "    }\n",
       "\n",
       "    .dataframe tbody tr th {\n",
       "        vertical-align: top;\n",
       "    }\n",
       "\n",
       "    .dataframe thead th {\n",
       "        text-align: right;\n",
       "    }\n",
       "</style>\n",
       "<table border=\"1\" class=\"dataframe\">\n",
       "  <thead>\n",
       "    <tr style=\"text-align: right;\">\n",
       "      <th></th>\n",
       "      <th>Product</th>\n",
       "      <th>Sale Price</th>\n",
       "      <th>Cost per Product</th>\n",
       "      <th>Quantity</th>\n",
       "      <th>Total Revenue</th>\n",
       "    </tr>\n",
       "  </thead>\n",
       "  <tbody>\n",
       "    <tr>\n",
       "      <th>0</th>\n",
       "      <td>Sofa</td>\n",
       "      <td>800</td>\n",
       "      <td>600</td>\n",
       "      <td>32</td>\n",
       "      <td>25600</td>\n",
       "    </tr>\n",
       "    <tr>\n",
       "      <th>1</th>\n",
       "      <td>Chair</td>\n",
       "      <td>300</td>\n",
       "      <td>200</td>\n",
       "      <td>12</td>\n",
       "      <td>3600</td>\n",
       "    </tr>\n",
       "    <tr>\n",
       "      <th>2</th>\n",
       "      <td>Table</td>\n",
       "      <td>500</td>\n",
       "      <td>300</td>\n",
       "      <td>41</td>\n",
       "      <td>20500</td>\n",
       "    </tr>\n",
       "    <tr>\n",
       "      <th>3</th>\n",
       "      <td>Bed</td>\n",
       "      <td>1000</td>\n",
       "      <td>700</td>\n",
       "      <td>23</td>\n",
       "      <td>23000</td>\n",
       "    </tr>\n",
       "    <tr>\n",
       "      <th>4</th>\n",
       "      <td>Wardrobe</td>\n",
       "      <td>800</td>\n",
       "      <td>600</td>\n",
       "      <td>19</td>\n",
       "      <td>15200</td>\n",
       "    </tr>\n",
       "    <tr>\n",
       "      <th>5</th>\n",
       "      <td>Dresser</td>\n",
       "      <td>600</td>\n",
       "      <td>500</td>\n",
       "      <td>33</td>\n",
       "      <td>19800</td>\n",
       "    </tr>\n",
       "    <tr>\n",
       "      <th>6</th>\n",
       "      <td>Bookshelf</td>\n",
       "      <td>400</td>\n",
       "      <td>300</td>\n",
       "      <td>10</td>\n",
       "      <td>4000</td>\n",
       "    </tr>\n",
       "    <tr>\n",
       "      <th>7</th>\n",
       "      <td>Ottoman</td>\n",
       "      <td>200</td>\n",
       "      <td>100</td>\n",
       "      <td>13</td>\n",
       "      <td>2600</td>\n",
       "    </tr>\n",
       "    <tr>\n",
       "      <th>8</th>\n",
       "      <td>Coffee Table</td>\n",
       "      <td>250</td>\n",
       "      <td>150</td>\n",
       "      <td>14</td>\n",
       "      <td>3500</td>\n",
       "    </tr>\n",
       "    <tr>\n",
       "      <th>9</th>\n",
       "      <td>Rug</td>\n",
       "      <td>150</td>\n",
       "      <td>75</td>\n",
       "      <td>11</td>\n",
       "      <td>1650</td>\n",
       "    </tr>\n",
       "    <tr>\n",
       "      <th>10</th>\n",
       "      <td>Wardrobe</td>\n",
       "      <td>800</td>\n",
       "      <td>600</td>\n",
       "      <td>13</td>\n",
       "      <td>10400</td>\n",
       "    </tr>\n",
       "    <tr>\n",
       "      <th>11</th>\n",
       "      <td>Dresser</td>\n",
       "      <td>600</td>\n",
       "      <td>500</td>\n",
       "      <td>56</td>\n",
       "      <td>33600</td>\n",
       "    </tr>\n",
       "    <tr>\n",
       "      <th>12</th>\n",
       "      <td>Bookshelf</td>\n",
       "      <td>400</td>\n",
       "      <td>300</td>\n",
       "      <td>15</td>\n",
       "      <td>6000</td>\n",
       "    </tr>\n",
       "    <tr>\n",
       "      <th>13</th>\n",
       "      <td>Ottoman</td>\n",
       "      <td>200</td>\n",
       "      <td>100</td>\n",
       "      <td>17</td>\n",
       "      <td>3400</td>\n",
       "    </tr>\n",
       "    <tr>\n",
       "      <th>14</th>\n",
       "      <td>Coffee Table</td>\n",
       "      <td>250</td>\n",
       "      <td>150</td>\n",
       "      <td>10</td>\n",
       "      <td>2500</td>\n",
       "    </tr>\n",
       "    <tr>\n",
       "      <th>15</th>\n",
       "      <td>Rug</td>\n",
       "      <td>150</td>\n",
       "      <td>75</td>\n",
       "      <td>14</td>\n",
       "      <td>2100</td>\n",
       "    </tr>\n",
       "  </tbody>\n",
       "</table>\n",
       "</div>"
      ],
      "text/plain": [
       "         Product  Sale Price  Cost per Product  Quantity  Total Revenue\n",
       "0           Sofa         800               600        32          25600\n",
       "1          Chair         300               200        12           3600\n",
       "2          Table         500               300        41          20500\n",
       "3            Bed        1000               700        23          23000\n",
       "4       Wardrobe         800               600        19          15200\n",
       "5        Dresser         600               500        33          19800\n",
       "6      Bookshelf         400               300        10           4000\n",
       "7        Ottoman         200               100        13           2600\n",
       "8   Coffee Table         250               150        14           3500\n",
       "9            Rug         150                75        11           1650\n",
       "10      Wardrobe         800               600        13          10400\n",
       "11       Dresser         600               500        56          33600\n",
       "12     Bookshelf         400               300        15           6000\n",
       "13       Ottoman         200               100        17           3400\n",
       "14  Coffee Table         250               150        10           2500\n",
       "15           Rug         150                75        14           2100"
      ]
     },
     "execution_count": 8,
     "metadata": {},
     "output_type": "execute_result"
    }
   ],
   "source": [
    "df"
   ]
  },
  {
   "cell_type": "code",
   "execution_count": 11,
   "id": "9b3b2ed6",
   "metadata": {},
   "outputs": [],
   "source": [
    "dupli = df[\"Product\"].duplicated()"
   ]
  },
  {
   "cell_type": "code",
   "execution_count": 14,
   "id": "2751911f",
   "metadata": {},
   "outputs": [
    {
     "data": {
      "text/html": [
       "<div>\n",
       "<style scoped>\n",
       "    .dataframe tbody tr th:only-of-type {\n",
       "        vertical-align: middle;\n",
       "    }\n",
       "\n",
       "    .dataframe tbody tr th {\n",
       "        vertical-align: top;\n",
       "    }\n",
       "\n",
       "    .dataframe thead th {\n",
       "        text-align: right;\n",
       "    }\n",
       "</style>\n",
       "<table border=\"1\" class=\"dataframe\">\n",
       "  <thead>\n",
       "    <tr style=\"text-align: right;\">\n",
       "      <th></th>\n",
       "      <th>Product</th>\n",
       "      <th>Sale Price</th>\n",
       "      <th>Cost per Product</th>\n",
       "      <th>Quantity</th>\n",
       "      <th>Total Revenue</th>\n",
       "    </tr>\n",
       "  </thead>\n",
       "  <tbody>\n",
       "    <tr>\n",
       "      <th>10</th>\n",
       "      <td>Wardrobe</td>\n",
       "      <td>800</td>\n",
       "      <td>600</td>\n",
       "      <td>13</td>\n",
       "      <td>10400</td>\n",
       "    </tr>\n",
       "    <tr>\n",
       "      <th>11</th>\n",
       "      <td>Dresser</td>\n",
       "      <td>600</td>\n",
       "      <td>500</td>\n",
       "      <td>56</td>\n",
       "      <td>33600</td>\n",
       "    </tr>\n",
       "    <tr>\n",
       "      <th>12</th>\n",
       "      <td>Bookshelf</td>\n",
       "      <td>400</td>\n",
       "      <td>300</td>\n",
       "      <td>15</td>\n",
       "      <td>6000</td>\n",
       "    </tr>\n",
       "    <tr>\n",
       "      <th>13</th>\n",
       "      <td>Ottoman</td>\n",
       "      <td>200</td>\n",
       "      <td>100</td>\n",
       "      <td>17</td>\n",
       "      <td>3400</td>\n",
       "    </tr>\n",
       "    <tr>\n",
       "      <th>14</th>\n",
       "      <td>Coffee Table</td>\n",
       "      <td>250</td>\n",
       "      <td>150</td>\n",
       "      <td>10</td>\n",
       "      <td>2500</td>\n",
       "    </tr>\n",
       "    <tr>\n",
       "      <th>15</th>\n",
       "      <td>Rug</td>\n",
       "      <td>150</td>\n",
       "      <td>75</td>\n",
       "      <td>14</td>\n",
       "      <td>2100</td>\n",
       "    </tr>\n",
       "  </tbody>\n",
       "</table>\n",
       "</div>"
      ],
      "text/plain": [
       "         Product  Sale Price  Cost per Product  Quantity  Total Revenue\n",
       "10      Wardrobe         800               600        13          10400\n",
       "11       Dresser         600               500        56          33600\n",
       "12     Bookshelf         400               300        15           6000\n",
       "13       Ottoman         200               100        17           3400\n",
       "14  Coffee Table         250               150        10           2500\n",
       "15           Rug         150                75        14           2100"
      ]
     },
     "execution_count": 14,
     "metadata": {},
     "output_type": "execute_result"
    }
   ],
   "source": [
    "df[dupli]"
   ]
  },
  {
   "cell_type": "code",
   "execution_count": 20,
   "id": "2338ff5d",
   "metadata": {},
   "outputs": [],
   "source": [
    "pro_count = df.pivot_table(index = \"Product\",\n",
    "                           aggfunc = 'size')"
   ]
  },
  {
   "cell_type": "code",
   "execution_count": 21,
   "id": "57bc867b",
   "metadata": {},
   "outputs": [
    {
     "data": {
      "text/plain": [
       "Product\n",
       "Bed             1\n",
       "Bookshelf       2\n",
       "Chair           1\n",
       "Coffee Table    2\n",
       "Dresser         2\n",
       "Ottoman         2\n",
       "Rug             2\n",
       "Sofa            1\n",
       "Table           1\n",
       "Wardrobe        2\n",
       "dtype: int64"
      ]
     },
     "execution_count": 21,
     "metadata": {},
     "output_type": "execute_result"
    }
   ],
   "source": [
    "pro_count"
   ]
  },
  {
   "cell_type": "code",
   "execution_count": 22,
   "id": "a6e2ccfa",
   "metadata": {},
   "outputs": [],
   "source": [
    "import matplotlib.pyplot as plt"
   ]
  },
  {
   "cell_type": "code",
   "execution_count": 23,
   "id": "adb9b206",
   "metadata": {},
   "outputs": [],
   "source": [
    "import seaborn as sns"
   ]
  },
  {
   "cell_type": "code",
   "execution_count": 24,
   "id": "94d4cdf3",
   "metadata": {},
   "outputs": [
    {
     "data": {
      "image/png": "[encoded data removed]",
      "text/plain": [
       "<Figure size 640x480 with 1 Axes>"
      ]
     },
     "metadata": {},
     "output_type": "display_data"
    }
   ],
   "source": [
    "sns.regplot(x = \"Sale Price\", y = \"Total Revenue\", data = df)\n",
    "plt.show()"
   ]
  },
  {
   "cell_type": "code",
   "execution_count": 33,
   "id": "de30e3e2",
   "metadata": {},
   "outputs": [],
   "source": [
    "wear_bed = [\"Wardrobe\",\"Bed\"]\n",
    "a = df.query(\"Product == @wear_bed\")"
   ]
  },
  {
   "cell_type": "code",
   "execution_count": 44,
   "id": "cdc15963",
   "metadata": {},
   "outputs": [
    {
     "data": {
      "text/plain": [
       "Product\n",
       "Bed         23000\n",
       "Wardrobe    25600\n",
       "Name: Total Revenue, dtype: int64"
      ]
     },
     "execution_count": 44,
     "metadata": {},
     "output_type": "execute_result"
    }
   ],
   "source": [
    "b = a.groupby(\"Product\")[\"Total Revenue\"].sum()\n",
    "b"
   ]
  },
  {
   "cell_type": "code",
   "execution_count": 45,
   "id": "f7da07e8",
   "metadata": {},
   "outputs": [
    {
     "data": {
      "text/plain": [
       "23000"
      ]
     },
     "execution_count": 45,
     "metadata": {},
     "output_type": "execute_result"
    }
   ],
   "source": [
    "b[\"Bed\"]"
   ]
  },
  {
   "cell_type": "code",
   "execution_count": 46,
   "id": "d3d8cae0",
   "metadata": {},
   "outputs": [],
   "source": [
    "res = abs(b[\"Bed\"] - b[\"Wardrobe\"])"
   ]
  },
  {
   "cell_type": "code",
   "execution_count": 47,
   "id": "ead25a4e",
   "metadata": {},
   "outputs": [
    {
     "data": {
      "text/plain": [
       "2600"
      ]
     },
     "execution_count": 47,
     "metadata": {},
     "output_type": "execute_result"
    }
   ],
   "source": [
    "res"
   ]
  },
  {
   "cell_type": "code",
   "execution_count": 48,
   "id": "27cf917c",
   "metadata": {},
   "outputs": [
    {
     "data": {
      "text/html": [
       "<div>\n",
       "<style scoped>\n",
       "    .dataframe tbody tr th:only-of-type {\n",
       "        vertical-align: middle;\n",
       "    }\n",
       "\n",
       "    .dataframe tbody tr th {\n",
       "        vertical-align: top;\n",
       "    }\n",
       "\n",
       "    .dataframe thead th {\n",
       "        text-align: right;\n",
       "    }\n",
       "</style>\n",
       "<table border=\"1\" class=\"dataframe\">\n",
       "  <thead>\n",
       "    <tr style=\"text-align: right;\">\n",
       "      <th></th>\n",
       "      <th>Product</th>\n",
       "      <th>Sale Price</th>\n",
       "      <th>Cost per Product</th>\n",
       "      <th>Quantity</th>\n",
       "      <th>Total Revenue</th>\n",
       "    </tr>\n",
       "  </thead>\n",
       "  <tbody>\n",
       "    <tr>\n",
       "      <th>0</th>\n",
       "      <td>Sofa</td>\n",
       "      <td>800</td>\n",
       "      <td>600</td>\n",
       "      <td>32</td>\n",
       "      <td>25600</td>\n",
       "    </tr>\n",
       "    <tr>\n",
       "      <th>1</th>\n",
       "      <td>Chair</td>\n",
       "      <td>300</td>\n",
       "      <td>200</td>\n",
       "      <td>12</td>\n",
       "      <td>3600</td>\n",
       "    </tr>\n",
       "    <tr>\n",
       "      <th>2</th>\n",
       "      <td>Table</td>\n",
       "      <td>500</td>\n",
       "      <td>300</td>\n",
       "      <td>41</td>\n",
       "      <td>20500</td>\n",
       "    </tr>\n",
       "    <tr>\n",
       "      <th>3</th>\n",
       "      <td>Bed</td>\n",
       "      <td>1000</td>\n",
       "      <td>700</td>\n",
       "      <td>23</td>\n",
       "      <td>23000</td>\n",
       "    </tr>\n",
       "    <tr>\n",
       "      <th>4</th>\n",
       "      <td>Wardrobe</td>\n",
       "      <td>800</td>\n",
       "      <td>600</td>\n",
       "      <td>19</td>\n",
       "      <td>15200</td>\n",
       "    </tr>\n",
       "    <tr>\n",
       "      <th>5</th>\n",
       "      <td>Dresser</td>\n",
       "      <td>600</td>\n",
       "      <td>500</td>\n",
       "      <td>33</td>\n",
       "      <td>19800</td>\n",
       "    </tr>\n",
       "    <tr>\n",
       "      <th>6</th>\n",
       "      <td>Bookshelf</td>\n",
       "      <td>400</td>\n",
       "      <td>300</td>\n",
       "      <td>10</td>\n",
       "      <td>4000</td>\n",
       "    </tr>\n",
       "    <tr>\n",
       "      <th>7</th>\n",
       "      <td>Ottoman</td>\n",
       "      <td>200</td>\n",
       "      <td>100</td>\n",
       "      <td>13</td>\n",
       "      <td>2600</td>\n",
       "    </tr>\n",
       "    <tr>\n",
       "      <th>8</th>\n",
       "      <td>Coffee Table</td>\n",
       "      <td>250</td>\n",
       "      <td>150</td>\n",
       "      <td>14</td>\n",
       "      <td>3500</td>\n",
       "    </tr>\n",
       "    <tr>\n",
       "      <th>9</th>\n",
       "      <td>Rug</td>\n",
       "      <td>150</td>\n",
       "      <td>75</td>\n",
       "      <td>11</td>\n",
       "      <td>1650</td>\n",
       "    </tr>\n",
       "    <tr>\n",
       "      <th>10</th>\n",
       "      <td>Wardrobe</td>\n",
       "      <td>800</td>\n",
       "      <td>600</td>\n",
       "      <td>13</td>\n",
       "      <td>10400</td>\n",
       "    </tr>\n",
       "    <tr>\n",
       "      <th>11</th>\n",
       "      <td>Dresser</td>\n",
       "      <td>600</td>\n",
       "      <td>500</td>\n",
       "      <td>56</td>\n",
       "      <td>33600</td>\n",
       "    </tr>\n",
       "    <tr>\n",
       "      <th>12</th>\n",
       "      <td>Bookshelf</td>\n",
       "      <td>400</td>\n",
       "      <td>300</td>\n",
       "      <td>15</td>\n",
       "      <td>6000</td>\n",
       "    </tr>\n",
       "    <tr>\n",
       "      <th>13</th>\n",
       "      <td>Ottoman</td>\n",
       "      <td>200</td>\n",
       "      <td>100</td>\n",
       "      <td>17</td>\n",
       "      <td>3400</td>\n",
       "    </tr>\n",
       "    <tr>\n",
       "      <th>14</th>\n",
       "      <td>Coffee Table</td>\n",
       "      <td>250</td>\n",
       "      <td>150</td>\n",
       "      <td>10</td>\n",
       "      <td>2500</td>\n",
       "    </tr>\n",
       "    <tr>\n",
       "      <th>15</th>\n",
       "      <td>Rug</td>\n",
       "      <td>150</td>\n",
       "      <td>75</td>\n",
       "      <td>14</td>\n",
       "      <td>2100</td>\n",
       "    </tr>\n",
       "  </tbody>\n",
       "</table>\n",
       "</div>"
      ],
      "text/plain": [
       "         Product  Sale Price  Cost per Product  Quantity  Total Revenue\n",
       "0           Sofa         800               600        32          25600\n",
       "1          Chair         300               200        12           3600\n",
       "2          Table         500               300        41          20500\n",
       "3            Bed        1000               700        23          23000\n",
       "4       Wardrobe         800               600        19          15200\n",
       "5        Dresser         600               500        33          19800\n",
       "6      Bookshelf         400               300        10           4000\n",
       "7        Ottoman         200               100        13           2600\n",
       "8   Coffee Table         250               150        14           3500\n",
       "9            Rug         150                75        11           1650\n",
       "10      Wardrobe         800               600        13          10400\n",
       "11       Dresser         600               500        56          33600\n",
       "12     Bookshelf         400               300        15           6000\n",
       "13       Ottoman         200               100        17           3400\n",
       "14  Coffee Table         250               150        10           2500\n",
       "15           Rug         150                75        14           2100"
      ]
     },
     "execution_count": 48,
     "metadata": {},
     "output_type": "execute_result"
    }
   ],
   "source": [
    "df"
   ]
  },
  {
   "cell_type": "code",
   "execution_count": 50,
   "id": "a1d817c9",
   "metadata": {},
   "outputs": [],
   "source": [
    "df.insert(4, \"Total Cost\", df[\"Cost per Product\"]* df[\"Quantity\"])"
   ]
  },
  {
   "cell_type": "code",
   "execution_count": 52,
   "id": "6dfdbe7c",
   "metadata": {},
   "outputs": [],
   "source": [
    "df.insert(5, \"Total Sale\", df[\"Sale Price\"]* df[\"Quantity\"])"
   ]
  },
  {
   "cell_type": "code",
   "execution_count": 54,
   "id": "4401a098",
   "metadata": {},
   "outputs": [],
   "source": [
    "df.insert(6, \"Profit\", df[\"Total Sale\"] - df[\"Total Cost\"])"
   ]
  },
  {
   "cell_type": "code",
   "execution_count": 61,
   "id": "2b36128b",
   "metadata": {},
   "outputs": [],
   "source": [
    "df[\"Profit Margin\"]=df[\"Profit Margin\"]*100"
   ]
  },
  {
   "cell_type": "code",
   "execution_count": 63,
   "id": "9fdb2a30",
   "metadata": {},
   "outputs": [
    {
     "data": {
      "text/plain": [
       "5     Dresser\n",
       "11    Dresser\n",
       "Name: Product, dtype: object"
      ]
     },
     "execution_count": 63,
     "metadata": {},
     "output_type": "execute_result"
    }
   ],
   "source": [
    "df.loc[df[\"Profit Margin\"] == df[\"Profit Margin\"].min(), \"Product\"]"
   ]
  },
  {
   "cell_type": "code",
   "execution_count": null,
   "id": "c1e6760e",
   "metadata": {},
   "outputs": [],
   "source": []
  }
 ],
 "metadata": {
  "kernelspec": {
   "display_name": "Python 3 (ipykernel)",
   "language": "python",
   "name": "python3"
  },
  "language_info": {
   "codemirror_mode": {
    "name": "ipython",
    "version": 3
   },
   "file_extension": ".py",
   "mimetype": "text/x-python",
   "name": "python",
   "nbconvert_exporter": "python",
   "pygments_lexer": "ipython3",
   "version": "3.11.5"
  }
 },
 "nbformat": 4,
 "nbformat_minor": 5
}
