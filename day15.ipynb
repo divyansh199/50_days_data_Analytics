{
 "cells": [
  {
   "cell_type": "markdown",
   "id": "44574ea4",
   "metadata": {},
   "source": [
    "# day 15"
   ]
  },
  {
   "cell_type": "code",
   "execution_count": 22,
   "id": "657c7ced",
   "metadata": {},
   "outputs": [],
   "source": [
    "import numpy as np"
   ]
  },
  {
   "cell_type": "code",
   "execution_count": 23,
   "id": "d54af4cc",
   "metadata": {},
   "outputs": [],
   "source": [
    "arr = np.genfromtxt(\"name_age_sex_data.csv\", delimiter=\",\", dtype ='U7')"
   ]
  },
  {
   "cell_type": "code",
   "execution_count": 24,
   "id": "e6468516",
   "metadata": {},
   "outputs": [
    {
     "data": {
      "text/plain": [
       "array([['Name', 'Sex', 'Age'],\n",
       "       ['Grace', 'Male', '18'],\n",
       "       ['Charlie', 'Female', '60'],\n",
       "       ['Olivia', 'Female', '27'],\n",
       "       ['Frank', 'Male', '55'],\n",
       "       ['Charlie', 'Male', '53']], dtype='<U7')"
      ]
     },
     "execution_count": 24,
     "metadata": {},
     "output_type": "execute_result"
    }
   ],
   "source": [
    "arr"
   ]
  },
  {
   "cell_type": "code",
   "execution_count": 25,
   "id": "6944fb83",
   "metadata": {},
   "outputs": [],
   "source": [
    "arr=arr.T"
   ]
  },
  {
   "cell_type": "code",
   "execution_count": 33,
   "id": "b0fce569",
   "metadata": {},
   "outputs": [],
   "source": [
    "name = np.array(arr[0,1::1])"
   ]
  },
  {
   "cell_type": "code",
   "execution_count": 34,
   "id": "fc095f29",
   "metadata": {},
   "outputs": [
    {
     "data": {
      "text/plain": [
       "array(['Grace', 'Charlie', 'Olivia', 'Frank', 'Charlie'], dtype='<U7')"
      ]
     },
     "execution_count": 34,
     "metadata": {},
     "output_type": "execute_result"
    }
   ],
   "source": [
    "name"
   ]
  },
  {
   "cell_type": "code",
   "execution_count": 42,
   "id": "358bbc12",
   "metadata": {},
   "outputs": [],
   "source": [
    "sex = np.array(arr[1,1::1])"
   ]
  },
  {
   "cell_type": "code",
   "execution_count": 43,
   "id": "b6004fda",
   "metadata": {},
   "outputs": [
    {
     "data": {
      "text/plain": [
       "array(['Male', 'Female', 'Female', 'Male', 'Male'], dtype='<U7')"
      ]
     },
     "execution_count": 43,
     "metadata": {},
     "output_type": "execute_result"
    }
   ],
   "source": [
    "sex"
   ]
  },
  {
   "cell_type": "code",
   "execution_count": 45,
   "id": "9c3e12f6",
   "metadata": {},
   "outputs": [],
   "source": [
    "age = np.array(arr[2,1::1], dtype=int)"
   ]
  },
  {
   "cell_type": "code",
   "execution_count": 46,
   "id": "86fff47a",
   "metadata": {},
   "outputs": [
    {
     "data": {
      "text/plain": [
       "array([18, 60, 27, 55, 53])"
      ]
     },
     "execution_count": 46,
     "metadata": {},
     "output_type": "execute_result"
    }
   ],
   "source": [
    "age"
   ]
  },
  {
   "cell_type": "code",
   "execution_count": 47,
   "id": "473aba04",
   "metadata": {},
   "outputs": [],
   "source": [
    "ag_56 = np.where(age == 56 )"
   ]
  },
  {
   "cell_type": "code",
   "execution_count": 54,
   "id": "f9e6fe21",
   "metadata": {},
   "outputs": [
    {
     "data": {
      "text/plain": [
       "(array([], dtype=int64),)"
      ]
     },
     "execution_count": 54,
     "metadata": {},
     "output_type": "execute_result"
    }
   ],
   "source": [
    "ag_56"
   ]
  },
  {
   "cell_type": "code",
   "execution_count": 61,
   "id": "4898405e",
   "metadata": {},
   "outputs": [
    {
     "data": {
      "text/plain": [
       "2"
      ]
     },
     "execution_count": 61,
     "metadata": {},
     "output_type": "execute_result"
    }
   ],
   "source": [
    "ag_44 = np.where(age <= 44)\n",
    "len(age[ag_44])"
   ]
  },
  {
   "cell_type": "code",
   "execution_count": 62,
   "id": "41fb7555",
   "metadata": {},
   "outputs": [
    {
     "data": {
      "text/plain": [
       "1"
      ]
     },
     "execution_count": 62,
     "metadata": {},
     "output_type": "execute_result"
    }
   ],
   "source": [
    "len(ag_44)"
   ]
  },
  {
   "cell_type": "code",
   "execution_count": 63,
   "id": "aa0513ac",
   "metadata": {},
   "outputs": [],
   "source": [
    "all_mf = np.where(sex == \"Male\")"
   ]
  },
  {
   "cell_type": "code",
   "execution_count": 64,
   "id": "94f23243",
   "metadata": {},
   "outputs": [
    {
     "data": {
      "text/plain": [
       "3"
      ]
     },
     "execution_count": 64,
     "metadata": {},
     "output_type": "execute_result"
    }
   ],
   "source": [
    "len(sex[all_mf])"
   ]
  },
  {
   "cell_type": "code",
   "execution_count": 67,
   "id": "84b34b45",
   "metadata": {},
   "outputs": [],
   "source": [
    "avg = np.where(sex == \"Female\")"
   ]
  },
  {
   "cell_type": "code",
   "execution_count": 69,
   "id": "8ec371c7",
   "metadata": {},
   "outputs": [
    {
     "data": {
      "text/plain": [
       "43.5"
      ]
     },
     "execution_count": 69,
     "metadata": {},
     "output_type": "execute_result"
    }
   ],
   "source": [
    "np.mean(age[avg])"
   ]
  },
  {
   "cell_type": "code",
   "execution_count": 111,
   "id": "8a333de7",
   "metadata": {},
   "outputs": [],
   "source": [
    "o_k = np.array([np.where(name== \"Olivia\"),np.where(name== \"Grace\")])"
   ]
  },
  {
   "cell_type": "code",
   "execution_count": 113,
   "id": "a843cf09",
   "metadata": {},
   "outputs": [
    {
     "data": {
      "text/plain": [
       "22.5"
      ]
     },
     "execution_count": 113,
     "metadata": {},
     "output_type": "execute_result"
    }
   ],
   "source": [
    "age[o_k].mean()"
   ]
  },
  {
   "cell_type": "code",
   "execution_count": 103,
   "id": "fecc36fa",
   "metadata": {},
   "outputs": [
    {
     "ename": "ValueError",
     "evalue": "setting an array element with a sequence. The requested array has an inhomogeneous shape after 2 dimensions. The detected shape was (1, 2) + inhomogeneous part.",
     "output_type": "error",
     "traceback": [
      "\u001b[1;31m---------------------------------------------------------------------------\u001b[0m",
      "\u001b[1;31mValueError\u001b[0m                                Traceback (most recent call last)",
      "Cell \u001b[1;32mIn[103], line 1\u001b[0m\n\u001b[1;32m----> 1\u001b[0m np\u001b[38;5;241m.\u001b[39marray([o_k])\n",
      "\u001b[1;31mValueError\u001b[0m: setting an array element with a sequence. The requested array has an inhomogeneous shape after 2 dimensions. The detected shape was (1, 2) + inhomogeneous part."
     ]
    }
   ],
   "source": [
    "np.array([o_k])"
   ]
  },
  {
   "cell_type": "code",
   "execution_count": null,
   "id": "70477624",
   "metadata": {},
   "outputs": [],
   "source": []
  }
 ],
 "metadata": {
  "kernelspec": {
   "display_name": "Python 3 (ipykernel)",
   "language": "python",
   "name": "python3"
  },
  "language_info": {
   "codemirror_mode": {
    "name": "ipython",
    "version": 3
   },
   "file_extension": ".py",
   "mimetype": "text/x-python",
   "name": "python",
   "nbconvert_exporter": "python",
   "pygments_lexer": "ipython3",
   "version": "3.11.5"
  }
 },
 "nbformat": 4,
 "nbformat_minor": 5
}
