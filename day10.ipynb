{
 "cells": [
  {
   "cell_type": "markdown",
   "id": "448166a7",
   "metadata": {},
   "source": [
    "# day10"
   ]
  },
  {
   "cell_type": "code",
   "execution_count": 1,
   "id": "2b5889b0",
   "metadata": {},
   "outputs": [],
   "source": [
    "import numpy as np"
   ]
  },
  {
   "cell_type": "code",
   "execution_count": 3,
   "id": "1d9f0fb5",
   "metadata": {},
   "outputs": [],
   "source": [
    "arr = np.arange(0,50,5)"
   ]
  },
  {
   "cell_type": "code",
   "execution_count": 4,
   "id": "26eec29b",
   "metadata": {},
   "outputs": [
    {
     "data": {
      "text/plain": [
       "array([ 0,  5, 10, 15, 20, 25, 30, 35, 40, 45])"
      ]
     },
     "execution_count": 4,
     "metadata": {},
     "output_type": "execute_result"
    }
   ],
   "source": [
    "arr"
   ]
  },
  {
   "cell_type": "code",
   "execution_count": 5,
   "id": "ca472237",
   "metadata": {},
   "outputs": [
    {
     "data": {
      "text/plain": [
       "array([30, 35, 40, 45])"
      ]
     },
     "execution_count": 5,
     "metadata": {},
     "output_type": "execute_result"
    }
   ],
   "source": [
    "scaler_val = 25\n",
    "gt = arr[np.greater(arr,scaler_val)]\n",
    "gt"
   ]
  },
  {
   "cell_type": "code",
   "execution_count": 76,
   "id": "69982a96",
   "metadata": {},
   "outputs": [
    {
     "data": {
      "text/plain": [
       "11"
      ]
     },
     "execution_count": 76,
     "metadata": {},
     "output_type": "execute_result"
    }
   ],
   "source": [
    "days = [\"mon\",\"tue\",\"wed\",\"thu\",\"Fri\"]\n",
    "hours_worked = [ 8, 8, 10, 11, 7]\n",
    "hw= np.array(hours_worked)\n",
    "maxi = np.max(hw)\n",
    "maxi"
   ]
  },
  {
   "cell_type": "code",
   "execution_count": 77,
   "id": "5e7a34fe",
   "metadata": {},
   "outputs": [],
   "source": [
    "days_1 = [f'{day}' for day,hour in zip(days,hours_worked) if hour == 8]"
   ]
  },
  {
   "cell_type": "code",
   "execution_count": 78,
   "id": "48a43256",
   "metadata": {},
   "outputs": [
    {
     "data": {
      "text/plain": [
       "['mon', 'tue']"
      ]
     },
     "execution_count": 78,
     "metadata": {},
     "output_type": "execute_result"
    }
   ],
   "source": [
    "days_1"
   ]
  },
  {
   "cell_type": "code",
   "execution_count": 79,
   "id": "3fb11f3b",
   "metadata": {},
   "outputs": [],
   "source": [
    "days_2 = [f'{day}' for day,hour in zip(days,hours_worked) if hour == maxi]"
   ]
  },
  {
   "cell_type": "code",
   "execution_count": 80,
   "id": "896293f8",
   "metadata": {},
   "outputs": [
    {
     "data": {
      "text/plain": [
       "['thu']"
      ]
     },
     "execution_count": 80,
     "metadata": {},
     "output_type": "execute_result"
    }
   ],
   "source": [
    "days_2"
   ]
  },
  {
   "cell_type": "code",
   "execution_count": 81,
   "id": "f80fa3ca",
   "metadata": {},
   "outputs": [],
   "source": [
    "days_3 = [f'{day}' for day,hour in zip(days,hours_worked) if hour >= 9]"
   ]
  },
  {
   "cell_type": "code",
   "execution_count": 82,
   "id": "a15f3e4e",
   "metadata": {},
   "outputs": [
    {
     "data": {
      "text/plain": [
       "['wed', 'thu']"
      ]
     },
     "execution_count": 82,
     "metadata": {},
     "output_type": "execute_result"
    }
   ],
   "source": [
    "days_3"
   ]
  },
  {
   "cell_type": "code",
   "execution_count": null,
   "id": "2de77336",
   "metadata": {},
   "outputs": [],
   "source": []
  }
 ],
 "metadata": {
  "kernelspec": {
   "display_name": "Python 3 (ipykernel)",
   "language": "python",
   "name": "python3"
  },
  "language_info": {
   "codemirror_mode": {
    "name": "ipython",
    "version": 3
   },
   "file_extension": ".py",
   "mimetype": "text/x-python",
   "name": "python",
   "nbconvert_exporter": "python",
   "pygments_lexer": "ipython3",
   "version": "3.11.5"
  }
 },
 "nbformat": 4,
 "nbformat_minor": 5
}
