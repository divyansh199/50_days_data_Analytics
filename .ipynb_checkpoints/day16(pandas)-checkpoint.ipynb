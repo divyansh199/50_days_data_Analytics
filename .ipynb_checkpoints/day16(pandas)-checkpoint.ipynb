{
 "cells": [
  {
   "cell_type": "markdown",
   "id": "9549aaa6",
   "metadata": {},
   "source": [
    "# day16 pandas"
   ]
  },
  {
   "cell_type": "code",
   "execution_count": 2,
   "id": "35ac82c2",
   "metadata": {},
   "outputs": [],
   "source": [
    "import pandas as pd"
   ]
  },
  {
   "cell_type": "code",
   "execution_count": 3,
   "id": "6e7ee870",
   "metadata": {},
   "outputs": [],
   "source": [
    "list1 = [\"wood\",\"red\",\"red\",\"white\",\"blue\",\"red\"]"
   ]
  },
  {
   "cell_type": "code",
   "execution_count": 4,
   "id": "7575d1ef",
   "metadata": {},
   "outputs": [],
   "source": [
    "s = pd.Series(list1)"
   ]
  },
  {
   "cell_type": "code",
   "execution_count": 5,
   "id": "1eb9557f",
   "metadata": {},
   "outputs": [
    {
     "data": {
      "text/plain": [
       "0     wood\n",
       "1      red\n",
       "2      red\n",
       "3    white\n",
       "4     blue\n",
       "5      red\n",
       "dtype: object"
      ]
     },
     "execution_count": 5,
     "metadata": {},
     "output_type": "execute_result"
    }
   ],
   "source": [
    "s"
   ]
  },
  {
   "cell_type": "code",
   "execution_count": 6,
   "id": "be4a0ab4",
   "metadata": {},
   "outputs": [
    {
     "data": {
      "text/plain": [
       "6"
      ]
     },
     "execution_count": 6,
     "metadata": {},
     "output_type": "execute_result"
    }
   ],
   "source": [
    "s.count()"
   ]
  },
  {
   "cell_type": "code",
   "execution_count": 17,
   "id": "4427cc07",
   "metadata": {},
   "outputs": [
    {
     "data": {
      "text/plain": [
       "0    False\n",
       "1     True\n",
       "2     True\n",
       "3     True\n",
       "4    False\n",
       "5     True\n",
       "dtype: bool"
      ]
     },
     "execution_count": 17,
     "metadata": {},
     "output_type": "execute_result"
    }
   ],
   "source": [
    "s.isin([\"red\",\"white\",\"black\"])"
   ]
  },
  {
   "cell_type": "code",
   "execution_count": 10,
   "id": "3650cf70",
   "metadata": {},
   "outputs": [],
   "source": [
    "counts = pd.value_counts(s)"
   ]
  },
  {
   "cell_type": "code",
   "execution_count": 11,
   "id": "d0a1b1d7",
   "metadata": {},
   "outputs": [
    {
     "data": {
      "text/plain": [
       "red      3\n",
       "wood     1\n",
       "white    1\n",
       "blue     1\n",
       "Name: count, dtype: int64"
      ]
     },
     "execution_count": 11,
     "metadata": {},
     "output_type": "execute_result"
    }
   ],
   "source": [
    "counts"
   ]
  },
  {
   "cell_type": "code",
   "execution_count": 27,
   "id": "e145e8a8",
   "metadata": {},
   "outputs": [],
   "source": [
    "un = pd.unique(s)"
   ]
  },
  {
   "cell_type": "code",
   "execution_count": 28,
   "id": "b41c438f",
   "metadata": {},
   "outputs": [
    {
     "data": {
      "text/plain": [
       "array(['green', 'orange', 'red', 'white', 'blue'], dtype=object)"
      ]
     },
     "execution_count": 28,
     "metadata": {},
     "output_type": "execute_result"
    }
   ],
   "source": [
    "un"
   ]
  },
  {
   "cell_type": "code",
   "execution_count": 36,
   "id": "b8b1b0c5",
   "metadata": {},
   "outputs": [],
   "source": [
    "k = s.update({0: \"green\", 1: \"orange\"})"
   ]
  },
  {
   "cell_type": "code",
   "execution_count": 37,
   "id": "931b9cbb",
   "metadata": {},
   "outputs": [],
   "source": [
    "df = pd.DataFrame(s)"
   ]
  },
  {
   "cell_type": "code",
   "execution_count": null,
   "id": "587d6d2a",
   "metadata": {},
   "outputs": [],
   "source": []
  }
 ],
 "metadata": {
  "kernelspec": {
   "display_name": "Python 3 (ipykernel)",
   "language": "python",
   "name": "python3"
  },
  "language_info": {
   "codemirror_mode": {
    "name": "ipython",
    "version": 3
   },
   "file_extension": ".py",
   "mimetype": "text/x-python",
   "name": "python",
   "nbconvert_exporter": "python",
   "pygments_lexer": "ipython3",
   "version": "3.11.5"
  }
 },
 "nbformat": 4,
 "nbformat_minor": 5
}
