{
 "cells": [
  {
   "cell_type": "markdown",
   "id": "821748b2",
   "metadata": {},
   "source": [
    "# day8"
   ]
  },
  {
   "cell_type": "code",
   "execution_count": 1,
   "id": "04f92b21",
   "metadata": {},
   "outputs": [],
   "source": [
    "import numpy as np"
   ]
  },
  {
   "cell_type": "raw",
   "id": "0d4b38d7",
   "metadata": {},
   "source": [
    "1.Create a one-dimensional array with random integers between 0 and 20.\n",
    "The size of the array is 10. Ensure that the results are reproducible."
   ]
  },
  {
   "cell_type": "code",
   "execution_count": 3,
   "id": "190e91b9",
   "metadata": {},
   "outputs": [],
   "source": [
    "rng = np.random.default_rng(44)"
   ]
  },
  {
   "cell_type": "code",
   "execution_count": 4,
   "id": "d20a7c81",
   "metadata": {},
   "outputs": [],
   "source": [
    "arr = rng.integers(0,20,(10))"
   ]
  },
  {
   "cell_type": "code",
   "execution_count": 5,
   "id": "4731ecde",
   "metadata": {},
   "outputs": [
    {
     "data": {
      "text/plain": [
       "array([13,  2, 16,  5, 13,  8,  1, 19, 10,  3], dtype=int64)"
      ]
     },
     "execution_count": 5,
     "metadata": {},
     "output_type": "execute_result"
    }
   ],
   "source": [
    "arr"
   ]
  },
  {
   "cell_type": "raw",
   "id": "33667279",
   "metadata": {},
   "source": [
    "2.Using slicing, create a subset array of 3 integers from the array you created in question 1. The first integer is at index 2, the second integer is at index 4, and the third index is at index 7."
   ]
  },
  {
   "cell_type": "code",
   "execution_count": 7,
   "id": "1bbe9369",
   "metadata": {},
   "outputs": [],
   "source": [
    "arr2 = np.array([arr[2],arr[4],arr[7]])"
   ]
  },
  {
   "cell_type": "code",
   "execution_count": 8,
   "id": "7d0431f8",
   "metadata": {},
   "outputs": [
    {
     "data": {
      "text/plain": [
       "array([16, 13, 19], dtype=int64)"
      ]
     },
     "execution_count": 8,
     "metadata": {},
     "output_type": "execute_result"
    }
   ],
   "source": [
    "arr2"
   ]
  },
  {
   "cell_type": "raw",
   "id": "bf9d4394",
   "metadata": {},
   "source": [
    "Create a two-dimensional array from the list below. Check the dimensions and shape of your array.\n"
   ]
  },
  {
   "cell_type": "code",
   "execution_count": 11,
   "id": "d6a18f5d",
   "metadata": {},
   "outputs": [
    {
     "data": {
      "text/plain": [
       "array([[ 1,  2,  3,  4,  5],\n",
       "       [ 6,  7,  8,  9, 10],\n",
       "       [11, 12, 13, 14, 15]])"
      ]
     },
     "execution_count": 11,
     "metadata": {},
     "output_type": "execute_result"
    }
   ],
   "source": [
    "My_list = [[1, 2, 3, 4, 5], [6, 7, 8, 9, 10], [11, 12, 13, 14, 15]]\n",
    "arr3 = np.array(My_list)\n",
    "arr3"
   ]
  },
  {
   "cell_type": "code",
   "execution_count": 15,
   "id": "8dbf89d1",
   "metadata": {},
   "outputs": [],
   "source": [
    "arr4 = np.reshape(arr3,(3,5))"
   ]
  },
  {
   "cell_type": "code",
   "execution_count": 16,
   "id": "d12f58e4",
   "metadata": {},
   "outputs": [
    {
     "data": {
      "text/plain": [
       "array([[ 1,  2,  3,  4,  5],\n",
       "       [ 6,  7,  8,  9, 10],\n",
       "       [11, 12, 13, 14, 15]])"
      ]
     },
     "execution_count": 16,
     "metadata": {},
     "output_type": "execute_result"
    }
   ],
   "source": [
    "arr4"
   ]
  },
  {
   "cell_type": "code",
   "execution_count": 31,
   "id": "3e7e1b23",
   "metadata": {},
   "outputs": [],
   "source": [
    "arr5 = np.array([arr4[0,2],arr4[0,4],arr4[1,2]])"
   ]
  },
  {
   "cell_type": "code",
   "execution_count": 39,
   "id": "e020659d",
   "metadata": {},
   "outputs": [
    {
     "data": {
      "text/plain": [
       "[3, 5, 8]"
      ]
     },
     "execution_count": 39,
     "metadata": {},
     "output_type": "execute_result"
    }
   ],
   "source": [
    "arr5.tolist()"
   ]
  },
  {
   "cell_type": "code",
   "execution_count": 33,
   "id": "e4b90898",
   "metadata": {},
   "outputs": [
    {
     "data": {
      "text/plain": [
       "1"
      ]
     },
     "execution_count": 33,
     "metadata": {},
     "output_type": "execute_result"
    }
   ],
   "source": [
    "arr5.ndim"
   ]
  },
  {
   "cell_type": "code",
   "execution_count": 34,
   "id": "f5d96dad",
   "metadata": {},
   "outputs": [
    {
     "data": {
      "text/plain": [
       "(3,)"
      ]
     },
     "execution_count": 34,
     "metadata": {},
     "output_type": "execute_result"
    }
   ],
   "source": [
    "arr5.shape\n"
   ]
  },
  {
   "cell_type": "raw",
   "id": "e0c8cb22",
   "metadata": {},
   "source": [
    "Create a three-dimensional array from the nested list below:"
   ]
  },
  {
   "cell_type": "code",
   "execution_count": 42,
   "id": "46aaca84",
   "metadata": {},
   "outputs": [],
   "source": [
    "lis1 = [[[1, 2, 3, 4, 5], [6, 7, 8, 9, 10], [11, 12, 13, 14, 15]]]\n",
    "arr6 = np.array(lis1)"
   ]
  },
  {
   "cell_type": "code",
   "execution_count": 60,
   "id": "60b442d3",
   "metadata": {},
   "outputs": [
    {
     "data": {
      "text/plain": [
       "array([[[ 1,  2,  3,  4,  5],\n",
       "        [ 6,  7,  8,  9, 10],\n",
       "        [11, 12, 13, 14, 15]]])"
      ]
     },
     "execution_count": 60,
     "metadata": {},
     "output_type": "execute_result"
    }
   ],
   "source": [
    "arr6"
   ]
  },
  {
   "cell_type": "code",
   "execution_count": 62,
   "id": "c2217c7b",
   "metadata": {},
   "outputs": [
    {
     "ename": "IndexError",
     "evalue": "index 3 is out of bounds for axis 1 with size 3",
     "output_type": "error",
     "traceback": [
      "\u001b[1;31m---------------------------------------------------------------------------\u001b[0m",
      "\u001b[1;31mIndexError\u001b[0m                                Traceback (most recent call last)",
      "Cell \u001b[1;32mIn[62], line 1\u001b[0m\n\u001b[1;32m----> 1\u001b[0m arr7 \u001b[38;5;241m=\u001b[39m np\u001b[38;5;241m.\u001b[39marray(arr6[\u001b[38;5;241m0\u001b[39m,\u001b[38;5;241m3\u001b[39m,\u001b[38;5;241m0\u001b[39m], arr6[\u001b[38;5;241m0\u001b[39m,\u001b[38;5;241m1\u001b[39m,\u001b[38;5;241m2\u001b[39m], arr6[\u001b[38;5;241m0\u001b[39m,\u001b[38;5;241m2\u001b[39m,\u001b[38;5;241m4\u001b[39m])\n",
      "\u001b[1;31mIndexError\u001b[0m: index 3 is out of bounds for axis 1 with size 3"
     ]
    }
   ],
   "source": [
    "arr7 = np.array([arr6[0,3,0], arr6[0,1,2], arr6[0,2,4]])"
   ]
  },
  {
   "cell_type": "code",
   "execution_count": null,
   "id": "faa0c031",
   "metadata": {},
   "outputs": [],
   "source": []
  },
  {
   "cell_type": "code",
   "execution_count": null,
   "id": "cdc978f0",
   "metadata": {},
   "outputs": [],
   "source": []
  }
 ],
 "metadata": {
  "kernelspec": {
   "display_name": "Python 3 (ipykernel)",
   "language": "python",
   "name": "python3"
  },
  "language_info": {
   "codemirror_mode": {
    "name": "ipython",
    "version": 3
   },
   "file_extension": ".py",
   "mimetype": "text/x-python",
   "name": "python",
   "nbconvert_exporter": "python",
   "pygments_lexer": "ipython3",
   "version": "3.11.5"
  }
 },
 "nbformat": 4,
 "nbformat_minor": 5
}
