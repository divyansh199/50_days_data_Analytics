{
 "cells": [
  {
   "cell_type": "markdown",
   "id": "90e65ca4",
   "metadata": {},
   "source": [
    "# day5"
   ]
  },
  {
   "cell_type": "code",
   "execution_count": null,
   "id": "3423a159",
   "metadata": {},
   "outputs": [],
   "source": [
    "Day 5: Array Creation and Vector Operations In this challenge, you will create a 2-dimensional array, analyze and perform vector operations on the array, and slice numbers from the array. list_numbers = [[12, 23, -45], [18, -77, -44]] Using NumPy, create an array from the list. Write a code to return all the negative numbers in the list.  Using NumPy, write code to multiply each element in the array you created in question 1 by 2. Create a new variable for this array.  Write code to calculate the sum of the numbers on axis-1 of the array you created in question 2.  Write code to calculate the sum of numbers on axis-0 of the array you created in question 2.  Using the NumPy arange() function, create a NumPy array of numbers from 0 to 99. The shape of the array must be (2, 5, 10).  Write code to slice row [50, 51, 52, 53, 54, 55, 56, 57, 58, 59] from the array above (question 5).  Let’s analyze the array you created in question 1 further. How many numbers in row 1 are greater than the numbers in row 2?"
   ]
  },
  {
   "cell_type": "code",
   "execution_count": 1,
   "id": "e6cf1e4c",
   "metadata": {},
   "outputs": [],
   "source": [
    "import numpy as np"
   ]
  },
  {
   "cell_type": "code",
   "execution_count": 2,
   "id": "7ae43bf6",
   "metadata": {},
   "outputs": [],
   "source": [
    "l = [[12,23,-45],[18,-77,-44]]"
   ]
  },
  {
   "cell_type": "code",
   "execution_count": 3,
   "id": "dd186891",
   "metadata": {},
   "outputs": [],
   "source": [
    "arr = np.array(l)"
   ]
  },
  {
   "cell_type": "code",
   "execution_count": 4,
   "id": "61e9d246",
   "metadata": {},
   "outputs": [
    {
     "data": {
      "text/plain": [
       "array([[ 12,  23, -45],\n",
       "       [ 18, -77, -44]])"
      ]
     },
     "execution_count": 4,
     "metadata": {},
     "output_type": "execute_result"
    }
   ],
   "source": [
    "arr"
   ]
  },
  {
   "cell_type": "code",
   "execution_count": 8,
   "id": "385f5244",
   "metadata": {},
   "outputs": [],
   "source": [
    "k = np.reshape(arr,(1,6))"
   ]
  },
  {
   "cell_type": "code",
   "execution_count": 10,
   "id": "705865ae",
   "metadata": {},
   "outputs": [],
   "source": [
    "k = k.tolist()"
   ]
  },
  {
   "cell_type": "code",
   "execution_count": 12,
   "id": "9fbc1512",
   "metadata": {},
   "outputs": [],
   "source": [
    "k = k[0]"
   ]
  },
  {
   "cell_type": "code",
   "execution_count": 13,
   "id": "dbe91baa",
   "metadata": {},
   "outputs": [
    {
     "data": {
      "text/plain": [
       "[12, 23, -45, 18, -77, -44]"
      ]
     },
     "execution_count": 13,
     "metadata": {},
     "output_type": "execute_result"
    }
   ],
   "source": [
    "k"
   ]
  },
  {
   "cell_type": "code",
   "execution_count": 14,
   "id": "f7162aea",
   "metadata": {},
   "outputs": [],
   "source": [
    "b = list()\n",
    "for i in range(len(k)):\n",
    "    if k[i] < 0:\n",
    "        b.append(k[i])\n",
    "\n",
    "        "
   ]
  },
  {
   "cell_type": "code",
   "execution_count": 15,
   "id": "35f1ae0e",
   "metadata": {},
   "outputs": [
    {
     "data": {
      "text/plain": [
       "[-45, -77, -44]"
      ]
     },
     "execution_count": 15,
     "metadata": {},
     "output_type": "execute_result"
    }
   ],
   "source": [
    "b"
   ]
  },
  {
   "cell_type": "code",
   "execution_count": 16,
   "id": "f0c46974",
   "metadata": {},
   "outputs": [],
   "source": [
    "modi_arr = np.array(b)"
   ]
  },
  {
   "cell_type": "code",
   "execution_count": 17,
   "id": "ec668ce6",
   "metadata": {},
   "outputs": [
    {
     "data": {
      "text/plain": [
       "array([-45, -77, -44])"
      ]
     },
     "execution_count": 17,
     "metadata": {},
     "output_type": "execute_result"
    }
   ],
   "source": [
    "modi_arr"
   ]
  },
  {
   "cell_type": "code",
   "execution_count": 18,
   "id": "c680141a",
   "metadata": {},
   "outputs": [],
   "source": [
    "multi_2 = modi_arr *2"
   ]
  },
  {
   "cell_type": "code",
   "execution_count": 19,
   "id": "75b7ca3a",
   "metadata": {},
   "outputs": [
    {
     "data": {
      "text/plain": [
       "array([ -90, -154,  -88])"
      ]
     },
     "execution_count": 19,
     "metadata": {},
     "output_type": "execute_result"
    }
   ],
   "source": [
    "multi_2"
   ]
  },
  {
   "cell_type": "code",
   "execution_count": 21,
   "id": "43ab3e15",
   "metadata": {},
   "outputs": [],
   "source": [
    "sum_ar = np.sum(multi_2,axis=0)"
   ]
  },
  {
   "cell_type": "code",
   "execution_count": null,
   "id": "c928ba93",
   "metadata": {},
   "outputs": [],
   "source": []
  }
 ],
 "metadata": {
  "kernelspec": {
   "display_name": "Python 3 (ipykernel)",
   "language": "python",
   "name": "python3"
  },
  "language_info": {
   "codemirror_mode": {
    "name": "ipython",
    "version": 3
   },
   "file_extension": ".py",
   "mimetype": "text/x-python",
   "name": "python",
   "nbconvert_exporter": "python",
   "pygments_lexer": "ipython3",
   "version": "3.11.5"
  }
 },
 "nbformat": 4,
 "nbformat_minor": 5
}
