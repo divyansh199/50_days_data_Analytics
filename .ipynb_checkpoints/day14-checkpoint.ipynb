{
 "cells": [
  {
   "cell_type": "markdown",
   "id": "c5db6a6e",
   "metadata": {},
   "source": [
    "# day14"
   ]
  },
  {
   "cell_type": "code",
   "execution_count": 77,
   "id": "7ed4e06b",
   "metadata": {},
   "outputs": [],
   "source": [
    "names = [\"Kelly\", \"Ben\", \"Jack\", \"Mhammad\", \"Jose\", \"Liz\"]\n",
    "grades = [45,65,75,35,85,40]\n",
    "classes = [\"a\",\"c\",\"e\",\"g\",\"e\",\"f\"]"
   ]
  },
  {
   "cell_type": "code",
   "execution_count": 78,
   "id": "ed23631e",
   "metadata": {},
   "outputs": [],
   "source": [
    "import numpy as np"
   ]
  },
  {
   "cell_type": "code",
   "execution_count": 79,
   "id": "7d79d304",
   "metadata": {},
   "outputs": [],
   "source": [
    "arr = np.array([names,grades,classes])"
   ]
  },
  {
   "cell_type": "code",
   "execution_count": 80,
   "id": "6ad79404",
   "metadata": {},
   "outputs": [
    {
     "data": {
      "text/plain": [
       "array([['Kelly', 'Ben', 'Jack', 'Mhammad', 'Jose', 'Liz'],\n",
       "       ['45', '65', '75', '35', '85', '40'],\n",
       "       ['a', 'c', 'e', 'g', 'e', 'f']], dtype='<U11')"
      ]
     },
     "execution_count": 80,
     "metadata": {},
     "output_type": "execute_result"
    }
   ],
   "source": [
    "arr"
   ]
  },
  {
   "cell_type": "code",
   "execution_count": 87,
   "id": "580e76f9",
   "metadata": {},
   "outputs": [],
   "source": [
    "name = np.array(arr[0,::])"
   ]
  },
  {
   "cell_type": "code",
   "execution_count": 88,
   "id": "afb6cece",
   "metadata": {},
   "outputs": [
    {
     "data": {
      "text/plain": [
       "array(['Kelly', 'Ben', 'Jack', 'Mhammad', 'Jose', 'Liz'], dtype='<U11')"
      ]
     },
     "execution_count": 88,
     "metadata": {},
     "output_type": "execute_result"
    }
   ],
   "source": [
    "name"
   ]
  },
  {
   "cell_type": "code",
   "execution_count": 89,
   "id": "35200c0d",
   "metadata": {},
   "outputs": [],
   "source": [
    "marks = np.array(arr[1,::],dtype=int)"
   ]
  },
  {
   "cell_type": "code",
   "execution_count": 90,
   "id": "fbecfbd5",
   "metadata": {},
   "outputs": [
    {
     "data": {
      "text/plain": [
       "array([45, 65, 75, 35, 85, 40])"
      ]
     },
     "execution_count": 90,
     "metadata": {},
     "output_type": "execute_result"
    }
   ],
   "source": [
    "marks"
   ]
  },
  {
   "cell_type": "code",
   "execution_count": 91,
   "id": "51bc33ef",
   "metadata": {},
   "outputs": [],
   "source": [
    "grads = np.array(arr[2,::])"
   ]
  },
  {
   "cell_type": "code",
   "execution_count": 92,
   "id": "180c757f",
   "metadata": {},
   "outputs": [
    {
     "data": {
      "text/plain": [
       "array(['a', 'c', 'e', 'g', 'e', 'f'], dtype='<U11')"
      ]
     },
     "execution_count": 92,
     "metadata": {},
     "output_type": "execute_result"
    }
   ],
   "source": [
    "grads"
   ]
  },
  {
   "cell_type": "code",
   "execution_count": 100,
   "id": "31435fce",
   "metadata": {},
   "outputs": [
    {
     "ename": "ValueError",
     "evalue": "The truth value of an array with more than one element is ambiguous. Use a.any() or a.all()",
     "output_type": "error",
     "traceback": [
      "\u001b[1;31m---------------------------------------------------------------------------\u001b[0m",
      "\u001b[1;31mValueError\u001b[0m                                Traceback (most recent call last)",
      "Cell \u001b[1;32mIn[100], line 1\u001b[0m\n\u001b[1;32m----> 1\u001b[0m stud_nam \u001b[38;5;241m=\u001b[39m np\u001b[38;5;241m.\u001b[39mwhere(marks \u001b[38;5;241m>\u001b[39m\u001b[38;5;241m50\u001b[39m \u001b[38;5;129;01mand\u001b[39;00m grads \u001b[38;5;241m==\u001b[39m\u001b[38;5;124m\"\u001b[39m\u001b[38;5;124me\u001b[39m\u001b[38;5;124m\"\u001b[39m)\n",
      "\u001b[1;31mValueError\u001b[0m: The truth value of an array with more than one element is ambiguous. Use a.any() or a.all()"
     ]
    }
   ],
   "source": [
    "stud_nam = np.where(marks >50)"
   ]
  },
  {
   "cell_type": "code",
   "execution_count": 101,
   "id": "eb67ae76",
   "metadata": {},
   "outputs": [],
   "source": [
    "stud_nam_1 = np.where(grads == \"e\") "
   ]
  },
  {
   "cell_type": "code",
   "execution_count": null,
   "id": "699a3d18",
   "metadata": {},
   "outputs": [],
   "source": []
  }
 ],
 "metadata": {
  "kernelspec": {
   "display_name": "Python 3 (ipykernel)",
   "language": "python",
   "name": "python3"
  },
  "language_info": {
   "codemirror_mode": {
    "name": "ipython",
    "version": 3
   },
   "file_extension": ".py",
   "mimetype": "text/x-python",
   "name": "python",
   "nbconvert_exporter": "python",
   "pygments_lexer": "ipython3",
   "version": "3.11.5"
  }
 },
 "nbformat": 4,
 "nbformat_minor": 5
}
