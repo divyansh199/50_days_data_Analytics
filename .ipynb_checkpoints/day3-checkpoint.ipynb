{
 "cells": [
  {
   "cell_type": "markdown",
   "id": "97f04bc4",
   "metadata": {},
   "source": [
    "# day 3"
   ]
  },
  {
   "cell_type": "code",
   "execution_count": null,
   "id": "36c37b76",
   "metadata": {},
   "outputs": [],
   "source": [
    "# In this challenge, you are going to generate an array with some random numbers using NumPy, and create some visualizations using Matplotlib. Using NumPy create an array of random numbers between 0 and 1. The shape of the array must be (3, 4). Use seed to ensure that the results are reproducible.  Create an array of random integers between 0 and 10. The shape of the array must be (3, 4).  Using NumPy, generate an array of 1000 random numbers from a standard normal distribution with a mean of 0 and a variance of 1. Create a histogram with this array. Use the seed parameter to ensure the results are reproducible.  arr = [ \"Orange\", \"Apple\", \"Pear\"]  Using random.choice() from NumPy, generate an array from the list above. The shape of the array must be (3, 4)."
   ]
  },
  {
   "cell_type": "code",
   "execution_count": 17,
   "id": "b16f71dd",
   "metadata": {},
   "outputs": [],
   "source": [
    "import numpy as np"
   ]
  },
  {
   "cell_type": "code",
   "execution_count": 102,
   "id": "a258496d",
   "metadata": {},
   "outputs": [
    {
     "data": {
      "text/plain": [
       "array([[2, 8, 6, 4],\n",
       "       [1, 7, 4, 8],\n",
       "       [4, 6, 2, 5]], dtype=int64)"
      ]
     },
     "execution_count": 102,
     "metadata": {},
     "output_type": "execute_result"
    }
   ],
   "source": [
    "arr = np.random.default_rng(seed=14)\n",
    "arr.integers(1,10,(3,4))"
   ]
  },
  {
   "cell_type": "code",
   "execution_count": 76,
   "id": "612cc12f",
   "metadata": {},
   "outputs": [
    {
     "data": {
      "text/plain": [
       "Generator(PCG64) at 0x1C1F4AA1EE0"
      ]
     },
     "execution_count": 76,
     "metadata": {},
     "output_type": "execute_result"
    }
   ],
   "source": [
    "arr"
   ]
  },
  {
   "cell_type": "code",
   "execution_count": 21,
   "id": "1a3a88c9",
   "metadata": {},
   "outputs": [
    {
     "ename": "TypeError",
     "evalue": "'numpy.random._generator.Generator' object is not subscriptable",
     "output_type": "error",
     "traceback": [
      "\u001b[1;31m---------------------------------------------------------------------------\u001b[0m",
      "\u001b[1;31mTypeError\u001b[0m                                 Traceback (most recent call last)",
      "Cell \u001b[1;32mIn[21], line 1\u001b[0m\n\u001b[1;32m----> 1\u001b[0m arr[\u001b[38;5;241m0x1C1F4AA11C0\u001b[39m]\n",
      "\u001b[1;31mTypeError\u001b[0m: 'numpy.random._generator.Generator' object is not subscriptable"
     ]
    }
   ],
   "source": [
    "arr[0x1C1F4AA11C0]"
   ]
  },
  {
   "cell_type": "code",
   "execution_count": 119,
   "id": "e2271f3e",
   "metadata": {},
   "outputs": [
    {
     "data": {
      "text/plain": [
       "array([0.52138574, 0.60384185, 0.4709418 , 0.20324794, 0.52875903,\n",
       "       0.19103628, 0.2815456 , 0.75368155, 0.55167178, 0.86372208,\n",
       "       0.80537222, 0.24837266, 0.18985741, 0.98399558, 0.66999717,\n",
       "       0.28038283, 0.20391323, 0.62506469, 0.65260432, 0.89880753,\n",
       "       0.97476378, 0.15393237, 0.69908928, 0.44724145, 0.01751321,\n",
       "       0.29102491, 0.38123661, 0.32102791, 0.94254467, 0.70266697,\n",
       "       0.13645032, 0.34320907, 0.8119946 , 0.148494  , 0.05932569,\n",
       "       0.31441663, 0.42015645, 0.80801771, 0.00950759, 0.45408379,\n",
       "       0.55868699, 0.00288863, 0.29775757, 0.05379911, 0.56766875,\n",
       "       0.94055815, 0.72427372, 0.85637809, 0.54431565, 0.37965069,\n",
       "       0.60442473, 0.73460399, 0.98840812, 0.89224091, 0.51964178,\n",
       "       0.20820684, 0.29894051, 0.83552541, 0.18450649, 0.18375199,\n",
       "       0.23502814, 0.65818858, 0.51673102, 0.82385723, 0.18965801,\n",
       "       0.98047955, 0.39284504, 0.45345328, 0.27428462, 0.3227665 ,\n",
       "       0.62741705, 0.43136525, 0.07660225, 0.09861362, 0.06647744,\n",
       "       0.7077515 , 0.90849204, 0.40254213, 0.50306421, 0.24188559,\n",
       "       0.69874299, 0.88569365, 0.93542321, 0.19316749, 0.95909555,\n",
       "       0.67499364, 0.74070019, 0.43406363, 0.61999626, 0.52964891,\n",
       "       0.65987263, 0.79797313, 0.13226049, 0.86629113, 0.70724855,\n",
       "       0.34756816, 0.41495181, 0.27558004, 0.46345484, 0.44044984])"
      ]
     },
     "execution_count": 119,
     "metadata": {},
     "output_type": "execute_result"
    }
   ],
   "source": [
    "nd = np.random.default_rng(seed=1000)\n",
    "arr=nd.random((100))\n",
    "arr"
   ]
  },
  {
   "cell_type": "code",
   "execution_count": 120,
   "id": "bff8949d",
   "metadata": {},
   "outputs": [
    {
     "data": {
      "text/plain": [
       "0.5002980561511552"
      ]
     },
     "execution_count": 120,
     "metadata": {},
     "output_type": "execute_result"
    }
   ],
   "source": [
    "mn=np.mean(arr)\n",
    "mn"
   ]
  },
  {
   "cell_type": "code",
   "execution_count": 123,
   "id": "0b9dbf6c",
   "metadata": {},
   "outputs": [
    {
     "data": {
      "text/plain": [
       "0.2780709299596206"
      ]
     },
     "execution_count": 123,
     "metadata": {},
     "output_type": "execute_result"
    }
   ],
   "source": [
    "sd=np.std(arr)\n",
    "sd"
   ]
  },
  {
   "cell_type": "code",
   "execution_count": null,
   "id": "997c7b7e",
   "metadata": {},
   "outputs": [],
   "source": []
  }
 ],
 "metadata": {
  "kernelspec": {
   "display_name": "Python 3 (ipykernel)",
   "language": "python",
   "name": "python3"
  },
  "language_info": {
   "codemirror_mode": {
    "name": "ipython",
    "version": 3
   },
   "file_extension": ".py",
   "mimetype": "text/x-python",
   "name": "python",
   "nbconvert_exporter": "python",
   "pygments_lexer": "ipython3",
   "version": "3.11.5"
  }
 },
 "nbformat": 4,
 "nbformat_minor": 5
}
