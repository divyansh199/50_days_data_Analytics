{
 "cells": [
  {
   "cell_type": "markdown",
   "id": "fe8a53f9",
   "metadata": {},
   "source": [
    "# day9"
   ]
  },
  {
   "cell_type": "raw",
   "id": "6c5a635c",
   "metadata": {},
   "source": [
    "1. Create a NumPy one-dimensional array with the list above."
   ]
  },
  {
   "cell_type": "code",
   "execution_count": 1,
   "id": "5764fe2b",
   "metadata": {},
   "outputs": [],
   "source": [
    "import numpy as np"
   ]
  },
  {
   "cell_type": "code",
   "execution_count": 2,
   "id": "e60f3ad7",
   "metadata": {},
   "outputs": [],
   "source": [
    "nums = [12,4,6,7,9,19,21,67,8]"
   ]
  },
  {
   "cell_type": "code",
   "execution_count": 3,
   "id": "3bced0bb",
   "metadata": {},
   "outputs": [],
   "source": [
    "arr = np.array(nums)"
   ]
  },
  {
   "cell_type": "code",
   "execution_count": 4,
   "id": "ccbc5470",
   "metadata": {},
   "outputs": [
    {
     "data": {
      "text/plain": [
       "array([12,  4,  6,  7,  9, 19, 21, 67,  8])"
      ]
     },
     "execution_count": 4,
     "metadata": {},
     "output_type": "execute_result"
    }
   ],
   "source": [
    "arr"
   ]
  },
  {
   "cell_type": "code",
   "execution_count": 5,
   "id": "e1a31f0d",
   "metadata": {},
   "outputs": [],
   "source": [
    "mini = np.min(nums)"
   ]
  },
  {
   "cell_type": "code",
   "execution_count": 6,
   "id": "0b59598f",
   "metadata": {},
   "outputs": [
    {
     "data": {
      "text/plain": [
       "4"
      ]
     },
     "execution_count": 6,
     "metadata": {},
     "output_type": "execute_result"
    }
   ],
   "source": [
    "mini"
   ]
  },
  {
   "cell_type": "code",
   "execution_count": 9,
   "id": "97e34435",
   "metadata": {},
   "outputs": [],
   "source": [
    "maxi_indx = np.where(arr == np.max(arr))"
   ]
  },
  {
   "cell_type": "code",
   "execution_count": 11,
   "id": "209dc329",
   "metadata": {},
   "outputs": [
    {
     "data": {
      "text/plain": [
       "(array([7], dtype=int64),)"
      ]
     },
     "execution_count": 11,
     "metadata": {},
     "output_type": "execute_result"
    }
   ],
   "source": [
    "maxi_indx"
   ]
  },
  {
   "cell_type": "code",
   "execution_count": 14,
   "id": "ad9844fb",
   "metadata": {},
   "outputs": [],
   "source": [
    "avg_min_max = (np.max(arr) + np.min(arr))/2"
   ]
  },
  {
   "cell_type": "code",
   "execution_count": 15,
   "id": "1c554de9",
   "metadata": {},
   "outputs": [
    {
     "data": {
      "text/plain": [
       "35.5"
      ]
     },
     "execution_count": 15,
     "metadata": {},
     "output_type": "execute_result"
    }
   ],
   "source": [
    "avg_min_max"
   ]
  },
  {
   "cell_type": "code",
   "execution_count": 16,
   "id": "2edd93ae",
   "metadata": {},
   "outputs": [],
   "source": [
    "mn = np.mean(arr)"
   ]
  },
  {
   "cell_type": "code",
   "execution_count": 17,
   "id": "303c0bf7",
   "metadata": {},
   "outputs": [],
   "source": [
    "md = np.median(arr)"
   ]
  },
  {
   "cell_type": "code",
   "execution_count": 18,
   "id": "ccbd44e1",
   "metadata": {},
   "outputs": [],
   "source": [
    "sd = np.std(arr)"
   ]
  },
  {
   "cell_type": "raw",
   "id": "f20c0729",
   "metadata": {},
   "source": []
  }
 ],
 "metadata": {
  "kernelspec": {
   "display_name": "Python 3 (ipykernel)",
   "language": "python",
   "name": "python3"
  },
  "language_info": {
   "codemirror_mode": {
    "name": "ipython",
    "version": 3
   },
   "file_extension": ".py",
   "mimetype": "text/x-python",
   "name": "python",
   "nbconvert_exporter": "python",
   "pygments_lexer": "ipython3",
   "version": "3.11.5"
  }
 },
 "nbformat": 4,
 "nbformat_minor": 5
}
