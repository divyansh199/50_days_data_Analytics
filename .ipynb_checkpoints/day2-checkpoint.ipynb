{
 "cells": [
  {
   "cell_type": "markdown",
   "id": "dd675fb6",
   "metadata": {},
   "source": [
    "# day-1"
   ]
  },
  {
   "cell_type": "code",
   "execution_count": null,
   "id": "34121c02",
   "metadata": {},
   "outputs": [],
   "source": [
    "Write code to import NumPy into your script. Check the version of NumPy installed.  Here is a list below:  list1 = [2, 3, 4, 6] Create a one-dimensional array from the list above. Write another line of code to check the shape and size of your array. Write a function that takes this array and returns a new array with all the values in the original array reversed. list1 = [2, 3, 4, 6]  list2 = [8, 10, 12, 14]\n",
    "\n",
    "Alexander, Benjamin. 50 Days of Data Analysis with Python: The Ultimate Challenges Book for Beginners: Hands-on Challenges with pandas, NumPy, Matplotlib, Sklearn and Seaborn (p. 64). Kin\n",
    "\n",
    "Create an array from the two lists above. Then write code to check the shape, dimensions,  and data type of the array. list1 = [2, 3, 4, 6]  list2 = [8, 10.1, 12, 14] list3 = [16, 18, 20, 22.1] Create an array from the three (3) lists above. Take note that some of the lists contain floats. Create an array that will have an int64 data type. Is it possible to create an array of both floats and integers?\n",
    "\n",
    "Alexander, Benjamin. 50 Days of Data Analysis with Python: The Ultimate Challenges Book for Beginners: Hands-on Challenges with pandas, NumPy, Matplotlib, Sklearn and Seaborn (p. 64). Kindle Edition. "
   ]
  },
  {
   "cell_type": "code",
   "execution_count": 1,
   "id": "f5722aa7",
   "metadata": {},
   "outputs": [],
   "source": [
    "import numpy as np"
   ]
  },
  {
   "cell_type": "code",
   "execution_count": 2,
   "id": "927adae5",
   "metadata": {},
   "outputs": [
    {
     "ename": "NameError",
     "evalue": "name 'version' is not defined",
     "output_type": "error",
     "traceback": [
      "\u001b[1;31m---------------------------------------------------------------------------\u001b[0m",
      "\u001b[1;31mNameError\u001b[0m                                 Traceback (most recent call last)",
      "Cell \u001b[1;32mIn[2], line 1\u001b[0m\n\u001b[1;32m----> 1\u001b[0m version\n",
      "\u001b[1;31mNameError\u001b[0m: name 'version' is not defined"
     ]
    }
   ],
   "source": [
    "version"
   ]
  },
  {
   "cell_type": "code",
   "execution_count": 3,
   "id": "d0ab67d9",
   "metadata": {},
   "outputs": [
    {
     "ename": "AttributeError",
     "evalue": "module 'numpy' has no attribute 'v'",
     "output_type": "error",
     "traceback": [
      "\u001b[1;31m---------------------------------------------------------------------------\u001b[0m",
      "\u001b[1;31mAttributeError\u001b[0m                            Traceback (most recent call last)",
      "Cell \u001b[1;32mIn[3], line 1\u001b[0m\n\u001b[1;32m----> 1\u001b[0m np\u001b[38;5;241m.\u001b[39mv\n",
      "File \u001b[1;32m~\\anaconda3\\Lib\\site-packages\\numpy\\__init__.py:320\u001b[0m, in \u001b[0;36m__getattr__\u001b[1;34m(attr)\u001b[0m\n\u001b[0;32m    317\u001b[0m     \u001b[38;5;28;01mfrom\u001b[39;00m \u001b[38;5;21;01m.\u001b[39;00m\u001b[38;5;21;01mtesting\u001b[39;00m \u001b[38;5;28;01mimport\u001b[39;00m Tester\n\u001b[0;32m    318\u001b[0m     \u001b[38;5;28;01mreturn\u001b[39;00m Tester\n\u001b[1;32m--> 320\u001b[0m \u001b[38;5;28;01mraise\u001b[39;00m \u001b[38;5;167;01mAttributeError\u001b[39;00m(\u001b[38;5;124m\"\u001b[39m\u001b[38;5;124mmodule \u001b[39m\u001b[38;5;132;01m{!r}\u001b[39;00m\u001b[38;5;124m has no attribute \u001b[39m\u001b[38;5;124m\"\u001b[39m\n\u001b[0;32m    321\u001b[0m                      \u001b[38;5;124m\"\u001b[39m\u001b[38;5;132;01m{!r}\u001b[39;00m\u001b[38;5;124m\"\u001b[39m\u001b[38;5;241m.\u001b[39mformat(\u001b[38;5;18m__name__\u001b[39m, attr))\n",
      "\u001b[1;31mAttributeError\u001b[0m: module 'numpy' has no attribute 'v'"
     ]
    }
   ],
   "source": [
    "np.v"
   ]
  },
  {
   "cell_type": "code",
   "execution_count": 4,
   "id": "fafb6695",
   "metadata": {},
   "outputs": [
    {
     "data": {
      "text/plain": [
       "<module 'numpy.version' from 'C:\\\\Users\\\\Divyansh\\\\anaconda3\\\\Lib\\\\site-packages\\\\numpy\\\\version.py'>"
      ]
     },
     "execution_count": 4,
     "metadata": {},
     "output_type": "execute_result"
    }
   ],
   "source": [
    "np.version"
   ]
  },
  {
   "cell_type": "code",
   "execution_count": 5,
   "id": "645cc91b",
   "metadata": {},
   "outputs": [
    {
     "data": {
      "text/plain": [
       "'1.24.3'"
      ]
     },
     "execution_count": 5,
     "metadata": {},
     "output_type": "execute_result"
    }
   ],
   "source": [
    "np.__version__"
   ]
  },
  {
   "cell_type": "code",
   "execution_count": 8,
   "id": "e05183ca",
   "metadata": {},
   "outputs": [],
   "source": [
    "list1 = [2, 3, 4, 6]"
   ]
  },
  {
   "cell_type": "code",
   "execution_count": 10,
   "id": "68b04c4d",
   "metadata": {},
   "outputs": [],
   "source": [
    "l1=np.array(list1)"
   ]
  },
  {
   "cell_type": "code",
   "execution_count": 11,
   "id": "ae425598",
   "metadata": {},
   "outputs": [
    {
     "data": {
      "text/plain": [
       "array([2, 3, 4, 6])"
      ]
     },
     "execution_count": 11,
     "metadata": {},
     "output_type": "execute_result"
    }
   ],
   "source": [
    "l1 "
   ]
  },
  {
   "cell_type": "code",
   "execution_count": 12,
   "id": "961212be",
   "metadata": {},
   "outputs": [
    {
     "data": {
      "text/plain": [
       "(4,)"
      ]
     },
     "execution_count": 12,
     "metadata": {},
     "output_type": "execute_result"
    }
   ],
   "source": [
    "l1.shape"
   ]
  },
  {
   "cell_type": "code",
   "execution_count": 13,
   "id": "f7671938",
   "metadata": {},
   "outputs": [
    {
     "data": {
      "text/plain": [
       "4"
      ]
     },
     "execution_count": 13,
     "metadata": {},
     "output_type": "execute_result"
    }
   ],
   "source": [
    "l1.size"
   ]
  },
  {
   "cell_type": "code",
   "execution_count": 14,
   "id": "74a869a3",
   "metadata": {},
   "outputs": [],
   "source": [
    "def rev(arr):\n",
    "    return arr[::-1]\n"
   ]
  },
  {
   "cell_type": "code",
   "execution_count": 15,
   "id": "2e492f76",
   "metadata": {},
   "outputs": [
    {
     "data": {
      "text/plain": [
       "array([6, 4, 3, 2])"
      ]
     },
     "execution_count": 15,
     "metadata": {},
     "output_type": "execute_result"
    }
   ],
   "source": [
    "rev(l1)"
   ]
  },
  {
   "cell_type": "code",
   "execution_count": 18,
   "id": "42a4fcc3",
   "metadata": {},
   "outputs": [
    {
     "data": {
      "text/plain": [
       "array([6, 4, 3, 2])"
      ]
     },
     "execution_count": 18,
     "metadata": {},
     "output_type": "execute_result"
    }
   ],
   "source": [
    "#another way to do it by using flip\n",
    "rev_l=np.flip(l1,axis=None)\n",
    "rev_l"
   ]
  },
  {
   "cell_type": "code",
   "execution_count": 24,
   "id": "00ca8228",
   "metadata": {},
   "outputs": [],
   "source": [
    "li1=[2,3,4,6]\n",
    "li2=[8,10,12,14]\n",
    "arr_c=np.array([li1,li2])"
   ]
  },
  {
   "cell_type": "code",
   "execution_count": 25,
   "id": "8a73dca9",
   "metadata": {},
   "outputs": [
    {
     "data": {
      "text/plain": [
       "array([[ 2,  3,  4,  6],\n",
       "       [ 8, 10, 12, 14]])"
      ]
     },
     "execution_count": 25,
     "metadata": {},
     "output_type": "execute_result"
    }
   ],
   "source": [
    "arr_c"
   ]
  },
  {
   "cell_type": "code",
   "execution_count": 26,
   "id": "5fcfce56",
   "metadata": {},
   "outputs": [
    {
     "data": {
      "text/plain": [
       "(2, 4)"
      ]
     },
     "execution_count": 26,
     "metadata": {},
     "output_type": "execute_result"
    }
   ],
   "source": [
    "arr_c.shape\n"
   ]
  },
  {
   "cell_type": "code",
   "execution_count": 27,
   "id": "f475c9cf",
   "metadata": {},
   "outputs": [
    {
     "data": {
      "text/plain": [
       "8"
      ]
     },
     "execution_count": 27,
     "metadata": {},
     "output_type": "execute_result"
    }
   ],
   "source": [
    "arr_c.size\n"
   ]
  },
  {
   "cell_type": "code",
   "execution_count": 28,
   "id": "164c6326",
   "metadata": {},
   "outputs": [
    {
     "data": {
      "text/plain": [
       "dtype('int32')"
      ]
     },
     "execution_count": 28,
     "metadata": {},
     "output_type": "execute_result"
    }
   ],
   "source": [
    "arr_c.dtype"
   ]
  },
  {
   "cell_type": "code",
   "execution_count": 29,
   "id": "cb7c08d3",
   "metadata": {},
   "outputs": [
    {
     "data": {
      "text/plain": [
       "2"
      ]
     },
     "execution_count": 29,
     "metadata": {},
     "output_type": "execute_result"
    }
   ],
   "source": [
    "arr_c.ndim\n"
   ]
  },
  {
   "cell_type": "code",
   "execution_count": 30,
   "id": "74e872e2",
   "metadata": {},
   "outputs": [],
   "source": [
    "list1 = [2, 3, 4, 6]\n",
    "list2 = [8, 10.1, 12, 14]\n",
    "list3 = [16, 18, 20, 22.1]\n",
    "\n",
    "a123=np.array([list1,list2,list3],dtype=\"int\")"
   ]
  },
  {
   "cell_type": "code",
   "execution_count": 31,
   "id": "83b24847",
   "metadata": {},
   "outputs": [
    {
     "data": {
      "text/plain": [
       "array([[ 2,  3,  4,  6],\n",
       "       [ 8, 10, 12, 14],\n",
       "       [16, 18, 20, 22]])"
      ]
     },
     "execution_count": 31,
     "metadata": {},
     "output_type": "execute_result"
    }
   ],
   "source": [
    "a123"
   ]
  },
  {
   "cell_type": "code",
   "execution_count": 32,
   "id": "832f1c67",
   "metadata": {},
   "outputs": [],
   "source": [
    "a123=np.array([list1,list2,list3],dtype=\"float\")"
   ]
  },
  {
   "cell_type": "code",
   "execution_count": 33,
   "id": "3e66584f",
   "metadata": {},
   "outputs": [
    {
     "data": {
      "text/plain": [
       "array([[ 2. ,  3. ,  4. ,  6. ],\n",
       "       [ 8. , 10.1, 12. , 14. ],\n",
       "       [16. , 18. , 20. , 22.1]])"
      ]
     },
     "execution_count": 33,
     "metadata": {},
     "output_type": "execute_result"
    }
   ],
   "source": [
    "a123"
   ]
  },
  {
   "cell_type": "code",
   "execution_count": null,
   "id": "8650ecba",
   "metadata": {},
   "outputs": [],
   "source": []
  }
 ],
 "metadata": {
  "kernelspec": {
   "display_name": "Python 3 (ipykernel)",
   "language": "python",
   "name": "python3"
  },
  "language_info": {
   "codemirror_mode": {
    "name": "ipython",
    "version": 3
   },
   "file_extension": ".py",
   "mimetype": "text/x-python",
   "name": "python",
   "nbconvert_exporter": "python",
   "pygments_lexer": "ipython3",
   "version": "3.11.5"
  }
 },
 "nbformat": 4,
 "nbformat_minor": 5
}
