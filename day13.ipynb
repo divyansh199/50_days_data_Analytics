{
 "cells": [
  {
   "cell_type": "markdown",
   "id": "c2b7a55f",
   "metadata": {},
   "source": [
    "# Day13"
   ]
  },
  {
   "cell_type": "code",
   "execution_count": 1,
   "id": "c4123a26",
   "metadata": {},
   "outputs": [],
   "source": [
    "import numpy as np"
   ]
  },
  {
   "cell_type": "code",
   "execution_count": 2,
   "id": "88735364",
   "metadata": {},
   "outputs": [],
   "source": [
    "names = [\"jhon\",\"kelly\",\"jos\",\"peter\",\"robert\",\"piper\"]\n",
    "age = [21,21,56,44,56,96]\n",
    "gender = ['m','f','m','m','m','f']"
   ]
  },
  {
   "cell_type": "code",
   "execution_count": 3,
   "id": "7d41b763",
   "metadata": {},
   "outputs": [],
   "source": [
    "arr = np.array([names,age,gender]).transpose()"
   ]
  },
  {
   "cell_type": "code",
   "execution_count": 4,
   "id": "0edcd595",
   "metadata": {},
   "outputs": [
    {
     "data": {
      "text/plain": [
       "array([['jhon', '21', 'm'],\n",
       "       ['kelly', '21', 'f'],\n",
       "       ['jos', '56', 'm'],\n",
       "       ['peter', '44', 'm'],\n",
       "       ['robert', '56', 'm'],\n",
       "       ['piper', '96', 'f']], dtype='<U11')"
      ]
     },
     "execution_count": 4,
     "metadata": {},
     "output_type": "execute_result"
    }
   ],
   "source": [
    "arr"
   ]
  },
  {
   "cell_type": "code",
   "execution_count": 8,
   "id": "f93e6511",
   "metadata": {},
   "outputs": [],
   "source": [
    "arr2 = arr[5,::1]"
   ]
  },
  {
   "cell_type": "code",
   "execution_count": 10,
   "id": "9a22571b",
   "metadata": {},
   "outputs": [
    {
     "data": {
      "text/plain": [
       "array(['piper', '96', 'f'], dtype='<U11')"
      ]
     },
     "execution_count": 10,
     "metadata": {},
     "output_type": "execute_result"
    }
   ],
   "source": [
    "arr2"
   ]
  },
  {
   "cell_type": "code",
   "execution_count": 13,
   "id": "cc3f47fa",
   "metadata": {},
   "outputs": [],
   "source": [
    "arr3 = arr[:2:1 ,::1].transpose()"
   ]
  },
  {
   "cell_type": "code",
   "execution_count": 14,
   "id": "9c5920af",
   "metadata": {},
   "outputs": [
    {
     "data": {
      "text/plain": [
       "array([['jhon', 'kelly'],\n",
       "       ['21', '21'],\n",
       "       ['m', 'f']], dtype='<U11')"
      ]
     },
     "execution_count": 14,
     "metadata": {},
     "output_type": "execute_result"
    }
   ],
   "source": [
    "arr3"
   ]
  },
  {
   "cell_type": "code",
   "execution_count": 15,
   "id": "537c3ccd",
   "metadata": {},
   "outputs": [],
   "source": [
    "age = int(arr[3,1])"
   ]
  },
  {
   "cell_type": "code",
   "execution_count": 16,
   "id": "3016ed5a",
   "metadata": {},
   "outputs": [
    {
     "data": {
      "text/plain": [
       "44"
      ]
     },
     "execution_count": 16,
     "metadata": {},
     "output_type": "execute_result"
    }
   ],
   "source": [
    "age"
   ]
  },
  {
   "cell_type": "code",
   "execution_count": 17,
   "id": "541dd5c8",
   "metadata": {},
   "outputs": [],
   "source": [
    "a_g = arr[1,1::1]"
   ]
  },
  {
   "cell_type": "code",
   "execution_count": 18,
   "id": "08a87118",
   "metadata": {},
   "outputs": [
    {
     "data": {
      "text/plain": [
       "array(['21', 'f'], dtype='<U11')"
      ]
     },
     "execution_count": 18,
     "metadata": {},
     "output_type": "execute_result"
    }
   ],
   "source": [
    "a_g"
   ]
  },
  {
   "cell_type": "code",
   "execution_count": 19,
   "id": "342c3155",
   "metadata": {},
   "outputs": [],
   "source": [
    "a2 = arr[::1,1]"
   ]
  },
  {
   "cell_type": "code",
   "execution_count": 20,
   "id": "8f4e80bb",
   "metadata": {},
   "outputs": [
    {
     "data": {
      "text/plain": [
       "array(['21', '21', '56', '44', '56', '96'], dtype='<U11')"
      ]
     },
     "execution_count": 20,
     "metadata": {},
     "output_type": "execute_result"
    }
   ],
   "source": [
    "a2"
   ]
  },
  {
   "cell_type": "code",
   "execution_count": 21,
   "id": "d9342b02",
   "metadata": {},
   "outputs": [
    {
     "data": {
      "text/plain": [
       "(6,)"
      ]
     },
     "execution_count": 21,
     "metadata": {},
     "output_type": "execute_result"
    }
   ],
   "source": [
    "a2.shape"
   ]
  },
  {
   "cell_type": "code",
   "execution_count": 22,
   "id": "cec6805a",
   "metadata": {},
   "outputs": [],
   "source": [
    "import matplotlib.pyplot as plt"
   ]
  },
  {
   "cell_type": "code",
   "execution_count": 23,
   "id": "edb8fa50",
   "metadata": {},
   "outputs": [
    {
     "data": {
      "text/plain": [
       "<Figure size 1200x800 with 0 Axes>"
      ]
     },
     "execution_count": 23,
     "metadata": {},
     "output_type": "execute_result"
    },
    {
     "data": {
      "text/plain": [
       "<Figure size 1200x800 with 0 Axes>"
      ]
     },
     "metadata": {},
     "output_type": "display_data"
    }
   ],
   "source": [
    "plt.figure(figsize = (12,8))"
   ]
  },
  {
   "cell_type": "code",
   "execution_count": 26,
   "id": "0cca9b27",
   "metadata": {},
   "outputs": [
    {
     "data": {
      "image/png": "[encoded data removed]",
      "text/plain": [
       "<Figure size 640x480 with 1 Axes>"
      ]
     },
     "metadata": {},
     "output_type": "display_data"
    }
   ],
   "source": [
    "plt.hist(a2,bins=20)\n",
    "plt.title('histo',fontsize=20)\n",
    "plt.xlabel(\"ages\")\n",
    "plt.ylabel(\"ages\")\n",
    "plt.show()"
   ]
  },
  {
   "cell_type": "code",
   "execution_count": null,
   "id": "7987499f",
   "metadata": {},
   "outputs": [],
   "source": []
  }
 ],
 "metadata": {
  "kernelspec": {
   "display_name": "Python 3 (ipykernel)",
   "language": "python",
   "name": "python3"
  },
  "language_info": {
   "codemirror_mode": {
    "name": "ipython",
    "version": 3
   },
   "file_extension": ".py",
   "mimetype": "text/x-python",
   "name": "python",
   "nbconvert_exporter": "python",
   "pygments_lexer": "ipython3",
   "version": "3.11.5"
  }
 },
 "nbformat": 4,
 "nbformat_minor": 5
}
