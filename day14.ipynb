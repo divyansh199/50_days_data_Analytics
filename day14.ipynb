{
 "cells": [
  {
   "cell_type": "markdown",
   "id": "93f8b0bf",
   "metadata": {},
   "source": [
    "# day14"
   ]
  },
  {
   "cell_type": "code",
   "execution_count": 77,
   "id": "542a9a3e",
   "metadata": {},
   "outputs": [],
   "source": [
    "names = [\"Kelly\", \"Ben\", \"Jack\", \"Mhammad\", \"Jose\", \"Liz\"]\n",
    "grades = [45,65,75,35,85,40]\n",
    "classes = [\"a\",\"c\",\"e\",\"g\",\"e\",\"f\"]"
   ]
  },
  {
   "cell_type": "code",
   "execution_count": 78,
   "id": "8951aa2e",
   "metadata": {},
   "outputs": [],
   "source": [
    "import numpy as np"
   ]
  },
  {
   "cell_type": "code",
   "execution_count": 79,
   "id": "8fa3b4bc",
   "metadata": {},
   "outputs": [],
   "source": [
    "arr = np.array([names,grades,classes])"
   ]
  },
  {
   "cell_type": "code",
   "execution_count": 80,
   "id": "91028a73",
   "metadata": {},
   "outputs": [
    {
     "data": {
      "text/plain": [
       "array([['Kelly', 'Ben', 'Jack', 'Mhammad', 'Jose', 'Liz'],\n",
       "       ['45', '65', '75', '35', '85', '40'],\n",
       "       ['a', 'c', 'e', 'g', 'e', 'f']], dtype='<U11')"
      ]
     },
     "execution_count": 80,
     "metadata": {},
     "output_type": "execute_result"
    }
   ],
   "source": [
    "arr"
   ]
  },
  {
   "cell_type": "code",
   "execution_count": 87,
   "id": "65884a3b",
   "metadata": {},
   "outputs": [],
   "source": [
    "name = np.array(arr[0,::])"
   ]
  },
  {
   "cell_type": "code",
   "execution_count": 88,
   "id": "e798cb74",
   "metadata": {},
   "outputs": [
    {
     "data": {
      "text/plain": [
       "array(['Kelly', 'Ben', 'Jack', 'Mhammad', 'Jose', 'Liz'], dtype='<U11')"
      ]
     },
     "execution_count": 88,
     "metadata": {},
     "output_type": "execute_result"
    }
   ],
   "source": [
    "name"
   ]
  },
  {
   "cell_type": "code",
   "execution_count": 89,
   "id": "c648b92a",
   "metadata": {},
   "outputs": [],
   "source": [
    "marks = np.array(arr[1,::],dtype=int)"
   ]
  },
  {
   "cell_type": "code",
   "execution_count": 90,
   "id": "5e950463",
   "metadata": {},
   "outputs": [
    {
     "data": {
      "text/plain": [
       "array([45, 65, 75, 35, 85, 40])"
      ]
     },
     "execution_count": 90,
     "metadata": {},
     "output_type": "execute_result"
    }
   ],
   "source": [
    "marks"
   ]
  },
  {
   "cell_type": "code",
   "execution_count": 91,
   "id": "c593916c",
   "metadata": {},
   "outputs": [],
   "source": [
    "grads = np.array(arr[2,::])"
   ]
  },
  {
   "cell_type": "code",
   "execution_count": 92,
   "id": "cc3ad873",
   "metadata": {},
   "outputs": [
    {
     "data": {
      "text/plain": [
       "array(['a', 'c', 'e', 'g', 'e', 'f'], dtype='<U11')"
      ]
     },
     "execution_count": 92,
     "metadata": {},
     "output_type": "execute_result"
    }
   ],
   "source": [
    "grads"
   ]
  },
  {
   "cell_type": "code",
   "execution_count": 107,
   "id": "1dc8470a",
   "metadata": {},
   "outputs": [
    {
     "data": {
      "text/plain": [
       "(array([2, 4], dtype=int64),)"
      ]
     },
     "execution_count": 107,
     "metadata": {},
     "output_type": "execute_result"
    }
   ],
   "source": [
    "stud_nam = np.where(marks >50) and  np.where(grads == \"e\")\n",
    "stud_nam "
   ]
  },
  {
   "cell_type": "code",
   "execution_count": 111,
   "id": "b5bea779",
   "metadata": {},
   "outputs": [
    {
     "data": {
      "text/plain": [
       "array(['Jack', 'Jose'], dtype='<U11')"
      ]
     },
     "execution_count": 111,
     "metadata": {},
     "output_type": "execute_result"
    }
   ],
   "source": [
    "name[stud_nam]"
   ]
  },
  {
   "cell_type": "code",
   "execution_count": 112,
   "id": "e17d1585",
   "metadata": {},
   "outputs": [],
   "source": [
    "stud_mark_75 = np.where(marks<75)"
   ]
  },
  {
   "cell_type": "code",
   "execution_count": 113,
   "id": "78a633d0",
   "metadata": {},
   "outputs": [
    {
     "data": {
      "text/plain": [
       "array(['Kelly', 'Ben', 'Mhammad', 'Liz'], dtype='<U11')"
      ]
     },
     "execution_count": 113,
     "metadata": {},
     "output_type": "execute_result"
    }
   ],
   "source": [
    "name[stud_mark_75]"
   ]
  },
  {
   "cell_type": "code",
   "execution_count": 115,
   "id": "a075f15e",
   "metadata": {},
   "outputs": [],
   "source": [
    "liz= np.where(name=='Liz')"
   ]
  },
  {
   "cell_type": "code",
   "execution_count": 116,
   "id": "563e6203",
   "metadata": {},
   "outputs": [
    {
     "data": {
      "text/plain": [
       "array([40])"
      ]
     },
     "execution_count": 116,
     "metadata": {},
     "output_type": "execute_result"
    }
   ],
   "source": [
    "marks[liz]"
   ]
  },
  {
   "cell_type": "code",
   "execution_count": 117,
   "id": "3b4dc507",
   "metadata": {},
   "outputs": [],
   "source": [
    "high = np.argmax(marks)"
   ]
  },
  {
   "cell_type": "code",
   "execution_count": 118,
   "id": "abe55f93",
   "metadata": {},
   "outputs": [
    {
     "data": {
      "text/plain": [
       "4"
      ]
     },
     "execution_count": 118,
     "metadata": {},
     "output_type": "execute_result"
    }
   ],
   "source": [
    "high"
   ]
  },
  {
   "cell_type": "code",
   "execution_count": 119,
   "id": "807cc8d0",
   "metadata": {},
   "outputs": [
    {
     "data": {
      "text/plain": [
       "'Jose'"
      ]
     },
     "execution_count": 119,
     "metadata": {},
     "output_type": "execute_result"
    }
   ],
   "source": [
    "name[high]"
   ]
  },
  {
   "cell_type": "code",
   "execution_count": 124,
   "id": "f3fdc3b3",
   "metadata": {},
   "outputs": [
    {
     "data": {
      "text/plain": [
       "3"
      ]
     },
     "execution_count": 124,
     "metadata": {},
     "output_type": "execute_result"
    }
   ],
   "source": [
    "l_name = np.argmax(name)\n",
    "l_name"
   ]
  },
  {
   "cell_type": "code",
   "execution_count": 121,
   "id": "a1849d2d",
   "metadata": {},
   "outputs": [
    {
     "data": {
      "text/plain": [
       "'Mhammad'"
      ]
     },
     "execution_count": 121,
     "metadata": {},
     "output_type": "execute_result"
    }
   ],
   "source": [
    "name[l_name]"
   ]
  },
  {
   "cell_type": "code",
   "execution_count": 122,
   "id": "557ae5b5",
   "metadata": {},
   "outputs": [
    {
     "data": {
      "text/plain": [
       "7"
      ]
     },
     "execution_count": 122,
     "metadata": {},
     "output_type": "execute_result"
    }
   ],
   "source": [
    "len(name[l_name])"
   ]
  },
  {
   "cell_type": "code",
   "execution_count": null,
   "id": "8d8f492e",
   "metadata": {},
   "outputs": [],
   "source": [
    "a"
   ]
  }
 ],
 "metadata": {
  "kernelspec": {
   "display_name": "Python 3 (ipykernel)",
   "language": "python",
   "name": "python3"
  },
  "language_info": {
   "codemirror_mode": {
    "name": "ipython",
    "version": 3
   },
   "file_extension": ".py",
   "mimetype": "text/x-python",
   "name": "python",
   "nbconvert_exporter": "python",
   "pygments_lexer": "ipython3",
   "version": "3.11.5"
  }
 },
 "nbformat": 4,
 "nbformat_minor": 5
}
