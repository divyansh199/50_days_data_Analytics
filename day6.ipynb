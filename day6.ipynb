{
 "cells": [
  {
   "cell_type": "markdown",
   "id": "013e7627",
   "metadata": {},
   "source": [
    "# day6"
   ]
  },
  {
   "cell_type": "code",
   "execution_count": null,
   "id": "ae3de7e0",
   "metadata": {},
   "outputs": [],
   "source": [
    "In this challenge, your task is to create a NumPy array from a list of strings.\n",
    "This particular challenge aims to assess your proficiency in generating arrays \n",
    "and manipulating array data types as a means of enhancing data processing flexibility.\n",
    "list_str = [\"23\", \"12\", \"90\", \"28\", \"30\"] Create a NumPy array with the list above.\n",
    "Calculate the standard deviation of the array.  Write a code to change the data type of\n",
    "the array you created in question one (1) to a floating data type. Save this as a new variable.\n",
    "Write a code to return the sum of values [90.0, 28.0, 30.0] from the array you just created in\n",
    "question (3).  Create a 2-dimensional array of random integers from 0 to 100 with the shape (5, 5).\n",
    "Use the array to find the minimum and maximum values, as well as the mean and standard deviation. \n",
    "Ensure that the results are reproducible.  Below are two arrays:  first_names = [\"John\", \" Kenny\"] \n",
    "last_names = [\"Smith\", \" Sakula\"] Using NumPy’s char.join() function, create two arrays by \n",
    "joining the first name with the last name. Your first array should be: array(['John', 'Smith'],\n",
    "dtype='U6'). Your second array should be: array(['Kenny', 'Sakula'], dtype='U6')."
   ]
  },
  {
   "cell_type": "code",
   "execution_count": 1,
   "id": "a96ecaa5",
   "metadata": {},
   "outputs": [],
   "source": [
    "import numpy as np"
   ]
  },
  {
   "cell_type": "code",
   "execution_count": 2,
   "id": "10996683",
   "metadata": {},
   "outputs": [],
   "source": [
    "list_str = [\"23\", \"12\", \"90\", \"28\", \"30\"]"
   ]
  },
  {
   "cell_type": "code",
   "execution_count": 5,
   "id": "9d5d0b30",
   "metadata": {},
   "outputs": [],
   "source": [
    "l1 = np.array(list_str, dtype= int)"
   ]
  },
  {
   "cell_type": "code",
   "execution_count": 6,
   "id": "0030e738",
   "metadata": {},
   "outputs": [
    {
     "data": {
      "text/plain": [
       "array([23, 12, 90, 28, 30])"
      ]
     },
     "execution_count": 6,
     "metadata": {},
     "output_type": "execute_result"
    }
   ],
   "source": [
    "l1"
   ]
  },
  {
   "cell_type": "code",
   "execution_count": 7,
   "id": "ac929d74",
   "metadata": {},
   "outputs": [],
   "source": [
    "sd = np.std(l1)"
   ]
  },
  {
   "cell_type": "code",
   "execution_count": 8,
   "id": "035c88df",
   "metadata": {},
   "outputs": [
    {
     "data": {
      "text/plain": [
       "27.419700946582186"
      ]
     },
     "execution_count": 8,
     "metadata": {},
     "output_type": "execute_result"
    }
   ],
   "source": [
    "sd"
   ]
  },
  {
   "cell_type": "code",
   "execution_count": 16,
   "id": "c40f7440",
   "metadata": {},
   "outputs": [],
   "source": [
    "l2 = np.array(list_str,dtype = float)"
   ]
  },
  {
   "cell_type": "code",
   "execution_count": 17,
   "id": "726aceef",
   "metadata": {},
   "outputs": [
    {
     "data": {
      "text/plain": [
       "array([23., 12., 90., 28., 30.])"
      ]
     },
     "execution_count": 17,
     "metadata": {},
     "output_type": "execute_result"
    }
   ],
   "source": [
    "l2"
   ]
  },
  {
   "cell_type": "code",
   "execution_count": 18,
   "id": "05a8b0ff",
   "metadata": {},
   "outputs": [],
   "source": [
    "l2 = l1.astype(float)"
   ]
  },
  {
   "cell_type": "code",
   "execution_count": 19,
   "id": "8c0fd7e0",
   "metadata": {},
   "outputs": [
    {
     "data": {
      "text/plain": [
       "array([23., 12., 90., 28., 30.])"
      ]
     },
     "execution_count": 19,
     "metadata": {},
     "output_type": "execute_result"
    }
   ],
   "source": [
    "l2"
   ]
  },
  {
   "cell_type": "code",
   "execution_count": 20,
   "id": "b38b18af",
   "metadata": {},
   "outputs": [],
   "source": [
    "n_a = np.sum(l2[2::1])"
   ]
  },
  {
   "cell_type": "code",
   "execution_count": 21,
   "id": "acfa3f42",
   "metadata": {},
   "outputs": [
    {
     "data": {
      "text/plain": [
       "148.0"
      ]
     },
     "execution_count": 21,
     "metadata": {},
     "output_type": "execute_result"
    }
   ],
   "source": [
    "n_a"
   ]
  },
  {
   "cell_type": "code",
   "execution_count": 22,
   "id": "d0a70803",
   "metadata": {},
   "outputs": [],
   "source": [
    "rng = np.random.default_rng(seed = 44)\n",
    "arr_r = rng.integers(0,100,(5,5))"
   ]
  },
  {
   "cell_type": "code",
   "execution_count": 24,
   "id": "e0727b1c",
   "metadata": {},
   "outputs": [
    {
     "data": {
      "text/plain": [
       "array([[66, 12, 81, 25, 66],\n",
       "       [40,  8, 96, 53, 16],\n",
       "       [99, 85,  1, 16, 10],\n",
       "       [33, 40, 67, 73, 61],\n",
       "       [44, 95, 37, 41, 40]], dtype=int64)"
      ]
     },
     "execution_count": 24,
     "metadata": {},
     "output_type": "execute_result"
    }
   ],
   "source": [
    "arr_r"
   ]
  },
  {
   "cell_type": "code",
   "execution_count": 25,
   "id": "db549ace",
   "metadata": {},
   "outputs": [],
   "source": [
    "maxi = np.max(arr_r)"
   ]
  },
  {
   "cell_type": "code",
   "execution_count": 26,
   "id": "062caac0",
   "metadata": {},
   "outputs": [
    {
     "data": {
      "text/plain": [
       "99"
      ]
     },
     "execution_count": 26,
     "metadata": {},
     "output_type": "execute_result"
    }
   ],
   "source": [
    "maxi"
   ]
  },
  {
   "cell_type": "code",
   "execution_count": 27,
   "id": "36d4eb4f",
   "metadata": {},
   "outputs": [],
   "source": [
    "mini = np.min(arr_r)"
   ]
  },
  {
   "cell_type": "code",
   "execution_count": 28,
   "id": "963e10db",
   "metadata": {},
   "outputs": [
    {
     "data": {
      "text/plain": [
       "1"
      ]
     },
     "execution_count": 28,
     "metadata": {},
     "output_type": "execute_result"
    }
   ],
   "source": [
    "mini"
   ]
  },
  {
   "cell_type": "code",
   "execution_count": 29,
   "id": "601fac29",
   "metadata": {},
   "outputs": [],
   "source": [
    "mn = np.mean(arr_r)"
   ]
  },
  {
   "cell_type": "code",
   "execution_count": 30,
   "id": "e45ad734",
   "metadata": {},
   "outputs": [
    {
     "data": {
      "text/plain": [
       "48.2"
      ]
     },
     "execution_count": 30,
     "metadata": {},
     "output_type": "execute_result"
    }
   ],
   "source": [
    "mn"
   ]
  },
  {
   "cell_type": "code",
   "execution_count": 31,
   "id": "f709d495",
   "metadata": {},
   "outputs": [],
   "source": [
    "sd = np.std(arr_r)"
   ]
  },
  {
   "cell_type": "code",
   "execution_count": 32,
   "id": "93740199",
   "metadata": {},
   "outputs": [
    {
     "data": {
      "text/plain": [
       "29.0709476969706"
      ]
     },
     "execution_count": 32,
     "metadata": {},
     "output_type": "execute_result"
    }
   ],
   "source": [
    "sd"
   ]
  },
  {
   "cell_type": "code",
   "execution_count": 33,
   "id": "0cec169d",
   "metadata": {},
   "outputs": [],
   "source": [
    "first_names = [\"John\", \" Kenny\"]\n",
    "last_names = [\"Smith\", \" Sakula\"]"
   ]
  },
  {
   "cell_type": "code",
   "execution_count": 50,
   "id": "39daf2be",
   "metadata": {},
   "outputs": [
    {
     "data": {
      "text/plain": [
       "array([['John', ' Kenny'],\n",
       "       ['Smith', ' Sakula']], dtype='<U7')"
      ]
     },
     "execution_count": 50,
     "metadata": {},
     "output_type": "execute_result"
    }
   ],
   "source": [
    "full_name = np.array([first_names,last_names])\n",
    "full_name"
   ]
  },
  {
   "cell_type": "code",
   "execution_count": 61,
   "id": "a7ad4d18",
   "metadata": {},
   "outputs": [],
   "source": [
    "full_name1 = full_name[:2:1,0]\n",
    "full_name2 = full_name[:2:1,1]"
   ]
  },
  {
   "cell_type": "code",
   "execution_count": 62,
   "id": "53074539",
   "metadata": {},
   "outputs": [
    {
     "data": {
      "text/plain": [
       "array(['John', 'Smith'], dtype='<U7')"
      ]
     },
     "execution_count": 62,
     "metadata": {},
     "output_type": "execute_result"
    }
   ],
   "source": [
    "full_name1"
   ]
  },
  {
   "cell_type": "code",
   "execution_count": 63,
   "id": "f3f2ce7d",
   "metadata": {},
   "outputs": [
    {
     "data": {
      "text/plain": [
       "array([' Kenny', ' Sakula'], dtype='<U7')"
      ]
     },
     "execution_count": 63,
     "metadata": {},
     "output_type": "execute_result"
    }
   ],
   "source": [
    "full_name2"
   ]
  },
  {
   "cell_type": "code",
   "execution_count": null,
   "id": "8a0c74d5",
   "metadata": {},
   "outputs": [],
   "source": []
  }
 ],
 "metadata": {
  "kernelspec": {
   "display_name": "Python 3 (ipykernel)",
   "language": "python",
   "name": "python3"
  },
  "language_info": {
   "codemirror_mode": {
    "name": "ipython",
    "version": 3
   },
   "file_extension": ".py",
   "mimetype": "text/x-python",
   "name": "python",
   "nbconvert_exporter": "python",
   "pygments_lexer": "ipython3",
   "version": "3.11.5"
  }
 },
 "nbformat": 4,
 "nbformat_minor": 5
}
