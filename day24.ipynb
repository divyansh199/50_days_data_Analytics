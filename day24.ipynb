{
 "cells": [
  {
   "cell_type": "markdown",
   "id": "23797967",
   "metadata": {},
   "source": [
    "# day 24"
   ]
  },
  {
   "cell_type": "code",
   "execution_count": 137,
   "id": "a69d1029",
   "metadata": {},
   "outputs": [],
   "source": [
    "import pandas as pd\n",
    "from datetime import datetime"
   ]
  },
  {
   "cell_type": "code",
   "execution_count": 138,
   "id": "4a73813c",
   "metadata": {},
   "outputs": [
    {
     "data": {
      "text/html": [
       "<div>\n",
       "<style scoped>\n",
       "    .dataframe tbody tr th:only-of-type {\n",
       "        vertical-align: middle;\n",
       "    }\n",
       "\n",
       "    .dataframe tbody tr th {\n",
       "        vertical-align: top;\n",
       "    }\n",
       "\n",
       "    .dataframe thead th {\n",
       "        text-align: right;\n",
       "    }\n",
       "</style>\n",
       "<table border=\"1\" class=\"dataframe\">\n",
       "  <thead>\n",
       "    <tr style=\"text-align: right;\">\n",
       "      <th></th>\n",
       "      <th>date</th>\n",
       "      <th>products</th>\n",
       "      <th>sales</th>\n",
       "    </tr>\n",
       "  </thead>\n",
       "  <tbody>\n",
       "    <tr>\n",
       "      <th>0</th>\n",
       "      <td>11-20-2021</td>\n",
       "      <td>cars</td>\n",
       "      <td>19234</td>\n",
       "    </tr>\n",
       "    <tr>\n",
       "      <th>1</th>\n",
       "      <td>12-12-2021</td>\n",
       "      <td>boats</td>\n",
       "      <td>87598</td>\n",
       "    </tr>\n",
       "    <tr>\n",
       "      <th>2</th>\n",
       "      <td>11-07-2021</td>\n",
       "      <td>cars</td>\n",
       "      <td>15900</td>\n",
       "    </tr>\n",
       "    <tr>\n",
       "      <th>3</th>\n",
       "      <td>12-06-2021</td>\n",
       "      <td>boats</td>\n",
       "      <td>12087</td>\n",
       "    </tr>\n",
       "    <tr>\n",
       "      <th>4</th>\n",
       "      <td>12-09-2021</td>\n",
       "      <td>cars</td>\n",
       "      <td>56897</td>\n",
       "    </tr>\n",
       "    <tr>\n",
       "      <th>5</th>\n",
       "      <td>12-06-2021</td>\n",
       "      <td>houses</td>\n",
       "      <td>19345</td>\n",
       "    </tr>\n",
       "    <tr>\n",
       "      <th>6</th>\n",
       "      <td>11-20-2021</td>\n",
       "      <td>cars</td>\n",
       "      <td>19234</td>\n",
       "    </tr>\n",
       "    <tr>\n",
       "      <th>7</th>\n",
       "      <td>12-12-2021</td>\n",
       "      <td>boats</td>\n",
       "      <td>87598</td>\n",
       "    </tr>\n",
       "    <tr>\n",
       "      <th>8</th>\n",
       "      <td>12-06-2021</td>\n",
       "      <td>houses</td>\n",
       "      <td>20989</td>\n",
       "    </tr>\n",
       "    <tr>\n",
       "      <th>9</th>\n",
       "      <td>11-07-2021</td>\n",
       "      <td>cars</td>\n",
       "      <td>15900</td>\n",
       "    </tr>\n",
       "    <tr>\n",
       "      <th>10</th>\n",
       "      <td>12-06-2021</td>\n",
       "      <td>boats</td>\n",
       "      <td>12087</td>\n",
       "    </tr>\n",
       "    <tr>\n",
       "      <th>11</th>\n",
       "      <td>12-29-2021</td>\n",
       "      <td>cars</td>\n",
       "      <td>66897</td>\n",
       "    </tr>\n",
       "    <tr>\n",
       "      <th>12</th>\n",
       "      <td>11-25-2021</td>\n",
       "      <td>cars</td>\n",
       "      <td>22234</td>\n",
       "    </tr>\n",
       "    <tr>\n",
       "      <th>13</th>\n",
       "      <td>12-13-2021</td>\n",
       "      <td>houses</td>\n",
       "      <td>22789</td>\n",
       "    </tr>\n",
       "    <tr>\n",
       "      <th>14</th>\n",
       "      <td>12-06-2021</td>\n",
       "      <td>boats</td>\n",
       "      <td>14987</td>\n",
       "    </tr>\n",
       "    <tr>\n",
       "      <th>15</th>\n",
       "      <td>12-15-2021</td>\n",
       "      <td>cars</td>\n",
       "      <td>54897</td>\n",
       "    </tr>\n",
       "    <tr>\n",
       "      <th>16</th>\n",
       "      <td>11-20-2021</td>\n",
       "      <td>cars</td>\n",
       "      <td>19234</td>\n",
       "    </tr>\n",
       "    <tr>\n",
       "      <th>17</th>\n",
       "      <td>12-12-2021</td>\n",
       "      <td>boats</td>\n",
       "      <td>87598</td>\n",
       "    </tr>\n",
       "    <tr>\n",
       "      <th>18</th>\n",
       "      <td>12-12-2022</td>\n",
       "      <td>houses</td>\n",
       "      <td>21919</td>\n",
       "    </tr>\n",
       "  </tbody>\n",
       "</table>\n",
       "</div>"
      ],
      "text/plain": [
       "          date products  sales\n",
       "0   11-20-2021     cars  19234\n",
       "1   12-12-2021    boats  87598\n",
       "2   11-07-2021     cars  15900\n",
       "3   12-06-2021    boats  12087\n",
       "4   12-09-2021     cars  56897\n",
       "5   12-06-2021   houses  19345\n",
       "6   11-20-2021     cars  19234\n",
       "7   12-12-2021    boats  87598\n",
       "8   12-06-2021   houses  20989\n",
       "9   11-07-2021     cars  15900\n",
       "10  12-06-2021    boats  12087\n",
       "11  12-29-2021     cars  66897\n",
       "12  11-25-2021     cars  22234\n",
       "13  12-13-2021   houses  22789\n",
       "14  12-06-2021    boats  14987\n",
       "15  12-15-2021     cars  54897\n",
       "16  11-20-2021     cars  19234\n",
       "17  12-12-2021    boats  87598\n",
       "18  12-12-2022   houses  21919"
      ]
     },
     "execution_count": 138,
     "metadata": {},
     "output_type": "execute_result"
    }
   ],
   "source": [
    "df = pd.read_excel(\"Asset_sales_data.xlsx\")\n",
    "df"
   ]
  },
  {
   "cell_type": "code",
   "execution_count": 139,
   "id": "aeb698be",
   "metadata": {},
   "outputs": [
    {
     "name": "stdout",
     "output_type": "stream",
     "text": [
      "<class 'pandas.core.frame.DataFrame'>\n",
      "RangeIndex: 19 entries, 0 to 18\n",
      "Data columns (total 3 columns):\n",
      " #   Column    Non-Null Count  Dtype \n",
      "---  ------    --------------  ----- \n",
      " 0   date      19 non-null     object\n",
      " 1   products  19 non-null     object\n",
      " 2   sales     19 non-null     int64 \n",
      "dtypes: int64(1), object(2)\n",
      "memory usage: 588.0+ bytes\n"
     ]
    }
   ],
   "source": [
    "df.info()"
   ]
  },
  {
   "cell_type": "code",
   "execution_count": 140,
   "id": "5236406f",
   "metadata": {},
   "outputs": [
    {
     "data": {
      "text/html": [
       "<div>\n",
       "<style scoped>\n",
       "    .dataframe tbody tr th:only-of-type {\n",
       "        vertical-align: middle;\n",
       "    }\n",
       "\n",
       "    .dataframe tbody tr th {\n",
       "        vertical-align: top;\n",
       "    }\n",
       "\n",
       "    .dataframe thead th {\n",
       "        text-align: right;\n",
       "    }\n",
       "</style>\n",
       "<table border=\"1\" class=\"dataframe\">\n",
       "  <thead>\n",
       "    <tr style=\"text-align: right;\">\n",
       "      <th></th>\n",
       "      <th>date</th>\n",
       "      <th>products</th>\n",
       "      <th>sales</th>\n",
       "    </tr>\n",
       "  </thead>\n",
       "  <tbody>\n",
       "    <tr>\n",
       "      <th>0</th>\n",
       "      <td>11-20-2021</td>\n",
       "      <td>cars</td>\n",
       "      <td>19234</td>\n",
       "    </tr>\n",
       "    <tr>\n",
       "      <th>1</th>\n",
       "      <td>12-12-2021</td>\n",
       "      <td>boats</td>\n",
       "      <td>87598</td>\n",
       "    </tr>\n",
       "    <tr>\n",
       "      <th>2</th>\n",
       "      <td>11-07-2021</td>\n",
       "      <td>cars</td>\n",
       "      <td>15900</td>\n",
       "    </tr>\n",
       "    <tr>\n",
       "      <th>3</th>\n",
       "      <td>12-06-2021</td>\n",
       "      <td>boats</td>\n",
       "      <td>12087</td>\n",
       "    </tr>\n",
       "    <tr>\n",
       "      <th>4</th>\n",
       "      <td>12-09-2021</td>\n",
       "      <td>cars</td>\n",
       "      <td>56897</td>\n",
       "    </tr>\n",
       "  </tbody>\n",
       "</table>\n",
       "</div>"
      ],
      "text/plain": [
       "         date products  sales\n",
       "0  11-20-2021     cars  19234\n",
       "1  12-12-2021    boats  87598\n",
       "2  11-07-2021     cars  15900\n",
       "3  12-06-2021    boats  12087\n",
       "4  12-09-2021     cars  56897"
      ]
     },
     "execution_count": 140,
     "metadata": {},
     "output_type": "execute_result"
    }
   ],
   "source": [
    "df.head()"
   ]
  },
  {
   "cell_type": "code",
   "execution_count": 141,
   "id": "0f61e863",
   "metadata": {},
   "outputs": [],
   "source": [
    "c = df.columns"
   ]
  },
  {
   "cell_type": "code",
   "execution_count": 142,
   "id": "61187d0d",
   "metadata": {},
   "outputs": [
    {
     "data": {
      "text/plain": [
       "[<bound method NDFrame.astype of 0     11-20-2021\n",
       " 1     12-12-2021\n",
       " 2     11-07-2021\n",
       " 3     12-06-2021\n",
       " 4     12-09-2021\n",
       " 5     12-06-2021\n",
       " 6     11-20-2021\n",
       " 7     12-12-2021\n",
       " 8     12-06-2021\n",
       " 9     11-07-2021\n",
       " 10    12-06-2021\n",
       " 11    12-29-2021\n",
       " 12    11-25-2021\n",
       " 13    12-13-2021\n",
       " 14    12-06-2021\n",
       " 15    12-15-2021\n",
       " 16    11-20-2021\n",
       " 17    12-12-2021\n",
       " 18    12-12-2022\n",
       " Name: date, dtype: object>,\n",
       " <bound method NDFrame.astype of 0       cars\n",
       " 1      boats\n",
       " 2       cars\n",
       " 3      boats\n",
       " 4       cars\n",
       " 5     houses\n",
       " 6       cars\n",
       " 7      boats\n",
       " 8     houses\n",
       " 9       cars\n",
       " 10     boats\n",
       " 11      cars\n",
       " 12      cars\n",
       " 13    houses\n",
       " 14     boats\n",
       " 15      cars\n",
       " 16      cars\n",
       " 17     boats\n",
       " 18    houses\n",
       " Name: products, dtype: object>,\n",
       " <bound method NDFrame.astype of 0     19234\n",
       " 1     87598\n",
       " 2     15900\n",
       " 3     12087\n",
       " 4     56897\n",
       " 5     19345\n",
       " 6     19234\n",
       " 7     87598\n",
       " 8     20989\n",
       " 9     15900\n",
       " 10    12087\n",
       " 11    66897\n",
       " 12    22234\n",
       " 13    22789\n",
       " 14    14987\n",
       " 15    54897\n",
       " 16    19234\n",
       " 17    87598\n",
       " 18    21919\n",
       " Name: sales, dtype: int64>]"
      ]
     },
     "execution_count": 142,
     "metadata": {},
     "output_type": "execute_result"
    }
   ],
   "source": [
    "[ df[x].astype for x in c ] "
   ]
  },
  {
   "cell_type": "code",
   "execution_count": 143,
   "id": "d32d5228",
   "metadata": {},
   "outputs": [
    {
     "data": {
      "text/plain": [
       "<bound method NDFrame.astype of           date\n",
       "0   11-20-2021\n",
       "1   12-12-2021\n",
       "2   11-07-2021\n",
       "3   12-06-2021\n",
       "4   12-09-2021\n",
       "5   12-06-2021\n",
       "6   11-20-2021\n",
       "7   12-12-2021\n",
       "8   12-06-2021\n",
       "9   11-07-2021\n",
       "10  12-06-2021\n",
       "11  12-29-2021\n",
       "12  11-25-2021\n",
       "13  12-13-2021\n",
       "14  12-06-2021\n",
       "15  12-15-2021\n",
       "16  11-20-2021\n",
       "17  12-12-2021\n",
       "18  12-12-2022>"
      ]
     },
     "execution_count": 143,
     "metadata": {},
     "output_type": "execute_result"
    }
   ],
   "source": [
    "df[[\"date\"]].astype"
   ]
  },
  {
   "cell_type": "code",
   "execution_count": 144,
   "id": "f132ae9f",
   "metadata": {},
   "outputs": [],
   "source": [
    "df2 = df.copy()"
   ]
  },
  {
   "cell_type": "code",
   "execution_count": 145,
   "id": "44579508",
   "metadata": {},
   "outputs": [],
   "source": [
    "k = df2.groupby(\"date\")[\"sales\"].sum().idxmax()"
   ]
  },
  {
   "cell_type": "code",
   "execution_count": 167,
   "id": "f7ad3537",
   "metadata": {},
   "outputs": [],
   "source": [
    "h = datetime.strptime(k, '%m-%d-%Y')"
   ]
  },
  {
   "cell_type": "code",
   "execution_count": 168,
   "id": "1883a659",
   "metadata": {},
   "outputs": [],
   "source": [
    "month_name = h.strftime('%B')"
   ]
  },
  {
   "cell_type": "code",
   "execution_count": 169,
   "id": "74cdacd0",
   "metadata": {},
   "outputs": [
    {
     "data": {
      "text/plain": [
       "'December'"
      ]
     },
     "execution_count": 169,
     "metadata": {},
     "output_type": "execute_result"
    }
   ],
   "source": [
    "month_name"
   ]
  },
  {
   "cell_type": "code",
   "execution_count": 173,
   "id": "10172e48",
   "metadata": {},
   "outputs": [
    {
     "data": {
      "text/plain": [
       "262794"
      ]
     },
     "execution_count": 173,
     "metadata": {},
     "output_type": "execute_result"
    }
   ],
   "source": [
    "n = df2.groupby(\"date\")[\"sales\"].sum()\n",
    "n.max()"
   ]
  },
  {
   "cell_type": "code",
   "execution_count": 171,
   "id": "1306f9c5",
   "metadata": {},
   "outputs": [],
   "source": [
    "l = n[\"11-20-2021\": \"12-06-2021 \"].sum()"
   ]
  },
  {
   "cell_type": "code",
   "execution_count": 172,
   "id": "fcb4cca4",
   "metadata": {},
   "outputs": [
    {
     "data": {
      "text/plain": [
       "159431"
      ]
     },
     "execution_count": 172,
     "metadata": {},
     "output_type": "execute_result"
    }
   ],
   "source": [
    "l"
   ]
  },
  {
   "cell_type": "code",
   "execution_count": 174,
   "id": "23b89be1",
   "metadata": {},
   "outputs": [
    {
     "data": {
      "text/html": [
       "<div>\n",
       "<style scoped>\n",
       "    .dataframe tbody tr th:only-of-type {\n",
       "        vertical-align: middle;\n",
       "    }\n",
       "\n",
       "    .dataframe tbody tr th {\n",
       "        vertical-align: top;\n",
       "    }\n",
       "\n",
       "    .dataframe thead th {\n",
       "        text-align: right;\n",
       "    }\n",
       "</style>\n",
       "<table border=\"1\" class=\"dataframe\">\n",
       "  <thead>\n",
       "    <tr style=\"text-align: right;\">\n",
       "      <th></th>\n",
       "      <th>date</th>\n",
       "      <th>products</th>\n",
       "      <th>sales</th>\n",
       "    </tr>\n",
       "  </thead>\n",
       "  <tbody>\n",
       "    <tr>\n",
       "      <th>0</th>\n",
       "      <td>11-20-2021</td>\n",
       "      <td>cars</td>\n",
       "      <td>19234</td>\n",
       "    </tr>\n",
       "    <tr>\n",
       "      <th>1</th>\n",
       "      <td>12-12-2021</td>\n",
       "      <td>boats</td>\n",
       "      <td>87598</td>\n",
       "    </tr>\n",
       "    <tr>\n",
       "      <th>2</th>\n",
       "      <td>11-07-2021</td>\n",
       "      <td>cars</td>\n",
       "      <td>15900</td>\n",
       "    </tr>\n",
       "    <tr>\n",
       "      <th>3</th>\n",
       "      <td>12-06-2021</td>\n",
       "      <td>boats</td>\n",
       "      <td>12087</td>\n",
       "    </tr>\n",
       "    <tr>\n",
       "      <th>4</th>\n",
       "      <td>12-09-2021</td>\n",
       "      <td>cars</td>\n",
       "      <td>56897</td>\n",
       "    </tr>\n",
       "    <tr>\n",
       "      <th>5</th>\n",
       "      <td>12-06-2021</td>\n",
       "      <td>houses</td>\n",
       "      <td>19345</td>\n",
       "    </tr>\n",
       "    <tr>\n",
       "      <th>6</th>\n",
       "      <td>11-20-2021</td>\n",
       "      <td>cars</td>\n",
       "      <td>19234</td>\n",
       "    </tr>\n",
       "    <tr>\n",
       "      <th>7</th>\n",
       "      <td>12-12-2021</td>\n",
       "      <td>boats</td>\n",
       "      <td>87598</td>\n",
       "    </tr>\n",
       "    <tr>\n",
       "      <th>8</th>\n",
       "      <td>12-06-2021</td>\n",
       "      <td>houses</td>\n",
       "      <td>20989</td>\n",
       "    </tr>\n",
       "    <tr>\n",
       "      <th>9</th>\n",
       "      <td>11-07-2021</td>\n",
       "      <td>cars</td>\n",
       "      <td>15900</td>\n",
       "    </tr>\n",
       "    <tr>\n",
       "      <th>10</th>\n",
       "      <td>12-06-2021</td>\n",
       "      <td>boats</td>\n",
       "      <td>12087</td>\n",
       "    </tr>\n",
       "    <tr>\n",
       "      <th>11</th>\n",
       "      <td>12-29-2021</td>\n",
       "      <td>cars</td>\n",
       "      <td>66897</td>\n",
       "    </tr>\n",
       "    <tr>\n",
       "      <th>12</th>\n",
       "      <td>11-25-2021</td>\n",
       "      <td>cars</td>\n",
       "      <td>22234</td>\n",
       "    </tr>\n",
       "    <tr>\n",
       "      <th>13</th>\n",
       "      <td>12-13-2021</td>\n",
       "      <td>houses</td>\n",
       "      <td>22789</td>\n",
       "    </tr>\n",
       "    <tr>\n",
       "      <th>14</th>\n",
       "      <td>12-06-2021</td>\n",
       "      <td>boats</td>\n",
       "      <td>14987</td>\n",
       "    </tr>\n",
       "    <tr>\n",
       "      <th>15</th>\n",
       "      <td>12-15-2021</td>\n",
       "      <td>cars</td>\n",
       "      <td>54897</td>\n",
       "    </tr>\n",
       "    <tr>\n",
       "      <th>16</th>\n",
       "      <td>11-20-2021</td>\n",
       "      <td>cars</td>\n",
       "      <td>19234</td>\n",
       "    </tr>\n",
       "    <tr>\n",
       "      <th>17</th>\n",
       "      <td>12-12-2021</td>\n",
       "      <td>boats</td>\n",
       "      <td>87598</td>\n",
       "    </tr>\n",
       "    <tr>\n",
       "      <th>18</th>\n",
       "      <td>12-12-2022</td>\n",
       "      <td>houses</td>\n",
       "      <td>21919</td>\n",
       "    </tr>\n",
       "  </tbody>\n",
       "</table>\n",
       "</div>"
      ],
      "text/plain": [
       "          date products  sales\n",
       "0   11-20-2021     cars  19234\n",
       "1   12-12-2021    boats  87598\n",
       "2   11-07-2021     cars  15900\n",
       "3   12-06-2021    boats  12087\n",
       "4   12-09-2021     cars  56897\n",
       "5   12-06-2021   houses  19345\n",
       "6   11-20-2021     cars  19234\n",
       "7   12-12-2021    boats  87598\n",
       "8   12-06-2021   houses  20989\n",
       "9   11-07-2021     cars  15900\n",
       "10  12-06-2021    boats  12087\n",
       "11  12-29-2021     cars  66897\n",
       "12  11-25-2021     cars  22234\n",
       "13  12-13-2021   houses  22789\n",
       "14  12-06-2021    boats  14987\n",
       "15  12-15-2021     cars  54897\n",
       "16  11-20-2021     cars  19234\n",
       "17  12-12-2021    boats  87598\n",
       "18  12-12-2022   houses  21919"
      ]
     },
     "execution_count": 174,
     "metadata": {},
     "output_type": "execute_result"
    }
   ],
   "source": [
    "df"
   ]
  },
  {
   "cell_type": "code",
   "execution_count": 192,
   "id": "92dfce8a",
   "metadata": {},
   "outputs": [],
   "source": []
  },
  {
   "cell_type": "code",
   "execution_count": 193,
   "id": "5b0f4744",
   "metadata": {},
   "outputs": [
    {
     "data": {
      "text/plain": [
       "Index(['boats', 'cars', 'houses'], dtype='object', name='products')"
      ]
     },
     "execution_count": 193,
     "metadata": {},
     "output_type": "execute_result"
    }
   ],
   "source": [
    "df4.index"
   ]
  },
  {
   "cell_type": "code",
   "execution_count": 208,
   "id": "ebb80127",
   "metadata": {},
   "outputs": [],
   "source": [
    "import matplotlib.pyplot as plt"
   ]
  },
  {
   "cell_type": "code",
   "execution_count": 271,
   "id": "64b26033",
   "metadata": {},
   "outputs": [
    {
     "data": {
      "text/plain": [
       "Index(['boats', 'cars', 'houses'], dtype='object', name='products')"
      ]
     },
     "execution_count": 271,
     "metadata": {},
     "output_type": "execute_result"
    }
   ],
   "source": [
    "df4 = df.groupby([\"products\"])[\"sales\"].sum()\n",
    "df4.index"
   ]
  },
  {
   "cell_type": "code",
   "execution_count": 228,
   "id": "0da341f6",
   "metadata": {},
   "outputs": [],
   "source": [
    "explode = (0, 0.1, 0)"
   ]
  },
  {
   "cell_type": "code",
   "execution_count": 229,
   "id": "9fb6d175",
   "metadata": {},
   "outputs": [
    {
     "data": {
      "image/png": "[encoded data removed]",
      "text/plain": [
       "<Figure size 1200x800 with 1 Axes>"
      ]
     },
     "metadata": {},
     "output_type": "display_data"
    }
   ],
   "source": [
    "plt.figure( figsize=(12,8))\n",
    "plt.pie(df4,\n",
    "        explode = explode,\n",
    "        labels = df4.index,\n",
    "        autopct = '%1.1f%%',#add percentage \n",
    "        shadow = True)\n",
    "plt.axis('equal')\n",
    "plt.show()"
   ]
  },
  {
   "cell_type": "code",
   "execution_count": null,
   "id": "e8f07d41",
   "metadata": {},
   "outputs": [],
   "source": [
    "#pviot table"
   ]
  },
  {
   "cell_type": "code",
   "execution_count": 233,
   "id": "64b0a327",
   "metadata": {},
   "outputs": [],
   "source": [
    "sales_pro = df.pivot_table(values = 'sales',\n",
    "                           index = 'products',\n",
    "                            aggfunc = 'sum')"
   ]
  },
  {
   "cell_type": "code",
   "execution_count": 269,
   "id": "50ecff79",
   "metadata": {},
   "outputs": [],
   "source": [
    "c = sales_pro.values.reshape(1,3)\n",
    "k=c[0]"
   ]
  },
  {
   "cell_type": "code",
   "execution_count": 235,
   "id": "3131e5be",
   "metadata": {},
   "outputs": [
    {
     "data": {
      "text/plain": [
       "<Figure size 1200x800 with 0 Axes>"
      ]
     },
     "execution_count": 235,
     "metadata": {},
     "output_type": "execute_result"
    },
    {
     "data": {
      "text/plain": [
       "<Figure size 1200x800 with 0 Axes>"
      ]
     },
     "metadata": {},
     "output_type": "display_data"
    }
   ],
   "source": [
    "plt.figure(figsize = (12,8))"
   ]
  },
  {
   "cell_type": "code",
   "execution_count": 272,
   "id": "6e993a98",
   "metadata": {},
   "outputs": [
    {
     "data": {
      "image/png": "[encoded data removed]",
      "text/plain": [
       "<Figure size 640x480 with 1 Axes>"
      ]
     },
     "metadata": {},
     "output_type": "display_data"
    }
   ],
   "source": [
    "plt.bar(sales_pro.index, k)\n",
    "plt.xlabel(\"product\")\n",
    "plt.ylabel(\"sales\")\n",
    "plt.show()"
   ]
  },
  {
   "cell_type": "code",
   "execution_count": null,
   "id": "6facdc98",
   "metadata": {},
   "outputs": [],
   "source": []
  },
  {
   "cell_type": "code",
   "execution_count": null,
   "id": "8f7b640c",
   "metadata": {},
   "outputs": [],
   "source": []
  }
 ],
 "metadata": {
  "kernelspec": {
   "display_name": "Python 3 (ipykernel)",
   "language": "python",
   "name": "python3"
  },
  "language_info": {
   "codemirror_mode": {
    "name": "ipython",
    "version": 3
   },
   "file_extension": ".py",
   "mimetype": "text/x-python",
   "name": "python",
   "nbconvert_exporter": "python",
   "pygments_lexer": "ipython3",
   "version": "3.11.5"
  }
 },
 "nbformat": 4,
 "nbformat_minor": 5
}
