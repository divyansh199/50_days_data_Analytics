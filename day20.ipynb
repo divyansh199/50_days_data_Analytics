{
 "cells": [
  {
   "cell_type": "markdown",
   "id": "01094da9",
   "metadata": {},
   "source": [
    "# day20"
   ]
  },
  {
   "cell_type": "code",
   "execution_count": 1,
   "id": "ffdf0ea8",
   "metadata": {},
   "outputs": [],
   "source": [
    "import pandas as pd"
   ]
  },
  {
   "cell_type": "code",
   "execution_count": 2,
   "id": "ca431eba",
   "metadata": {},
   "outputs": [],
   "source": [
    "products = [\"sugar\",\"Salt\",\"oil\",\"diapers\",\"rice\"]\n",
    "costs = [2450,1989,6745,9807,8743]\n",
    "sales = [27908,4508,6734,9976,9000]"
   ]
  },
  {
   "cell_type": "code",
   "execution_count": 3,
   "id": "28bff569",
   "metadata": {},
   "outputs": [],
   "source": [
    "df = pd.DataFrame({\"Product\": products,\"Cost\": costs, \"Sale\": sales})"
   ]
  },
  {
   "cell_type": "code",
   "execution_count": 4,
   "id": "3807c0d5",
   "metadata": {},
   "outputs": [
    {
     "data": {
      "text/html": [
       "<div>\n",
       "<style scoped>\n",
       "    .dataframe tbody tr th:only-of-type {\n",
       "        vertical-align: middle;\n",
       "    }\n",
       "\n",
       "    .dataframe tbody tr th {\n",
       "        vertical-align: top;\n",
       "    }\n",
       "\n",
       "    .dataframe thead th {\n",
       "        text-align: right;\n",
       "    }\n",
       "</style>\n",
       "<table border=\"1\" class=\"dataframe\">\n",
       "  <thead>\n",
       "    <tr style=\"text-align: right;\">\n",
       "      <th></th>\n",
       "      <th>Product</th>\n",
       "      <th>Cost</th>\n",
       "      <th>Sale</th>\n",
       "    </tr>\n",
       "  </thead>\n",
       "  <tbody>\n",
       "    <tr>\n",
       "      <th>0</th>\n",
       "      <td>sugar</td>\n",
       "      <td>2450</td>\n",
       "      <td>27908</td>\n",
       "    </tr>\n",
       "    <tr>\n",
       "      <th>1</th>\n",
       "      <td>Salt</td>\n",
       "      <td>1989</td>\n",
       "      <td>4508</td>\n",
       "    </tr>\n",
       "    <tr>\n",
       "      <th>2</th>\n",
       "      <td>oil</td>\n",
       "      <td>6745</td>\n",
       "      <td>6734</td>\n",
       "    </tr>\n",
       "    <tr>\n",
       "      <th>3</th>\n",
       "      <td>diapers</td>\n",
       "      <td>9807</td>\n",
       "      <td>9976</td>\n",
       "    </tr>\n",
       "    <tr>\n",
       "      <th>4</th>\n",
       "      <td>rice</td>\n",
       "      <td>8743</td>\n",
       "      <td>9000</td>\n",
       "    </tr>\n",
       "  </tbody>\n",
       "</table>\n",
       "</div>"
      ],
      "text/plain": [
       "   Product  Cost   Sale\n",
       "0    sugar  2450  27908\n",
       "1     Salt  1989   4508\n",
       "2      oil  6745   6734\n",
       "3  diapers  9807   9976\n",
       "4     rice  8743   9000"
      ]
     },
     "execution_count": 4,
     "metadata": {},
     "output_type": "execute_result"
    }
   ],
   "source": [
    "df"
   ]
  },
  {
   "cell_type": "code",
   "execution_count": 13,
   "id": "a61008db",
   "metadata": {},
   "outputs": [],
   "source": [
    "df[\"net_earning\"] =  df[\"Sale\"] - df[\"Cost\"]"
   ]
  },
  {
   "cell_type": "code",
   "execution_count": 14,
   "id": "c338b857",
   "metadata": {},
   "outputs": [
    {
     "data": {
      "text/html": [
       "<div>\n",
       "<style scoped>\n",
       "    .dataframe tbody tr th:only-of-type {\n",
       "        vertical-align: middle;\n",
       "    }\n",
       "\n",
       "    .dataframe tbody tr th {\n",
       "        vertical-align: top;\n",
       "    }\n",
       "\n",
       "    .dataframe thead th {\n",
       "        text-align: right;\n",
       "    }\n",
       "</style>\n",
       "<table border=\"1\" class=\"dataframe\">\n",
       "  <thead>\n",
       "    <tr style=\"text-align: right;\">\n",
       "      <th></th>\n",
       "      <th>Product</th>\n",
       "      <th>Cost</th>\n",
       "      <th>Sale</th>\n",
       "      <th>net_earning</th>\n",
       "    </tr>\n",
       "  </thead>\n",
       "  <tbody>\n",
       "    <tr>\n",
       "      <th>0</th>\n",
       "      <td>sugar</td>\n",
       "      <td>2450</td>\n",
       "      <td>27908</td>\n",
       "      <td>25458</td>\n",
       "    </tr>\n",
       "    <tr>\n",
       "      <th>1</th>\n",
       "      <td>Salt</td>\n",
       "      <td>1989</td>\n",
       "      <td>4508</td>\n",
       "      <td>2519</td>\n",
       "    </tr>\n",
       "    <tr>\n",
       "      <th>2</th>\n",
       "      <td>oil</td>\n",
       "      <td>6745</td>\n",
       "      <td>6734</td>\n",
       "      <td>-11</td>\n",
       "    </tr>\n",
       "    <tr>\n",
       "      <th>3</th>\n",
       "      <td>diapers</td>\n",
       "      <td>9807</td>\n",
       "      <td>9976</td>\n",
       "      <td>169</td>\n",
       "    </tr>\n",
       "    <tr>\n",
       "      <th>4</th>\n",
       "      <td>rice</td>\n",
       "      <td>8743</td>\n",
       "      <td>9000</td>\n",
       "      <td>257</td>\n",
       "    </tr>\n",
       "  </tbody>\n",
       "</table>\n",
       "</div>"
      ],
      "text/plain": [
       "   Product  Cost   Sale  net_earning\n",
       "0    sugar  2450  27908        25458\n",
       "1     Salt  1989   4508         2519\n",
       "2      oil  6745   6734          -11\n",
       "3  diapers  9807   9976          169\n",
       "4     rice  8743   9000          257"
      ]
     },
     "execution_count": 14,
     "metadata": {},
     "output_type": "execute_result"
    }
   ],
   "source": [
    "df"
   ]
  },
  {
   "cell_type": "code",
   "execution_count": 26,
   "id": "c0f68704",
   "metadata": {},
   "outputs": [],
   "source": [
    "a = df.loc[df[\"net_earning\"].idxmax(),\"Product\"]"
   ]
  },
  {
   "cell_type": "code",
   "execution_count": 16,
   "id": "338bf3e2",
   "metadata": {},
   "outputs": [],
   "source": [
    "import matplotlib.pyplot as plt"
   ]
  },
  {
   "cell_type": "code",
   "execution_count": 17,
   "id": "eaa39787",
   "metadata": {},
   "outputs": [
    {
     "data": {
      "text/plain": [
       "<Figure size 1200x800 with 0 Axes>"
      ]
     },
     "metadata": {},
     "output_type": "display_data"
    }
   ],
   "source": [
    "fig = plt.figure(figsize = (12,8))"
   ]
  },
  {
   "cell_type": "code",
   "execution_count": 22,
   "id": "61d7ef0f",
   "metadata": {},
   "outputs": [
    {
     "data": {
      "image/png": "[encoded data removed]",
      "text/plain": [
       "<Figure size 640x480 with 1 Axes>"
      ]
     },
     "metadata": {},
     "output_type": "display_data"
    }
   ],
   "source": [
    "plt.bar(df[\"Product\"],df[\"net_earning\"])\n",
    "plt.xlabel(\"Products\")\n",
    "plt.ylabel(\"profit\")\n",
    "plt.title(\"profit on sales\")\n",
    "plt.show()"
   ]
  },
  {
   "cell_type": "code",
   "execution_count": 27,
   "id": "b2e15de5",
   "metadata": {},
   "outputs": [],
   "source": [
    "b = df.loc[df[\"net_earning\"].idxmin(),\"Product\"]"
   ]
  },
  {
   "cell_type": "code",
   "execution_count": 52,
   "id": "99ae9034",
   "metadata": {},
   "outputs": [],
   "source": [
    "f= df.loc[df[\"Product\"]== a,\"net_earning\"]"
   ]
  },
  {
   "cell_type": "code",
   "execution_count": 53,
   "id": "a2dbd619",
   "metadata": {},
   "outputs": [],
   "source": [
    "l=df.loc[df[\"Product\"]== b,\"net_earning\"]"
   ]
  },
  {
   "cell_type": "code",
   "execution_count": 56,
   "id": "d0ac83f7",
   "metadata": {},
   "outputs": [
    {
     "data": {
      "text/plain": [
       "25447"
      ]
     },
     "execution_count": 56,
     "metadata": {},
     "output_type": "execute_result"
    }
   ],
   "source": [
    "f[0] + l[2]"
   ]
  },
  {
   "cell_type": "code",
   "execution_count": 60,
   "id": "5d516ec5",
   "metadata": {},
   "outputs": [
    {
     "data": {
      "image/png": "[encoded data removed]",
      "text/plain": [
       "<Figure size 640x480 with 1 Axes>"
      ]
     },
     "metadata": {},
     "output_type": "display_data"
    }
   ],
   "source": [
    "df.plot(x=\"Product\",y= [\"Cost\",\"net_earning\"])\n",
    "plt.xlabel(\"Product\")\n",
    "plt.ylabel(\"Cost and Profit\")\n",
    "plt.title(\"profit on sales anlysis\")\n",
    "plt.show()"
   ]
  },
  {
   "cell_type": "code",
   "execution_count": null,
   "id": "9ffd039f",
   "metadata": {},
   "outputs": [],
   "source": []
  }
 ],
 "metadata": {
  "kernelspec": {
   "display_name": "Python 3 (ipykernel)",
   "language": "python",
   "name": "python3"
  },
  "language_info": {
   "codemirror_mode": {
    "name": "ipython",
    "version": 3
   },
   "file_extension": ".py",
   "mimetype": "text/x-python",
   "name": "python",
   "nbconvert_exporter": "python",
   "pygments_lexer": "ipython3",
   "version": "3.11.5"
  }
 },
 "nbformat": 4,
 "nbformat_minor": 5
}
