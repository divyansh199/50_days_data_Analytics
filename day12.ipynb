{
 "cells": [
  {
   "cell_type": "markdown",
   "id": "72d5dbca",
   "metadata": {},
   "source": [
    "# day12"
   ]
  },
  {
   "cell_type": "code",
   "execution_count": 1,
   "id": "ea9a2b35",
   "metadata": {},
   "outputs": [],
   "source": [
    "import numpy as np"
   ]
  },
  {
   "cell_type": "code",
   "execution_count": 2,
   "id": "8b356d5c",
   "metadata": {},
   "outputs": [],
   "source": [
    "list1 = [[12,24,56],[12,13,8],[6,5,10]]"
   ]
  },
  {
   "cell_type": "code",
   "execution_count": 3,
   "id": "f65df9c8",
   "metadata": {},
   "outputs": [],
   "source": [
    "arr = np.array(list1)"
   ]
  },
  {
   "cell_type": "code",
   "execution_count": 4,
   "id": "288a64a3",
   "metadata": {},
   "outputs": [
    {
     "data": {
      "text/plain": [
       "array([[12, 24, 56],\n",
       "       [12, 13,  8],\n",
       "       [ 6,  5, 10]])"
      ]
     },
     "execution_count": 4,
     "metadata": {},
     "output_type": "execute_result"
    }
   ],
   "source": [
    "arr"
   ]
  },
  {
   "cell_type": "code",
   "execution_count": 7,
   "id": "0ec1f667",
   "metadata": {},
   "outputs": [
    {
     "data": {
      "text/plain": [
       "array([[ 6,  5,  8],\n",
       "       [12, 13, 10],\n",
       "       [12, 24, 56]])"
      ]
     },
     "execution_count": 7,
     "metadata": {},
     "output_type": "execute_result"
    }
   ],
   "source": [
    "asc_sor_col = np.sort(arr,axis=0)\n",
    "asc_sor_col"
   ]
  },
  {
   "cell_type": "code",
   "execution_count": 8,
   "id": "51802a28",
   "metadata": {},
   "outputs": [
    {
     "data": {
      "text/plain": [
       "array([[12, 24, 56],\n",
       "       [ 8, 12, 13],\n",
       "       [ 5,  6, 10]])"
      ]
     },
     "execution_count": 8,
     "metadata": {},
     "output_type": "execute_result"
    }
   ],
   "source": [
    "asc_sor_row= np.sort(arr,axis=1)\n",
    "asc_sor_row"
   ]
  },
  {
   "cell_type": "code",
   "execution_count": 10,
   "id": "9b5c9d12",
   "metadata": {},
   "outputs": [],
   "source": [
    "nw = np.array([asc_sor_col[0,1],asc_sor_col[1,0],asc_sor_col[2,2]])"
   ]
  },
  {
   "cell_type": "code",
   "execution_count": 11,
   "id": "7d81f611",
   "metadata": {},
   "outputs": [
    {
     "data": {
      "text/plain": [
       "array([ 5, 12, 56])"
      ]
     },
     "execution_count": 11,
     "metadata": {},
     "output_type": "execute_result"
    }
   ],
   "source": [
    "nw"
   ]
  },
  {
   "cell_type": "code",
   "execution_count": 38,
   "id": "da6ef4af",
   "metadata": {},
   "outputs": [
    {
     "data": {
      "text/plain": [
       "array([[ 33, -76,  63],\n",
       "       [-49,  33, -19],\n",
       "       [-83,  93,   6]], dtype=int64)"
      ]
     },
     "execution_count": 38,
     "metadata": {},
     "output_type": "execute_result"
    }
   ],
   "source": [
    "rng = np.random.default_rng(seed = 44)\n",
    "k = rng.integers(-100,100,(3,3))\n",
    "k"
   ]
  },
  {
   "cell_type": "code",
   "execution_count": 39,
   "id": "ad52c054",
   "metadata": {},
   "outputs": [],
   "source": [
    "b = np.where(k < 0)\n",
    "k[b] = 0\n",
    "r = k"
   ]
  },
  {
   "cell_type": "code",
   "execution_count": 40,
   "id": "94f0d83e",
   "metadata": {},
   "outputs": [
    {
     "data": {
      "text/plain": [
       "array([[33,  0, 63],\n",
       "       [ 0, 33,  0],\n",
       "       [ 0, 93,  6]], dtype=int64)"
      ]
     },
     "execution_count": 40,
     "metadata": {},
     "output_type": "execute_result"
    }
   ],
   "source": [
    "r"
   ]
  },
  {
   "cell_type": "code",
   "execution_count": 57,
   "id": "f042f3d4",
   "metadata": {},
   "outputs": [],
   "source": [
    "#another method directly by where\n",
    "b = np.where(k<0,0,k)"
   ]
  },
  {
   "cell_type": "code",
   "execution_count": 59,
   "id": "4a875412",
   "metadata": {},
   "outputs": [
    {
     "data": {
      "text/plain": [
       "array([[33,  0, 63],\n",
       "       [ 0, 33,  0],\n",
       "       [ 0, 93,  6]], dtype=int64)"
      ]
     },
     "execution_count": 59,
     "metadata": {},
     "output_type": "execute_result"
    }
   ],
   "source": [
    "b"
   ]
  },
  {
   "cell_type": "code",
   "execution_count": 60,
   "id": "1a71f530",
   "metadata": {},
   "outputs": [],
   "source": [
    "list1 =[[12,23,34,34],[12,12,20,21]]\n",
    "ay = np.array(list1)"
   ]
  },
  {
   "cell_type": "code",
   "execution_count": 61,
   "id": "19473b76",
   "metadata": {},
   "outputs": [],
   "source": [
    "unq_ele,ele_count = np.unique(ay,return_counts=True)"
   ]
  },
  {
   "cell_type": "code",
   "execution_count": 63,
   "id": "fc7e101c",
   "metadata": {},
   "outputs": [
    {
     "name": "stdout",
     "output_type": "stream",
     "text": [
      "unique elements: [12 20 21 23 34]\n"
     ]
    }
   ],
   "source": [
    "print(\"unique elements:\", unq_ele)"
   ]
  },
  {
   "cell_type": "code",
   "execution_count": null,
   "id": "2a04bccf",
   "metadata": {},
   "outputs": [],
   "source": []
  }
 ],
 "metadata": {
  "kernelspec": {
   "display_name": "Python 3 (ipykernel)",
   "language": "python",
   "name": "python3"
  },
  "language_info": {
   "codemirror_mode": {
    "name": "ipython",
    "version": 3
   },
   "file_extension": ".py",
   "mimetype": "text/x-python",
   "name": "python",
   "nbconvert_exporter": "python",
   "pygments_lexer": "ipython3",
   "version": "3.11.5"
  }
 },
 "nbformat": 4,
 "nbformat_minor": 5
}
