{
 "cells": [
  {
   "cell_type": "markdown",
   "id": "f6498207",
   "metadata": {},
   "source": [
    "# day21"
   ]
  },
  {
   "cell_type": "code",
   "execution_count": 38,
   "id": "7d9225e8",
   "metadata": {},
   "outputs": [],
   "source": [
    "import pandas as pd"
   ]
  },
  {
   "cell_type": "code",
   "execution_count": 41,
   "id": "fc8e2c14",
   "metadata": {},
   "outputs": [],
   "source": [
    "df = pd.read_json(\"asset_data_analysis.json\", orient=\"split\")"
   ]
  },
  {
   "cell_type": "code",
   "execution_count": 42,
   "id": "06f0a0ee",
   "metadata": {},
   "outputs": [
    {
     "data": {
      "text/html": [
       "<div>\n",
       "<style scoped>\n",
       "    .dataframe tbody tr th:only-of-type {\n",
       "        vertical-align: middle;\n",
       "    }\n",
       "\n",
       "    .dataframe tbody tr th {\n",
       "        vertical-align: top;\n",
       "    }\n",
       "\n",
       "    .dataframe thead th {\n",
       "        text-align: right;\n",
       "    }\n",
       "</style>\n",
       "<table border=\"1\" class=\"dataframe\">\n",
       "  <thead>\n",
       "    <tr style=\"text-align: right;\">\n",
       "      <th></th>\n",
       "      <th>date</th>\n",
       "      <th>products</th>\n",
       "      <th>sales</th>\n",
       "      <th>costs</th>\n",
       "    </tr>\n",
       "  </thead>\n",
       "  <tbody>\n",
       "    <tr>\n",
       "      <th>0</th>\n",
       "      <td>2021-11-20</td>\n",
       "      <td>cars</td>\n",
       "      <td>19234</td>\n",
       "      <td>12340</td>\n",
       "    </tr>\n",
       "    <tr>\n",
       "      <th>1</th>\n",
       "      <td>2021-12-12</td>\n",
       "      <td>boats</td>\n",
       "      <td>87598</td>\n",
       "      <td>67568</td>\n",
       "    </tr>\n",
       "    <tr>\n",
       "      <th>2</th>\n",
       "      <td>2021-12-06</td>\n",
       "      <td>houses</td>\n",
       "      <td>20989</td>\n",
       "      <td>11999</td>\n",
       "    </tr>\n",
       "    <tr>\n",
       "      <th>3</th>\n",
       "      <td>2021-11-07</td>\n",
       "      <td>cars</td>\n",
       "      <td>15900</td>\n",
       "      <td>10910</td>\n",
       "    </tr>\n",
       "    <tr>\n",
       "      <th>4</th>\n",
       "      <td>2021-12-06</td>\n",
       "      <td>boats</td>\n",
       "      <td>12087</td>\n",
       "      <td>7087</td>\n",
       "    </tr>\n",
       "    <tr>\n",
       "      <th>5</th>\n",
       "      <td>2021-12-09</td>\n",
       "      <td>cars</td>\n",
       "      <td>56897</td>\n",
       "      <td>40447</td>\n",
       "    </tr>\n",
       "    <tr>\n",
       "      <th>6</th>\n",
       "      <td>2021-11-10</td>\n",
       "      <td>cars</td>\n",
       "      <td>11879</td>\n",
       "      <td>5879</td>\n",
       "    </tr>\n",
       "    <tr>\n",
       "      <th>7</th>\n",
       "      <td>2021-12-06</td>\n",
       "      <td>houses</td>\n",
       "      <td>19345</td>\n",
       "      <td>13451</td>\n",
       "    </tr>\n",
       "  </tbody>\n",
       "</table>\n",
       "</div>"
      ],
      "text/plain": [
       "        date products  sales  costs\n",
       "0 2021-11-20     cars  19234  12340\n",
       "1 2021-12-12    boats  87598  67568\n",
       "2 2021-12-06   houses  20989  11999\n",
       "3 2021-11-07     cars  15900  10910\n",
       "4 2021-12-06    boats  12087   7087\n",
       "5 2021-12-09     cars  56897  40447\n",
       "6 2021-11-10     cars  11879   5879\n",
       "7 2021-12-06   houses  19345  13451"
      ]
     },
     "execution_count": 42,
     "metadata": {},
     "output_type": "execute_result"
    }
   ],
   "source": [
    "df"
   ]
  },
  {
   "cell_type": "code",
   "execution_count": 43,
   "id": "f5c9d9c3",
   "metadata": {},
   "outputs": [
    {
     "data": {
      "text/html": [
       "<div>\n",
       "<style scoped>\n",
       "    .dataframe tbody tr th:only-of-type {\n",
       "        vertical-align: middle;\n",
       "    }\n",
       "\n",
       "    .dataframe tbody tr th {\n",
       "        vertical-align: top;\n",
       "    }\n",
       "\n",
       "    .dataframe thead th {\n",
       "        text-align: right;\n",
       "    }\n",
       "</style>\n",
       "<table border=\"1\" class=\"dataframe\">\n",
       "  <thead>\n",
       "    <tr style=\"text-align: right;\">\n",
       "      <th></th>\n",
       "      <th>date</th>\n",
       "      <th>products</th>\n",
       "      <th>sales</th>\n",
       "      <th>costs</th>\n",
       "    </tr>\n",
       "  </thead>\n",
       "  <tbody>\n",
       "    <tr>\n",
       "      <th>3</th>\n",
       "      <td>2021-11-07</td>\n",
       "      <td>cars</td>\n",
       "      <td>15900</td>\n",
       "      <td>10910</td>\n",
       "    </tr>\n",
       "    <tr>\n",
       "      <th>4</th>\n",
       "      <td>2021-12-06</td>\n",
       "      <td>boats</td>\n",
       "      <td>12087</td>\n",
       "      <td>7087</td>\n",
       "    </tr>\n",
       "    <tr>\n",
       "      <th>5</th>\n",
       "      <td>2021-12-09</td>\n",
       "      <td>cars</td>\n",
       "      <td>56897</td>\n",
       "      <td>40447</td>\n",
       "    </tr>\n",
       "    <tr>\n",
       "      <th>6</th>\n",
       "      <td>2021-11-10</td>\n",
       "      <td>cars</td>\n",
       "      <td>11879</td>\n",
       "      <td>5879</td>\n",
       "    </tr>\n",
       "    <tr>\n",
       "      <th>7</th>\n",
       "      <td>2021-12-06</td>\n",
       "      <td>houses</td>\n",
       "      <td>19345</td>\n",
       "      <td>13451</td>\n",
       "    </tr>\n",
       "  </tbody>\n",
       "</table>\n",
       "</div>"
      ],
      "text/plain": [
       "        date products  sales  costs\n",
       "3 2021-11-07     cars  15900  10910\n",
       "4 2021-12-06    boats  12087   7087\n",
       "5 2021-12-09     cars  56897  40447\n",
       "6 2021-11-10     cars  11879   5879\n",
       "7 2021-12-06   houses  19345  13451"
      ]
     },
     "execution_count": 43,
     "metadata": {},
     "output_type": "execute_result"
    }
   ],
   "source": [
    "df.tail()"
   ]
  },
  {
   "cell_type": "code",
   "execution_count": 84,
   "id": "f823f098",
   "metadata": {},
   "outputs": [],
   "source": [
    "df2 = df.copy()"
   ]
  },
  {
   "cell_type": "code",
   "execution_count": 85,
   "id": "b415dcbb",
   "metadata": {},
   "outputs": [
    {
     "data": {
      "text/html": [
       "<div>\n",
       "<style scoped>\n",
       "    .dataframe tbody tr th:only-of-type {\n",
       "        vertical-align: middle;\n",
       "    }\n",
       "\n",
       "    .dataframe tbody tr th {\n",
       "        vertical-align: top;\n",
       "    }\n",
       "\n",
       "    .dataframe thead th {\n",
       "        text-align: right;\n",
       "    }\n",
       "</style>\n",
       "<table border=\"1\" class=\"dataframe\">\n",
       "  <thead>\n",
       "    <tr style=\"text-align: right;\">\n",
       "      <th></th>\n",
       "      <th>date</th>\n",
       "      <th>products</th>\n",
       "      <th>sales</th>\n",
       "      <th>costs</th>\n",
       "    </tr>\n",
       "  </thead>\n",
       "  <tbody>\n",
       "    <tr>\n",
       "      <th>0</th>\n",
       "      <td>2021-11-20</td>\n",
       "      <td>cars</td>\n",
       "      <td>19234</td>\n",
       "      <td>12340</td>\n",
       "    </tr>\n",
       "    <tr>\n",
       "      <th>1</th>\n",
       "      <td>2021-12-12</td>\n",
       "      <td>boats</td>\n",
       "      <td>87598</td>\n",
       "      <td>67568</td>\n",
       "    </tr>\n",
       "    <tr>\n",
       "      <th>2</th>\n",
       "      <td>2021-12-06</td>\n",
       "      <td>houses</td>\n",
       "      <td>20989</td>\n",
       "      <td>11999</td>\n",
       "    </tr>\n",
       "    <tr>\n",
       "      <th>3</th>\n",
       "      <td>2021-11-07</td>\n",
       "      <td>cars</td>\n",
       "      <td>15900</td>\n",
       "      <td>10910</td>\n",
       "    </tr>\n",
       "    <tr>\n",
       "      <th>4</th>\n",
       "      <td>2021-12-06</td>\n",
       "      <td>boats</td>\n",
       "      <td>12087</td>\n",
       "      <td>7087</td>\n",
       "    </tr>\n",
       "    <tr>\n",
       "      <th>5</th>\n",
       "      <td>2021-12-09</td>\n",
       "      <td>cars</td>\n",
       "      <td>56897</td>\n",
       "      <td>40447</td>\n",
       "    </tr>\n",
       "    <tr>\n",
       "      <th>6</th>\n",
       "      <td>2021-11-10</td>\n",
       "      <td>cars</td>\n",
       "      <td>11879</td>\n",
       "      <td>5879</td>\n",
       "    </tr>\n",
       "    <tr>\n",
       "      <th>7</th>\n",
       "      <td>2021-12-06</td>\n",
       "      <td>houses</td>\n",
       "      <td>19345</td>\n",
       "      <td>13451</td>\n",
       "    </tr>\n",
       "  </tbody>\n",
       "</table>\n",
       "</div>"
      ],
      "text/plain": [
       "        date products  sales  costs\n",
       "0 2021-11-20     cars  19234  12340\n",
       "1 2021-12-12    boats  87598  67568\n",
       "2 2021-12-06   houses  20989  11999\n",
       "3 2021-11-07     cars  15900  10910\n",
       "4 2021-12-06    boats  12087   7087\n",
       "5 2021-12-09     cars  56897  40447\n",
       "6 2021-11-10     cars  11879   5879\n",
       "7 2021-12-06   houses  19345  13451"
      ]
     },
     "execution_count": 85,
     "metadata": {},
     "output_type": "execute_result"
    }
   ],
   "source": [
    "df2"
   ]
  },
  {
   "cell_type": "code",
   "execution_count": 86,
   "id": "30afef68",
   "metadata": {},
   "outputs": [
    {
     "data": {
      "text/plain": [
       "0   2021-11-20\n",
       "1   2021-12-12\n",
       "2   2021-12-06\n",
       "3   2021-11-07\n",
       "4   2021-12-06\n",
       "5   2021-12-09\n",
       "6   2021-11-10\n",
       "7   2021-12-06\n",
       "Name: date, dtype: datetime64[ns]"
      ]
     },
     "execution_count": 86,
     "metadata": {},
     "output_type": "execute_result"
    }
   ],
   "source": [
    "pd.to_datetime(df2[\"date\"])"
   ]
  },
  {
   "cell_type": "code",
   "execution_count": 87,
   "id": "95f92285",
   "metadata": {},
   "outputs": [
    {
     "data": {
      "text/plain": [
       "0   2021-11-20\n",
       "1   2021-12-12\n",
       "2   2021-12-06\n",
       "3   2021-11-07\n",
       "4   2021-12-06\n",
       "5   2021-12-09\n",
       "6   2021-11-10\n",
       "7   2021-12-06\n",
       "Name: date, dtype: datetime64[ns]"
      ]
     },
     "execution_count": 87,
     "metadata": {},
     "output_type": "execute_result"
    }
   ],
   "source": [
    "df2[\"date\"]"
   ]
  },
  {
   "cell_type": "code",
   "execution_count": 90,
   "id": "f45f68d6",
   "metadata": {},
   "outputs": [],
   "source": [
    "df4= df2.set_index(\"date\", drop = False)"
   ]
  },
  {
   "cell_type": "code",
   "execution_count": 106,
   "id": "e3113ead",
   "metadata": {},
   "outputs": [
    {
     "data": {
      "text/html": [
       "<div>\n",
       "<style scoped>\n",
       "    .dataframe tbody tr th:only-of-type {\n",
       "        vertical-align: middle;\n",
       "    }\n",
       "\n",
       "    .dataframe tbody tr th {\n",
       "        vertical-align: top;\n",
       "    }\n",
       "\n",
       "    .dataframe thead th {\n",
       "        text-align: right;\n",
       "    }\n",
       "</style>\n",
       "<table border=\"1\" class=\"dataframe\">\n",
       "  <thead>\n",
       "    <tr style=\"text-align: right;\">\n",
       "      <th></th>\n",
       "      <th>sales</th>\n",
       "      <th>costs</th>\n",
       "    </tr>\n",
       "    <tr>\n",
       "      <th>date</th>\n",
       "      <th></th>\n",
       "      <th></th>\n",
       "    </tr>\n",
       "  </thead>\n",
       "  <tbody>\n",
       "    <tr>\n",
       "      <th>2021-11-07</th>\n",
       "      <td>15900</td>\n",
       "      <td>10910</td>\n",
       "    </tr>\n",
       "    <tr>\n",
       "      <th>2021-11-10</th>\n",
       "      <td>11879</td>\n",
       "      <td>5879</td>\n",
       "    </tr>\n",
       "    <tr>\n",
       "      <th>2021-11-20</th>\n",
       "      <td>19234</td>\n",
       "      <td>12340</td>\n",
       "    </tr>\n",
       "    <tr>\n",
       "      <th>2021-12-06</th>\n",
       "      <td>52421</td>\n",
       "      <td>32537</td>\n",
       "    </tr>\n",
       "    <tr>\n",
       "      <th>2021-12-09</th>\n",
       "      <td>56897</td>\n",
       "      <td>40447</td>\n",
       "    </tr>\n",
       "    <tr>\n",
       "      <th>2021-12-12</th>\n",
       "      <td>87598</td>\n",
       "      <td>67568</td>\n",
       "    </tr>\n",
       "  </tbody>\n",
       "</table>\n",
       "</div>"
      ],
      "text/plain": [
       "            sales  costs\n",
       "date                    \n",
       "2021-11-07  15900  10910\n",
       "2021-11-10  11879   5879\n",
       "2021-11-20  19234  12340\n",
       "2021-12-06  52421  32537\n",
       "2021-12-09  56897  40447\n",
       "2021-12-12  87598  67568"
      ]
     },
     "execution_count": 106,
     "metadata": {},
     "output_type": "execute_result"
    }
   ],
   "source": [
    "df3 = df4.groupby(df4.index).sum(numeric_only =True)\n",
    "df3\n"
   ]
  },
  {
   "cell_type": "code",
   "execution_count": 104,
   "id": "2c2a272a",
   "metadata": {},
   "outputs": [],
   "source": [
    "import matplotlib.pyplot as plt"
   ]
  },
  {
   "cell_type": "code",
   "execution_count": 105,
   "id": "db33118b",
   "metadata": {},
   "outputs": [
    {
     "data": {
      "image/png": "[encoded data removed]",
      "text/plain": [
       "<Figure size 640x480 with 1 Axes>"
      ]
     },
     "metadata": {},
     "output_type": "display_data"
    }
   ],
   "source": [
    "plt.plot(df3.index,df3.sales)\n",
    "plt.ylabel(\"sales\")\n",
    "plt.xlabel(\"date\")\n",
    "plt.xticks(rotation =60)\n",
    "plt.show()"
   ]
  },
  {
   "cell_type": "code",
   "execution_count": 242,
   "id": "c5334972",
   "metadata": {},
   "outputs": [
    {
     "data": {
      "text/html": [
       "<div>\n",
       "<style scoped>\n",
       "    .dataframe tbody tr th:only-of-type {\n",
       "        vertical-align: middle;\n",
       "    }\n",
       "\n",
       "    .dataframe tbody tr th {\n",
       "        vertical-align: top;\n",
       "    }\n",
       "\n",
       "    .dataframe thead th {\n",
       "        text-align: right;\n",
       "    }\n",
       "</style>\n",
       "<table border=\"1\" class=\"dataframe\">\n",
       "  <thead>\n",
       "    <tr style=\"text-align: right;\">\n",
       "      <th></th>\n",
       "      <th></th>\n",
       "      <th>sales</th>\n",
       "      <th>costs</th>\n",
       "    </tr>\n",
       "    <tr>\n",
       "      <th>date</th>\n",
       "      <th>products</th>\n",
       "      <th></th>\n",
       "      <th></th>\n",
       "    </tr>\n",
       "  </thead>\n",
       "  <tbody>\n",
       "    <tr>\n",
       "      <th>2021-11-20</th>\n",
       "      <th>cars</th>\n",
       "      <td>19234</td>\n",
       "      <td>12340</td>\n",
       "    </tr>\n",
       "    <tr>\n",
       "      <th>2021-12-12</th>\n",
       "      <th>boats</th>\n",
       "      <td>87598</td>\n",
       "      <td>67568</td>\n",
       "    </tr>\n",
       "    <tr>\n",
       "      <th>2021-12-06</th>\n",
       "      <th>houses</th>\n",
       "      <td>20989</td>\n",
       "      <td>11999</td>\n",
       "    </tr>\n",
       "    <tr>\n",
       "      <th>2021-11-07</th>\n",
       "      <th>cars</th>\n",
       "      <td>15900</td>\n",
       "      <td>10910</td>\n",
       "    </tr>\n",
       "    <tr>\n",
       "      <th>2021-12-06</th>\n",
       "      <th>boats</th>\n",
       "      <td>12087</td>\n",
       "      <td>7087</td>\n",
       "    </tr>\n",
       "    <tr>\n",
       "      <th>2021-12-09</th>\n",
       "      <th>cars</th>\n",
       "      <td>56897</td>\n",
       "      <td>40447</td>\n",
       "    </tr>\n",
       "    <tr>\n",
       "      <th>2021-11-10</th>\n",
       "      <th>cars</th>\n",
       "      <td>11879</td>\n",
       "      <td>5879</td>\n",
       "    </tr>\n",
       "    <tr>\n",
       "      <th>2021-12-06</th>\n",
       "      <th>houses</th>\n",
       "      <td>19345</td>\n",
       "      <td>13451</td>\n",
       "    </tr>\n",
       "  </tbody>\n",
       "</table>\n",
       "</div>"
      ],
      "text/plain": [
       "                     sales  costs\n",
       "date       products              \n",
       "2021-11-20 cars      19234  12340\n",
       "2021-12-12 boats     87598  67568\n",
       "2021-12-06 houses    20989  11999\n",
       "2021-11-07 cars      15900  10910\n",
       "2021-12-06 boats     12087   7087\n",
       "2021-12-09 cars      56897  40447\n",
       "2021-11-10 cars      11879   5879\n",
       "2021-12-06 houses    19345  13451"
      ]
     },
     "execution_count": 242,
     "metadata": {},
     "output_type": "execute_result"
    }
   ],
   "source": [
    "df5 = df2.set_index([\"date\",\"products\"])\n",
    "df5"
   ]
  },
  {
   "cell_type": "code",
   "execution_count": 325,
   "id": "222b15bc",
   "metadata": {},
   "outputs": [],
   "source": [
    "profit = df5.loc[([\"2021-12-06\"],\"houses\") ,[\"sales\",\"costs\"] ].sum()"
   ]
  },
  {
   "cell_type": "code",
   "execution_count": 326,
   "id": "addfdf4e",
   "metadata": {},
   "outputs": [
    {
     "data": {
      "text/plain": [
       "sales    40334\n",
       "costs    25450\n",
       "dtype: int64"
      ]
     },
     "execution_count": 326,
     "metadata": {},
     "output_type": "execute_result"
    }
   ],
   "source": [
    "profit"
   ]
  },
  {
   "cell_type": "code",
   "execution_count": 255,
   "id": "c205a969",
   "metadata": {},
   "outputs": [
    {
     "data": {
      "text/plain": [
       "14884"
      ]
     },
     "execution_count": 255,
     "metadata": {},
     "output_type": "execute_result"
    }
   ],
   "source": [
    "a=profit[\"sales\"]-profit[\"costs\"]\n",
    "a"
   ]
  },
  {
   "cell_type": "code",
   "execution_count": 256,
   "id": "8147f1b9",
   "metadata": {},
   "outputs": [
    {
     "data": {
      "text/html": [
       "<div>\n",
       "<style scoped>\n",
       "    .dataframe tbody tr th:only-of-type {\n",
       "        vertical-align: middle;\n",
       "    }\n",
       "\n",
       "    .dataframe tbody tr th {\n",
       "        vertical-align: top;\n",
       "    }\n",
       "\n",
       "    .dataframe thead th {\n",
       "        text-align: right;\n",
       "    }\n",
       "</style>\n",
       "<table border=\"1\" class=\"dataframe\">\n",
       "  <thead>\n",
       "    <tr style=\"text-align: right;\">\n",
       "      <th></th>\n",
       "      <th>date</th>\n",
       "      <th>products</th>\n",
       "      <th>sales</th>\n",
       "      <th>costs</th>\n",
       "    </tr>\n",
       "  </thead>\n",
       "  <tbody>\n",
       "    <tr>\n",
       "      <th>0</th>\n",
       "      <td>2021-11-20</td>\n",
       "      <td>cars</td>\n",
       "      <td>19234</td>\n",
       "      <td>12340</td>\n",
       "    </tr>\n",
       "    <tr>\n",
       "      <th>1</th>\n",
       "      <td>2021-12-12</td>\n",
       "      <td>boats</td>\n",
       "      <td>87598</td>\n",
       "      <td>67568</td>\n",
       "    </tr>\n",
       "    <tr>\n",
       "      <th>2</th>\n",
       "      <td>2021-12-06</td>\n",
       "      <td>houses</td>\n",
       "      <td>20989</td>\n",
       "      <td>11999</td>\n",
       "    </tr>\n",
       "    <tr>\n",
       "      <th>3</th>\n",
       "      <td>2021-11-07</td>\n",
       "      <td>cars</td>\n",
       "      <td>15900</td>\n",
       "      <td>10910</td>\n",
       "    </tr>\n",
       "    <tr>\n",
       "      <th>4</th>\n",
       "      <td>2021-12-06</td>\n",
       "      <td>boats</td>\n",
       "      <td>12087</td>\n",
       "      <td>7087</td>\n",
       "    </tr>\n",
       "    <tr>\n",
       "      <th>5</th>\n",
       "      <td>2021-12-09</td>\n",
       "      <td>cars</td>\n",
       "      <td>56897</td>\n",
       "      <td>40447</td>\n",
       "    </tr>\n",
       "    <tr>\n",
       "      <th>6</th>\n",
       "      <td>2021-11-10</td>\n",
       "      <td>cars</td>\n",
       "      <td>11879</td>\n",
       "      <td>5879</td>\n",
       "    </tr>\n",
       "    <tr>\n",
       "      <th>7</th>\n",
       "      <td>2021-12-06</td>\n",
       "      <td>houses</td>\n",
       "      <td>19345</td>\n",
       "      <td>13451</td>\n",
       "    </tr>\n",
       "  </tbody>\n",
       "</table>\n",
       "</div>"
      ],
      "text/plain": [
       "        date products  sales  costs\n",
       "0 2021-11-20     cars  19234  12340\n",
       "1 2021-12-12    boats  87598  67568\n",
       "2 2021-12-06   houses  20989  11999\n",
       "3 2021-11-07     cars  15900  10910\n",
       "4 2021-12-06    boats  12087   7087\n",
       "5 2021-12-09     cars  56897  40447\n",
       "6 2021-11-10     cars  11879   5879\n",
       "7 2021-12-06   houses  19345  13451"
      ]
     },
     "execution_count": 256,
     "metadata": {},
     "output_type": "execute_result"
    }
   ],
   "source": [
    "df2"
   ]
  },
  {
   "cell_type": "code",
   "execution_count": 257,
   "id": "d250006d",
   "metadata": {},
   "outputs": [],
   "source": [
    "count = pd.value_counts(df2[\"products\"])"
   ]
  },
  {
   "cell_type": "code",
   "execution_count": 258,
   "id": "f864240c",
   "metadata": {},
   "outputs": [
    {
     "data": {
      "text/plain": [
       "products\n",
       "cars      4\n",
       "boats     2\n",
       "houses    2\n",
       "Name: count, dtype: int64"
      ]
     },
     "execution_count": 258,
     "metadata": {},
     "output_type": "execute_result"
    }
   ],
   "source": [
    "count"
   ]
  },
  {
   "cell_type": "code",
   "execution_count": 267,
   "id": "4def8587",
   "metadata": {},
   "outputs": [],
   "source": [
    "format_with_separator = lambda x: '{:,.0f}'.format(x)"
   ]
  },
  {
   "cell_type": "code",
   "execution_count": 269,
   "id": "f17bf1ee",
   "metadata": {},
   "outputs": [
    {
     "data": {
      "text/html": [
       "<div>\n",
       "<style scoped>\n",
       "    .dataframe tbody tr th:only-of-type {\n",
       "        vertical-align: middle;\n",
       "    }\n",
       "\n",
       "    .dataframe tbody tr th {\n",
       "        vertical-align: top;\n",
       "    }\n",
       "\n",
       "    .dataframe thead th {\n",
       "        text-align: right;\n",
       "    }\n",
       "</style>\n",
       "<table border=\"1\" class=\"dataframe\">\n",
       "  <thead>\n",
       "    <tr style=\"text-align: right;\">\n",
       "      <th></th>\n",
       "      <th></th>\n",
       "      <th>sales</th>\n",
       "      <th>costs</th>\n",
       "    </tr>\n",
       "    <tr>\n",
       "      <th>date</th>\n",
       "      <th>products</th>\n",
       "      <th></th>\n",
       "      <th></th>\n",
       "    </tr>\n",
       "  </thead>\n",
       "  <tbody>\n",
       "    <tr>\n",
       "      <th>2021-11-20</th>\n",
       "      <th>cars</th>\n",
       "      <td>19,234</td>\n",
       "      <td>12,340</td>\n",
       "    </tr>\n",
       "    <tr>\n",
       "      <th>2021-12-12</th>\n",
       "      <th>boats</th>\n",
       "      <td>87,598</td>\n",
       "      <td>67,568</td>\n",
       "    </tr>\n",
       "    <tr>\n",
       "      <th>2021-12-06</th>\n",
       "      <th>houses</th>\n",
       "      <td>20,989</td>\n",
       "      <td>11,999</td>\n",
       "    </tr>\n",
       "    <tr>\n",
       "      <th>2021-11-07</th>\n",
       "      <th>cars</th>\n",
       "      <td>15,900</td>\n",
       "      <td>10,910</td>\n",
       "    </tr>\n",
       "    <tr>\n",
       "      <th>2021-12-06</th>\n",
       "      <th>boats</th>\n",
       "      <td>12,087</td>\n",
       "      <td>7,087</td>\n",
       "    </tr>\n",
       "    <tr>\n",
       "      <th>2021-12-09</th>\n",
       "      <th>cars</th>\n",
       "      <td>56,897</td>\n",
       "      <td>40,447</td>\n",
       "    </tr>\n",
       "    <tr>\n",
       "      <th>2021-11-10</th>\n",
       "      <th>cars</th>\n",
       "      <td>11,879</td>\n",
       "      <td>5,879</td>\n",
       "    </tr>\n",
       "    <tr>\n",
       "      <th>2021-12-06</th>\n",
       "      <th>houses</th>\n",
       "      <td>19,345</td>\n",
       "      <td>13,451</td>\n",
       "    </tr>\n",
       "  </tbody>\n",
       "</table>\n",
       "</div>"
      ],
      "text/plain": [
       "                      sales   costs\n",
       "date       products                \n",
       "2021-11-20 cars      19,234  12,340\n",
       "2021-12-12 boats     87,598  67,568\n",
       "2021-12-06 houses    20,989  11,999\n",
       "2021-11-07 cars      15,900  10,910\n",
       "2021-12-06 boats     12,087   7,087\n",
       "2021-12-09 cars      56,897  40,447\n",
       "2021-11-10 cars      11,879   5,879\n",
       "2021-12-06 houses    19,345  13,451"
      ]
     },
     "execution_count": 269,
     "metadata": {},
     "output_type": "execute_result"
    }
   ],
   "source": [
    "df5[[\"sales\",\"costs\"]].applymap(format_with_separator)"
   ]
  },
  {
   "cell_type": "code",
   "execution_count": 347,
   "id": "ef9f51e3",
   "metadata": {},
   "outputs": [
    {
     "data": {
      "text/plain": [
       "date\n",
       "2021-11-07    1\n",
       "2021-11-10    1\n",
       "2021-11-20    1\n",
       "2021-12-09    1\n",
       "2021-12-12    1\n",
       "2021-12-06    3\n",
       "dtype: int64"
      ]
     },
     "execution_count": 347,
     "metadata": {},
     "output_type": "execute_result"
    }
   ],
   "source": [
    "df6 = df5.groupby(\"date\").size().sort_values()\n"
   ]
  },
  {
   "cell_type": "code",
   "execution_count": 308,
   "id": "b69b384d",
   "metadata": {},
   "outputs": [
    {
     "ename": "AttributeError",
     "evalue": "'list' object has no attribute 'size'",
     "output_type": "error",
     "traceback": [
      "\u001b[1;31m---------------------------------------------------------------------------\u001b[0m",
      "\u001b[1;31mAttributeError\u001b[0m                            Traceback (most recent call last)",
      "Cell \u001b[1;32mIn[308], line 1\u001b[0m\n\u001b[1;32m----> 1\u001b[0m a \u001b[38;5;241m=\u001b[39m\u001b[38;5;28mlist\u001b[39m(df6)\u001b[38;5;241m.\u001b[39msize()\n",
      "\u001b[1;31mAttributeError\u001b[0m: 'list' object has no attribute 'size'"
     ]
    }
   ],
   "source": [
    "a =list(df6).size()"
   ]
  },
  {
   "cell_type": "code",
   "execution_count": 306,
   "id": "b20fbfd4",
   "metadata": {},
   "outputs": [
    {
     "data": {
      "text/plain": [
       "[(('boats',),\n",
       "                       sales  costs\n",
       "  date       products              \n",
       "  2021-12-12 boats     87598  67568\n",
       "  2021-12-06 boats     12087   7087),\n",
       " (('cars',),\n",
       "                       sales  costs\n",
       "  date       products              \n",
       "  2021-11-20 cars      19234  12340\n",
       "  2021-11-07 cars      15900  10910\n",
       "  2021-12-09 cars      56897  40447\n",
       "  2021-11-10 cars      11879   5879),\n",
       " (('houses',),\n",
       "                       sales  costs\n",
       "  date       products              \n",
       "  2021-12-06 houses    20989  11999\n",
       "             houses    19345  13451)]"
      ]
     },
     "execution_count": 306,
     "metadata": {},
     "output_type": "execute_result"
    }
   ],
   "source": [
    "a"
   ]
  },
  {
   "cell_type": "code",
   "execution_count": null,
   "id": "51c0589c",
   "metadata": {},
   "outputs": [],
   "source": []
  },
  {
   "cell_type": "code",
   "execution_count": null,
   "id": "cb30d51b",
   "metadata": {},
   "outputs": [],
   "source": []
  }
 ],
 "metadata": {
  "kernelspec": {
   "display_name": "Python 3 (ipykernel)",
   "language": "python",
   "name": "python3"
  },
  "language_info": {
   "codemirror_mode": {
    "name": "ipython",
    "version": 3
   },
   "file_extension": ".py",
   "mimetype": "text/x-python",
   "name": "python",
   "nbconvert_exporter": "python",
   "pygments_lexer": "ipython3",
   "version": "3.11.5"
  }
 },
 "nbformat": 4,
 "nbformat_minor": 5
}
