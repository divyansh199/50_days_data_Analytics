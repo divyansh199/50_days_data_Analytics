{
 "cells": [
  {
   "cell_type": "markdown",
   "id": "8fdfd5cd",
   "metadata": {},
   "source": [
    "# day9"
   ]
  },
  {
   "cell_type": "raw",
   "id": "5945b7de",
   "metadata": {},
   "source": [
    "1. Create a NumPy one-dimensional array with the list above."
   ]
  },
  {
   "cell_type": "code",
   "execution_count": 1,
   "id": "1548bf04",
   "metadata": {},
   "outputs": [],
   "source": [
    "import numpy as np"
   ]
  },
  {
   "cell_type": "code",
   "execution_count": 2,
   "id": "43808dc1",
   "metadata": {},
   "outputs": [],
   "source": [
    "nums = [12,4,6,7,9,19,21,67,8]"
   ]
  },
  {
   "cell_type": "code",
   "execution_count": 3,
   "id": "6f8ea460",
   "metadata": {},
   "outputs": [],
   "source": [
    "arr = np.array(nums)"
   ]
  },
  {
   "cell_type": "code",
   "execution_count": 4,
   "id": "a1d54285",
   "metadata": {},
   "outputs": [
    {
     "data": {
      "text/plain": [
       "array([12,  4,  6,  7,  9, 19, 21, 67,  8])"
      ]
     },
     "execution_count": 4,
     "metadata": {},
     "output_type": "execute_result"
    }
   ],
   "source": [
    "arr"
   ]
  },
  {
   "cell_type": "code",
   "execution_count": 5,
   "id": "9cad47ec",
   "metadata": {},
   "outputs": [],
   "source": [
    "mini = np.min(nums)"
   ]
  },
  {
   "cell_type": "code",
   "execution_count": 6,
   "id": "c9e03a28",
   "metadata": {},
   "outputs": [
    {
     "data": {
      "text/plain": [
       "4"
      ]
     },
     "execution_count": 6,
     "metadata": {},
     "output_type": "execute_result"
    }
   ],
   "source": [
    "mini"
   ]
  },
  {
   "cell_type": "code",
   "execution_count": 9,
   "id": "5aa50cd2",
   "metadata": {},
   "outputs": [],
   "source": [
    "maxi_indx = np.where(arr == np.max(arr))"
   ]
  },
  {
   "cell_type": "code",
   "execution_count": 28,
   "id": "03be9edc",
   "metadata": {},
   "outputs": [
    {
     "data": {
      "text/plain": [
       "(array([7], dtype=int64),)"
      ]
     },
     "execution_count": 28,
     "metadata": {},
     "output_type": "execute_result"
    }
   ],
   "source": [
    "maxi_indx"
   ]
  },
  {
   "cell_type": "code",
   "execution_count": null,
   "id": "15a8b9de",
   "metadata": {},
   "outputs": [],
   "source": [
    "#argmax method"
   ]
  },
  {
   "cell_type": "code",
   "execution_count": 30,
   "id": "030ad6a9",
   "metadata": {},
   "outputs": [
    {
     "data": {
      "text/plain": [
       "7"
      ]
     },
     "execution_count": 30,
     "metadata": {},
     "output_type": "execute_result"
    }
   ],
   "source": [
    "m = np.argmax(arr)\n",
    "m"
   ]
  },
  {
   "cell_type": "code",
   "execution_count": 14,
   "id": "ec9c3621",
   "metadata": {},
   "outputs": [],
   "source": [
    "avg_min_max = (np.max(arr) + np.min(arr))/2"
   ]
  },
  {
   "cell_type": "code",
   "execution_count": 15,
   "id": "97fe3316",
   "metadata": {},
   "outputs": [
    {
     "data": {
      "text/plain": [
       "35.5"
      ]
     },
     "execution_count": 15,
     "metadata": {},
     "output_type": "execute_result"
    }
   ],
   "source": [
    "avg_min_max"
   ]
  },
  {
   "cell_type": "code",
   "execution_count": 16,
   "id": "31e38668",
   "metadata": {},
   "outputs": [],
   "source": [
    "mn = np.mean(arr)"
   ]
  },
  {
   "cell_type": "code",
   "execution_count": 21,
   "id": "ee841fec",
   "metadata": {},
   "outputs": [
    {
     "data": {
      "text/plain": [
       "9.0"
      ]
     },
     "execution_count": 21,
     "metadata": {},
     "output_type": "execute_result"
    }
   ],
   "source": [
    "md = np.median(arr)\n",
    "md"
   ]
  },
  {
   "cell_type": "code",
   "execution_count": 18,
   "id": "32cdae64",
   "metadata": {},
   "outputs": [],
   "source": [
    "sd = np.std(arr)"
   ]
  },
  {
   "cell_type": "raw",
   "id": "7aa31b67",
   "metadata": {},
   "source": [
    "code to find outlier"
   ]
  },
  {
   "cell_type": "code",
   "execution_count": 19,
   "id": "f5a98a84",
   "metadata": {},
   "outputs": [],
   "source": [
    "arng = np.sort(arr)"
   ]
  },
  {
   "cell_type": "code",
   "execution_count": 20,
   "id": "1c414fad",
   "metadata": {},
   "outputs": [
    {
     "data": {
      "text/plain": [
       "array([ 4,  6,  7,  8,  9, 12, 19, 21, 67])"
      ]
     },
     "execution_count": 20,
     "metadata": {},
     "output_type": "execute_result"
    }
   ],
   "source": [
    "arng"
   ]
  },
  {
   "cell_type": "code",
   "execution_count": 25,
   "id": "dd67f98a",
   "metadata": {},
   "outputs": [
    {
     "data": {
      "text/plain": [
       "6.5"
      ]
     },
     "execution_count": 25,
     "metadata": {},
     "output_type": "execute_result"
    }
   ],
   "source": [
    "arr_q1 = arr[:4:1]\n",
    "q1_md = np.median(arr_q1)\n",
    "q1_md"
   ]
  },
  {
   "cell_type": "code",
   "execution_count": 27,
   "id": "cd43a7ea",
   "metadata": {},
   "outputs": [
    {
     "data": {
      "text/plain": [
       "20.0"
      ]
     },
     "execution_count": 27,
     "metadata": {},
     "output_type": "execute_result"
    }
   ],
   "source": [
    "arr_q2 = arr[5::1]\n",
    "q2_md = np.median(arr_q2)\n",
    "q2_md"
   ]
  },
  {
   "cell_type": "code",
   "execution_count": 31,
   "id": "828589bc",
   "metadata": {},
   "outputs": [],
   "source": [
    "outlier = [x for x in arng if x<q1_md or x>q2_md]"
   ]
  },
  {
   "cell_type": "code",
   "execution_count": 32,
   "id": "d3bc03cc",
   "metadata": {},
   "outputs": [
    {
     "data": {
      "text/plain": [
       "[4, 6, 21, 67]"
      ]
     },
     "execution_count": 32,
     "metadata": {},
     "output_type": "execute_result"
    }
   ],
   "source": [
    "outlier"
   ]
  },
  {
   "cell_type": "code",
   "execution_count": 33,
   "id": "f81c1ede",
   "metadata": {},
   "outputs": [],
   "source": [
    "#alternet approch"
   ]
  },
  {
   "cell_type": "code",
   "execution_count": 34,
   "id": "22e3ed72",
   "metadata": {},
   "outputs": [],
   "source": [
    "sorted_array = np.sort(arr)"
   ]
  },
  {
   "cell_type": "code",
   "execution_count": 40,
   "id": "c89d2a33",
   "metadata": {},
   "outputs": [
    {
     "data": {
      "text/plain": [
       "([67], 7.0, 19.0, -11.0, 37.0)"
      ]
     },
     "execution_count": 40,
     "metadata": {},
     "output_type": "execute_result"
    }
   ],
   "source": [
    "def cal_outlier(array):\n",
    "    q1 = np.percentile(sorted_array,25)\n",
    "    q3 = np.percentile(sorted_array,75)\n",
    "    iqr = q3 - q1\n",
    "    lower_bound = q1 - 1.5*iqr\n",
    "    upper_bound = q3 + 1.5*iqr\n",
    "    outlier = [x for x in sorted_array if x<lower_bound or x>upper_bound]\n",
    "    return outlier,q1,q3,lower_bound,upper_bound\n",
    "\n",
    "cal_outlier(sorted_array)"
   ]
  },
  {
   "cell_type": "code",
   "execution_count": null,
   "id": "edd59d6b",
   "metadata": {},
   "outputs": [],
   "source": []
  }
 ],
 "metadata": {
  "kernelspec": {
   "display_name": "Python 3 (ipykernel)",
   "language": "python",
   "name": "python3"
  },
  "language_info": {
   "codemirror_mode": {
    "name": "ipython",
    "version": 3
   },
   "file_extension": ".py",
   "mimetype": "text/x-python",
   "name": "python",
   "nbconvert_exporter": "python",
   "pygments_lexer": "ipython3",
   "version": "3.11.5"
  }
 },
 "nbformat": 4,
 "nbformat_minor": 5
}
