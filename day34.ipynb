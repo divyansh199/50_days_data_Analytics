{
 "cells": [
  {
   "cell_type": "markdown",
   "id": "b40c43b8",
   "metadata": {},
   "source": [
    "# day 34"
   ]
  },
  {
   "cell_type": "code",
   "execution_count": 2,
   "id": "95d105bd",
   "metadata": {},
   "outputs": [],
   "source": [
    "import pandas as pd\n",
    "import numpy as np"
   ]
  },
  {
   "cell_type": "code",
   "execution_count": 3,
   "id": "a3832ab7",
   "metadata": {},
   "outputs": [],
   "source": [
    "df = pd.read_csv(\"income_data.csv\")"
   ]
  },
  {
   "cell_type": "code",
   "execution_count": 4,
   "id": "ab4b2f55",
   "metadata": {},
   "outputs": [
    {
     "data": {
      "text/html": [
       "<div>\n",
       "<style scoped>\n",
       "    .dataframe tbody tr th:only-of-type {\n",
       "        vertical-align: middle;\n",
       "    }\n",
       "\n",
       "    .dataframe tbody tr th {\n",
       "        vertical-align: top;\n",
       "    }\n",
       "\n",
       "    .dataframe thead th {\n",
       "        text-align: right;\n",
       "    }\n",
       "</style>\n",
       "<table border=\"1\" class=\"dataframe\">\n",
       "  <thead>\n",
       "    <tr style=\"text-align: right;\">\n",
       "      <th></th>\n",
       "      <th>Name</th>\n",
       "      <th>Age</th>\n",
       "      <th>Height</th>\n",
       "      <th>Gender</th>\n",
       "      <th>Income</th>\n",
       "    </tr>\n",
       "  </thead>\n",
       "  <tbody>\n",
       "    <tr>\n",
       "      <th>0</th>\n",
       "      <td>Alice</td>\n",
       "      <td>25</td>\n",
       "      <td>5.5</td>\n",
       "      <td>F</td>\n",
       "      <td>30000</td>\n",
       "    </tr>\n",
       "    <tr>\n",
       "      <th>1</th>\n",
       "      <td>Bob</td>\n",
       "      <td>35</td>\n",
       "      <td>5.9</td>\n",
       "      <td>M</td>\n",
       "      <td>40000</td>\n",
       "    </tr>\n",
       "    <tr>\n",
       "      <th>2</th>\n",
       "      <td>Charlie</td>\n",
       "      <td>45</td>\n",
       "      <td>6.2</td>\n",
       "      <td>M</td>\n",
       "      <td>50000</td>\n",
       "    </tr>\n",
       "    <tr>\n",
       "      <th>3</th>\n",
       "      <td>Debbie</td>\n",
       "      <td>55</td>\n",
       "      <td>6.6</td>\n",
       "      <td>F</td>\n",
       "      <td>60000</td>\n",
       "    </tr>\n",
       "    <tr>\n",
       "      <th>4</th>\n",
       "      <td>Edward</td>\n",
       "      <td>65</td>\n",
       "      <td>6.1</td>\n",
       "      <td>M</td>\n",
       "      <td>70000</td>\n",
       "    </tr>\n",
       "    <tr>\n",
       "      <th>5</th>\n",
       "      <td>Frank</td>\n",
       "      <td>70</td>\n",
       "      <td>6.8</td>\n",
       "      <td>M</td>\n",
       "      <td>80000</td>\n",
       "    </tr>\n",
       "    <tr>\n",
       "      <th>6</th>\n",
       "      <td>Greta</td>\n",
       "      <td>76</td>\n",
       "      <td>6.3</td>\n",
       "      <td>F</td>\n",
       "      <td>90000</td>\n",
       "    </tr>\n",
       "    <tr>\n",
       "      <th>7</th>\n",
       "      <td>Henry</td>\n",
       "      <td>65</td>\n",
       "      <td>6.5</td>\n",
       "      <td>M</td>\n",
       "      <td>100000</td>\n",
       "    </tr>\n",
       "    <tr>\n",
       "      <th>8</th>\n",
       "      <td>Ivy</td>\n",
       "      <td>60</td>\n",
       "      <td>6.7</td>\n",
       "      <td>F</td>\n",
       "      <td>110000</td>\n",
       "    </tr>\n",
       "    <tr>\n",
       "      <th>9</th>\n",
       "      <td>Jack</td>\n",
       "      <td>65</td>\n",
       "      <td>6.1</td>\n",
       "      <td>M</td>\n",
       "      <td>120000</td>\n",
       "    </tr>\n",
       "  </tbody>\n",
       "</table>\n",
       "</div>"
      ],
      "text/plain": [
       "       Name  Age  Height Gender  Income\n",
       "0     Alice   25     5.5      F   30000\n",
       "1       Bob   35     5.9      M   40000\n",
       "2  Charlie    45     6.2      M   50000\n",
       "3    Debbie   55     6.6      F   60000\n",
       "4    Edward   65     6.1      M   70000\n",
       "5     Frank   70     6.8      M   80000\n",
       "6     Greta   76     6.3      F   90000\n",
       "7     Henry   65     6.5      M  100000\n",
       "8       Ivy   60     6.7      F  110000\n",
       "9      Jack   65     6.1      M  120000"
      ]
     },
     "execution_count": 4,
     "metadata": {},
     "output_type": "execute_result"
    }
   ],
   "source": [
    "df"
   ]
  },
  {
   "cell_type": "code",
   "execution_count": 13,
   "id": "88ef8397",
   "metadata": {},
   "outputs": [],
   "source": [
    "male = df.loc[df[\"Gender\"] == \"M\",\"Name\"].size"
   ]
  },
  {
   "cell_type": "code",
   "execution_count": 14,
   "id": "fe0263e5",
   "metadata": {},
   "outputs": [
    {
     "data": {
      "text/plain": [
       "6"
      ]
     },
     "execution_count": 14,
     "metadata": {},
     "output_type": "execute_result"
    }
   ],
   "source": [
    "male"
   ]
  },
  {
   "cell_type": "code",
   "execution_count": 16,
   "id": "a6208bf6",
   "metadata": {},
   "outputs": [],
   "source": [
    "female = df.loc[df[\"Gender\"] == \"F\",\"Name\"].size"
   ]
  },
  {
   "cell_type": "code",
   "execution_count": 17,
   "id": "ea5bc0c4",
   "metadata": {},
   "outputs": [
    {
     "data": {
      "text/plain": [
       "4"
      ]
     },
     "execution_count": 17,
     "metadata": {},
     "output_type": "execute_result"
    }
   ],
   "source": [
    "female"
   ]
  },
  {
   "cell_type": "code",
   "execution_count": 18,
   "id": "2d82ef95",
   "metadata": {},
   "outputs": [],
   "source": [
    "ed_hi = df.loc[df[\"Name\"] == \"Edward\",\"Height\"]"
   ]
  },
  {
   "cell_type": "code",
   "execution_count": 19,
   "id": "d6d84296",
   "metadata": {},
   "outputs": [
    {
     "data": {
      "text/plain": [
       "4    6.1\n",
       "Name: Height, dtype: float64"
      ]
     },
     "execution_count": 19,
     "metadata": {},
     "output_type": "execute_result"
    }
   ],
   "source": [
    "ed_hi"
   ]
  },
  {
   "cell_type": "code",
   "execution_count": 20,
   "id": "9bb21ab0",
   "metadata": {},
   "outputs": [],
   "source": [
    "df2 = df.loc[df[\"Gender\"]==\"F\",[\"Name\"]]"
   ]
  },
  {
   "cell_type": "code",
   "execution_count": 25,
   "id": "8479707d",
   "metadata": {},
   "outputs": [],
   "source": [
    "df2.reset_index(inplace = True)"
   ]
  },
  {
   "cell_type": "code",
   "execution_count": 33,
   "id": "ac4e437e",
   "metadata": {},
   "outputs": [],
   "source": [
    "df2.drop(columns = [\"index\"],inplace = True)"
   ]
  },
  {
   "cell_type": "code",
   "execution_count": 41,
   "id": "ec6e4d88",
   "metadata": {},
   "outputs": [],
   "source": [
    "a = list(df2[\"Name\"])"
   ]
  },
  {
   "cell_type": "code",
   "execution_count": 47,
   "id": "795920a1",
   "metadata": {},
   "outputs": [
    {
     "data": {
      "text/plain": [
       "72500.0"
      ]
     },
     "execution_count": 47,
     "metadata": {},
     "output_type": "execute_result"
    }
   ],
   "source": [
    "df.query(\"Name == @a\").Income.mean()"
   ]
  },
  {
   "cell_type": "code",
   "execution_count": 48,
   "id": "a8d2004e",
   "metadata": {},
   "outputs": [],
   "source": [
    "import matplotlib.pyplot as plt\n",
    "import seaborn as sns"
   ]
  },
  {
   "cell_type": "code",
   "execution_count": 49,
   "id": "a93026d3",
   "metadata": {},
   "outputs": [
    {
     "data": {
      "text/plain": [
       "<Axes: xlabel='Age', ylabel='Income'>"
      ]
     },
     "execution_count": 49,
     "metadata": {},
     "output_type": "execute_result"
    },
    {
     "data": {
      "image/png": "[encoded data removed]",
      "text/plain": [
       "<Figure size 1500x800 with 1 Axes>"
      ]
     },
     "metadata": {},
     "output_type": "display_data"
    }
   ],
   "source": [
    "plt.figure(figsize =(15,8))\n",
    "sns.scatterplot(x = \"Age\" , y = \"Income\" , data = df)"
   ]
  },
  {
   "cell_type": "code",
   "execution_count": 52,
   "id": "c9def4b0",
   "metadata": {},
   "outputs": [],
   "source": [
    "rel = df[\"Age\"].corr(df[\"Income\"])"
   ]
  },
  {
   "cell_type": "code",
   "execution_count": 53,
   "id": "e7a2af62",
   "metadata": {},
   "outputs": [
    {
     "data": {
      "text/plain": [
       "0.7934330045449719"
      ]
     },
     "execution_count": 53,
     "metadata": {},
     "output_type": "execute_result"
    }
   ],
   "source": [
    "rel"
   ]
  },
  {
   "cell_type": "code",
   "execution_count": null,
   "id": "b17a8cc7",
   "metadata": {},
   "outputs": [],
   "source": [
    "# +VE CORRELATION"
   ]
  },
  {
   "cell_type": "code",
   "execution_count": 74,
   "id": "b52e0c16",
   "metadata": {},
   "outputs": [],
   "source": [
    "male_50 = df.loc[df[\"Gender\"] == \"M\" , [\"Income\",\"Age\"]]"
   ]
  },
  {
   "cell_type": "code",
   "execution_count": 85,
   "id": "74875e14",
   "metadata": {},
   "outputs": [],
   "source": [
    "m = male_50[male_50[\"Age\"]>50]\n",
    "mm = m[\"Income\"].mean()"
   ]
  },
  {
   "cell_type": "code",
   "execution_count": 86,
   "id": "e5bb5546",
   "metadata": {},
   "outputs": [],
   "source": [
    "female_50 = df.loc[df[\"Gender\"] == \"F\" , [\"Income\",\"Age\"]]"
   ]
  },
  {
   "cell_type": "code",
   "execution_count": 87,
   "id": "cae74312",
   "metadata": {},
   "outputs": [],
   "source": [
    "f = female_50[female_50[\"Age\"]>50]\n",
    "ff = f[\"Income\"].mean()"
   ]
  },
  {
   "cell_type": "code",
   "execution_count": 88,
   "id": "d9977777",
   "metadata": {},
   "outputs": [
    {
     "data": {
      "text/plain": [
       "86666.66666666667"
      ]
     },
     "execution_count": 88,
     "metadata": {},
     "output_type": "execute_result"
    }
   ],
   "source": [
    "ff"
   ]
  },
  {
   "cell_type": "code",
   "execution_count": 89,
   "id": "4772767c",
   "metadata": {},
   "outputs": [],
   "source": [
    "df3 = pd.DataFrame({\"Gender\": [\"M\",\"F\"] , \"Income\": [mm , ff]})"
   ]
  },
  {
   "cell_type": "code",
   "execution_count": 90,
   "id": "56edaf32",
   "metadata": {},
   "outputs": [
    {
     "data": {
      "text/html": [
       "<div>\n",
       "<style scoped>\n",
       "    .dataframe tbody tr th:only-of-type {\n",
       "        vertical-align: middle;\n",
       "    }\n",
       "\n",
       "    .dataframe tbody tr th {\n",
       "        vertical-align: top;\n",
       "    }\n",
       "\n",
       "    .dataframe thead th {\n",
       "        text-align: right;\n",
       "    }\n",
       "</style>\n",
       "<table border=\"1\" class=\"dataframe\">\n",
       "  <thead>\n",
       "    <tr style=\"text-align: right;\">\n",
       "      <th></th>\n",
       "      <th>Gender</th>\n",
       "      <th>Income</th>\n",
       "    </tr>\n",
       "  </thead>\n",
       "  <tbody>\n",
       "    <tr>\n",
       "      <th>0</th>\n",
       "      <td>M</td>\n",
       "      <td>92500.000000</td>\n",
       "    </tr>\n",
       "    <tr>\n",
       "      <th>1</th>\n",
       "      <td>F</td>\n",
       "      <td>86666.666667</td>\n",
       "    </tr>\n",
       "  </tbody>\n",
       "</table>\n",
       "</div>"
      ],
      "text/plain": [
       "  Gender        Income\n",
       "0      M  92500.000000\n",
       "1      F  86666.666667"
      ]
     },
     "execution_count": 90,
     "metadata": {},
     "output_type": "execute_result"
    }
   ],
   "source": [
    "df3"
   ]
  },
  {
   "cell_type": "code",
   "execution_count": 91,
   "id": "48c93e60",
   "metadata": {},
   "outputs": [
    {
     "data": {
      "text/plain": [
       "<Axes: xlabel='Gender', ylabel='Income'>"
      ]
     },
     "execution_count": 91,
     "metadata": {},
     "output_type": "execute_result"
    },
    {
     "data": {
      "image/png": "[encoded data removed]",
      "text/plain": [
       "<Figure size 640x480 with 1 Axes>"
      ]
     },
     "metadata": {},
     "output_type": "display_data"
    }
   ],
   "source": [
    "sns.barplot(x = \"Gender\" , y = \"Income\" , data = df3)"
   ]
  },
  {
   "cell_type": "code",
   "execution_count": null,
   "id": "44f2492c",
   "metadata": {},
   "outputs": [],
   "source": []
  }
 ],
 "metadata": {
  "kernelspec": {
   "display_name": "Python 3 (ipykernel)",
   "language": "python",
   "name": "python3"
  },
  "language_info": {
   "codemirror_mode": {
    "name": "ipython",
    "version": 3
   },
   "file_extension": ".py",
   "mimetype": "text/x-python",
   "name": "python",
   "nbconvert_exporter": "python",
   "pygments_lexer": "ipython3",
   "version": "3.11.5"
  }
 },
 "nbformat": 4,
 "nbformat_minor": 5
}
