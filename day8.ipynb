{
 "cells": [
  {
   "cell_type": "markdown",
   "id": "04e22087",
   "metadata": {},
   "source": [
    "# day8"
   ]
  },
  {
   "cell_type": "code",
   "execution_count": 2,
   "id": "0f5b59d4",
   "metadata": {},
   "outputs": [],
   "source": [
    "import numpy as np"
   ]
  },
  {
   "cell_type": "raw",
   "id": "78e81f09",
   "metadata": {},
   "source": [
    "1.Create a one-dimensional array with random integers between 0 and 20.\n",
    "The size of the array is 10. Ensure that the results are reproducible."
   ]
  },
  {
   "cell_type": "code",
   "execution_count": 3,
   "id": "b9c33a4f",
   "metadata": {},
   "outputs": [],
   "source": [
    "rng = np.random.default_rng(44)"
   ]
  },
  {
   "cell_type": "code",
   "execution_count": 4,
   "id": "285caff5",
   "metadata": {},
   "outputs": [],
   "source": [
    "arr = rng.integers(0,20,(10))"
   ]
  },
  {
   "cell_type": "code",
   "execution_count": 5,
   "id": "f09dcf04",
   "metadata": {},
   "outputs": [
    {
     "data": {
      "text/plain": [
       "array([13,  2, 16,  5, 13,  8,  1, 19, 10,  3], dtype=int64)"
      ]
     },
     "execution_count": 5,
     "metadata": {},
     "output_type": "execute_result"
    }
   ],
   "source": [
    "arr"
   ]
  },
  {
   "cell_type": "raw",
   "id": "d77912ce",
   "metadata": {},
   "source": [
    "2.Using slicing, create a subset array of 3 integers from the array you created in question 1. The first integer is at index 2, the second integer is at index 4, and the third index is at index 7."
   ]
  },
  {
   "cell_type": "code",
   "execution_count": 6,
   "id": "67815954",
   "metadata": {},
   "outputs": [],
   "source": [
    "arr2 = np.array([arr[2],arr[4],arr[7]])"
   ]
  },
  {
   "cell_type": "code",
   "execution_count": 7,
   "id": "907d161f",
   "metadata": {},
   "outputs": [
    {
     "data": {
      "text/plain": [
       "array([16, 13, 19], dtype=int64)"
      ]
     },
     "execution_count": 7,
     "metadata": {},
     "output_type": "execute_result"
    }
   ],
   "source": [
    "arr2"
   ]
  },
  {
   "cell_type": "raw",
   "id": "80a9e1c7",
   "metadata": {},
   "source": [
    "Create a two-dimensional array from the list below. Check the dimensions and shape of your array.\n"
   ]
  },
  {
   "cell_type": "code",
   "execution_count": 8,
   "id": "78525cab",
   "metadata": {},
   "outputs": [
    {
     "data": {
      "text/plain": [
       "array([[ 1,  2,  3,  4,  5],\n",
       "       [ 6,  7,  8,  9, 10],\n",
       "       [11, 12, 13, 14, 15]])"
      ]
     },
     "execution_count": 8,
     "metadata": {},
     "output_type": "execute_result"
    }
   ],
   "source": [
    "My_list = [[1, 2, 3, 4, 5], [6, 7, 8, 9, 10], [11, 12, 13, 14, 15]]\n",
    "arr3 = np.array(My_list)\n",
    "arr3"
   ]
  },
  {
   "cell_type": "code",
   "execution_count": 9,
   "id": "67ece2aa",
   "metadata": {},
   "outputs": [],
   "source": [
    "arr4 = np.reshape(arr3,(3,5))"
   ]
  },
  {
   "cell_type": "code",
   "execution_count": 10,
   "id": "b5cfbd6d",
   "metadata": {},
   "outputs": [
    {
     "data": {
      "text/plain": [
       "array([[ 1,  2,  3,  4,  5],\n",
       "       [ 6,  7,  8,  9, 10],\n",
       "       [11, 12, 13, 14, 15]])"
      ]
     },
     "execution_count": 10,
     "metadata": {},
     "output_type": "execute_result"
    }
   ],
   "source": [
    "arr4"
   ]
  },
  {
   "cell_type": "code",
   "execution_count": 11,
   "id": "c6513db7",
   "metadata": {},
   "outputs": [],
   "source": [
    "arr5 = np.array([arr4[0,2],arr4[0,4],arr4[1,2]])"
   ]
  },
  {
   "cell_type": "code",
   "execution_count": 12,
   "id": "cf43bb59",
   "metadata": {},
   "outputs": [
    {
     "data": {
      "text/plain": [
       "[3, 5, 8]"
      ]
     },
     "execution_count": 12,
     "metadata": {},
     "output_type": "execute_result"
    }
   ],
   "source": [
    "arr5.tolist()"
   ]
  },
  {
   "cell_type": "code",
   "execution_count": 13,
   "id": "f65c0700",
   "metadata": {},
   "outputs": [
    {
     "data": {
      "text/plain": [
       "1"
      ]
     },
     "execution_count": 13,
     "metadata": {},
     "output_type": "execute_result"
    }
   ],
   "source": [
    "arr5.ndim"
   ]
  },
  {
   "cell_type": "code",
   "execution_count": 14,
   "id": "57ea52de",
   "metadata": {},
   "outputs": [
    {
     "data": {
      "text/plain": [
       "(3,)"
      ]
     },
     "execution_count": 14,
     "metadata": {},
     "output_type": "execute_result"
    }
   ],
   "source": [
    "arr5.shape\n"
   ]
  },
  {
   "cell_type": "raw",
   "id": "a5fe7caf",
   "metadata": {},
   "source": [
    "Create a three-dimensional array from the nested list below:"
   ]
  },
  {
   "cell_type": "code",
   "execution_count": 15,
   "id": "a24ce30d",
   "metadata": {},
   "outputs": [],
   "source": [
    "lis1 = [[[1, 2, 3, 4, 5], [6, 7, 8, 9, 10], [11, 12, 13, 14, 15]]]\n",
    "arr6 = np.array(lis1)"
   ]
  },
  {
   "cell_type": "code",
   "execution_count": 16,
   "id": "0cce9d07",
   "metadata": {},
   "outputs": [
    {
     "data": {
      "text/plain": [
       "array([[[ 1,  2,  3,  4,  5],\n",
       "        [ 6,  7,  8,  9, 10],\n",
       "        [11, 12, 13, 14, 15]]])"
      ]
     },
     "execution_count": 16,
     "metadata": {},
     "output_type": "execute_result"
    }
   ],
   "source": [
    "arr6"
   ]
  },
  {
   "cell_type": "code",
   "execution_count": 17,
   "id": "b94b5e53",
   "metadata": {},
   "outputs": [],
   "source": [
    "arr7 = np.array([arr6[0,0,3], arr6[0,1,2], arr6[0,2,4]])"
   ]
  },
  {
   "cell_type": "code",
   "execution_count": 18,
   "id": "ae958840",
   "metadata": {},
   "outputs": [
    {
     "data": {
      "text/plain": [
       "array([ 4,  8, 15])"
      ]
     },
     "execution_count": 18,
     "metadata": {},
     "output_type": "execute_result"
    }
   ],
   "source": [
    "arr7"
   ]
  },
  {
   "cell_type": "code",
   "execution_count": 20,
   "id": "395f347a",
   "metadata": {},
   "outputs": [
    {
     "name": "stdout",
     "output_type": "stream",
     "text": [
      "[ 4  8 15]\n"
     ]
    },
    {
     "data": {
      "text/plain": [
       "NoneType"
      ]
     },
     "execution_count": 20,
     "metadata": {},
     "output_type": "execute_result"
    }
   ],
   "source": [
    "type(print(arr7))"
   ]
  },
  {
   "cell_type": "code",
   "execution_count": null,
   "id": "4c56b8d6",
   "metadata": {},
   "outputs": [],
   "source": []
  }
 ],
 "metadata": {
  "kernelspec": {
   "display_name": "Python 3 (ipykernel)",
   "language": "python",
   "name": "python3"
  },
  "language_info": {
   "codemirror_mode": {
    "name": "ipython",
    "version": 3
   },
   "file_extension": ".py",
   "mimetype": "text/x-python",
   "name": "python",
   "nbconvert_exporter": "python",
   "pygments_lexer": "ipython3",
   "version": "3.11.5"
  }
 },
 "nbformat": 4,
 "nbformat_minor": 5
}
